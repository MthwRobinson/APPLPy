{
 "cells": [
  {
   "cell_type": "code",
   "execution_count": 1,
   "metadata": {
    "collapsed": false
   },
   "outputs": [
    {
     "name": "stdout",
     "output_type": "stream",
     "text": [
      "IPython console for SymPy 1.0 (Python 2.7.12-64-bit) (ground types: python)\n",
      "\n",
      "These commands were executed:\n",
      ">>> from __future__ import division\n",
      ">>> from sympy import *\n",
      ">>> x, y, z, t = symbols('x y z t')\n",
      ">>> k, m, n = symbols('k m n', integer=True)\n",
      ">>> f, g, h = symbols('f g h', cls=Function)\n",
      ">>> init_printing()\n",
      "\n",
      "Documentation can be found at http://docs.sympy.org/1.0/\n"
     ]
    }
   ],
   "source": [
    "from sympy import *; init_session()"
   ]
  },
  {
   "cell_type": "code",
   "execution_count": 2,
   "metadata": {
    "collapsed": true
   },
   "outputs": [],
   "source": [
    "import random as rand\n",
    "import numpy as np"
   ]
  },
  {
   "cell_type": "code",
   "execution_count": 3,
   "metadata": {
    "collapsed": true
   },
   "outputs": [],
   "source": [
    "from applpy import *"
   ]
  },
  {
   "cell_type": "code",
   "execution_count": 4,
   "metadata": {
    "collapsed": true
   },
   "outputs": [],
   "source": [
    "# Example 1"
   ]
  },
  {
   "cell_type": "code",
   "execution_count": 5,
   "metadata": {
    "collapsed": false
   },
   "outputs": [
    {
     "name": "stdout",
     "output_type": "stream",
     "text": [
      "[0.88131075, 0.88124125, 0.88117425, 0.88130075, 0.88114075]\n"
     ]
    }
   ],
   "source": [
    "rand.seed(3)\n",
    "results = []\n",
    "for i in range(5):\n",
    "    nrep = 4000000\n",
    "    count = 0\n",
    "    for i in range(nrep):\n",
    "        x = sum([rand.random() for j in range(8)])\n",
    "        if x > 3 and x < 6:\n",
    "            count += 1\n",
    "    results.append(count/nrep)\n",
    "print(results)"
   ]
  },
  {
   "cell_type": "code",
   "execution_count": 6,
   "metadata": {
    "collapsed": false
   },
   "outputs": [],
   "source": [
    "n = 8\n",
    "X = UniformRV(Rational(0),Rational(1))\n",
    "Y = ConvolutionIID(X,n)"
   ]
  },
  {
   "cell_type": "code",
   "execution_count": 7,
   "metadata": {
    "collapsed": false
   },
   "outputs": [
    {
     "data": {
      "image/png": "[encoded data removed]",
      "text/latex": [
       "$$\\frac{35531}{40320}$$"
      ],
      "text/plain": [
       "35531\n",
       "─────\n",
       "40320"
      ]
     },
     "execution_count": 7,
     "metadata": {},
     "output_type": "execute_result"
    }
   ],
   "source": [
    "CDF(Y,6) - CDF(Y,3)"
   ]
  },
  {
   "cell_type": "code",
   "execution_count": 8,
   "metadata": {
    "collapsed": true
   },
   "outputs": [],
   "source": [
    "# Example 2"
   ]
  },
  {
   "cell_type": "code",
   "execution_count": 9,
   "metadata": {
    "collapsed": false
   },
   "outputs": [
    {
     "name": "stdout",
     "output_type": "stream",
     "text": [
      "continuous pdf\n",
      "for 1 <= x <= 2\n",
      "---------------------------\n",
      "  4⋅x   2⋅(x + 1)⋅log(x)   4\n",
      "- ─── + ──────────────── + ─\n",
      "   3           3           3\n",
      "---------------------------\n",
      " \n",
      " \n",
      "for 2 <= x <= 3\n",
      "---------------------------\n",
      "          ⎛ 7⋅x   14    5⋅x    ⎞    \n",
      "          ⎜ ─── + ──  - ─── - 4⎟    \n",
      "10⋅x      ⎜  3    3      3     ⎟    \n",
      "──── + log⎝2        ⋅x         ⎠ - 8\n",
      " 3                                  \n",
      "---------------------------\n",
      " \n",
      " \n",
      "for 3 <= x <= 4\n",
      "---------------------------\n",
      "         ⎛    7⋅x   2  -2⋅x         ⎞    \n",
      "         ⎜    ─── + ─  ─────        ⎟    \n",
      "         ⎜     3    3    3    -x - 2⎟    \n",
      "         ⎜16⋅2       ⋅3     ⋅x      ⎟    \n",
      "2⋅x + log⎜──────────────────────────⎟ - 4\n",
      "         ⎝            9             ⎠    \n",
      "---------------------------\n",
      " \n",
      " \n",
      "for 4 <= x <= 6\n",
      "---------------------------\n",
      "           ⎛ -7⋅x   -2⋅x   4⋅x   22⎞     \n",
      "           ⎜ ─────  ─────  ─── + ──⎟     \n",
      "           ⎜   3      3     3    3 ⎟     \n",
      "  8⋅x      ⎜2     ⋅3     ⋅x        ⎟   44\n",
      "- ─── + log⎜───────────────────────⎟ + ──\n",
      "   3       ⎝         147456        ⎠   3 \n",
      "---------------------------\n",
      " \n",
      " \n",
      "for 6 <= x <= 8\n",
      "---------------------------\n",
      "           ⎛    -4⋅x   x  x   4⎞    \n",
      "           ⎜    ─────  ─  ─ + ─⎟    \n",
      "           ⎜      3    3  3   3⎟    \n",
      "  2⋅x      ⎜81⋅2     ⋅3 ⋅x     ⎟   8\n",
      "- ─── + log⎜───────────────────⎟ + ─\n",
      "   3       ⎝        256        ⎠   3\n",
      "---------------------------\n",
      " \n",
      " \n",
      "for 8 <= x <= 12\n",
      "---------------------------\n",
      "         ⎛  x        x    ⎞    \n",
      "         ⎜  ─ + 4  - ─ - 4⎟    \n",
      "2⋅x      ⎜  3        3    ⎟    \n",
      "─── + log⎝12     ⋅x       ⎠ - 8\n",
      " 3                             \n",
      "---------------------------\n"
     ]
    }
   ],
   "source": [
    "X = TriangularRV(1,2,4)\n",
    "Y = TriangularRV(1,2,3)\n",
    "V = X*Y\n",
    "V.simplify()"
   ]
  },
  {
   "cell_type": "code",
   "execution_count": 10,
   "metadata": {
    "collapsed": false
   },
   "outputs": [
    {
     "data": {
      "text/plain": [
       "<matplotlib.text.Text at 0x7f935ffe3410>"
      ]
     },
     "execution_count": 10,
     "metadata": {},
     "output_type": "execute_result"
    }
   ],
   "source": [
    "PlotDist(V)\n",
    "plt.xlabel('v')\n",
    "plt.ylabel('f(v)')"
   ]
  },
  {
   "cell_type": "code",
   "execution_count": 12,
   "metadata": {
    "collapsed": false
   },
   "outputs": [
    {
     "name": "stdout",
     "output_type": "stream",
     "text": [
      "\\begin{cases} - \\frac{4 x}{3} + \\frac{1}{3} \\left(2 x + 2\\right) \\log{\\left (x \\right )} + 1.33333333333333 & \\text{for}\\: x \\geq 1 \\\\\\frac{10 x}{3} + \\log{\\left (2^{\\frac{7 x}{3} + 4.66666666666667} x^{- \\frac{5 x}{3} - 4} \\right )} - 8 & \\text{for}\\: x \\geq 2 \\\\2 x + \\log{\\left (\\frac{16}{9} 2^{\\frac{7 x}{3} + 0.666666666666667} \\cdot 3^{- \\frac{2 x}{3}} x^{- x - 2} \\right )} - 4 & \\text{for}\\: x \\geq 3 \\\\- \\frac{8 x}{3} + \\log{\\left (\\frac{1}{147456} 2^{- \\frac{7 x}{3}} \\cdot 3^{- \\frac{2 x}{3}} x^{\\frac{4 x}{3} + 7.33333333333333} \\right )} + 14.6666666666667 & \\text{for}\\: x \\geq 4 \\\\- \\frac{2 x}{3} + \\log{\\left (\\frac{81}{256} 2^{- \\frac{4 x}{3}} \\cdot 3^{\\frac{x}{3}} x^{\\frac{x}{3} + 1.33333333333333} \\right )} + 2.66666666666667 & \\text{for}\\: x \\geq 6 \\\\\\frac{2 x}{3} + \\log{\\left (12^{\\frac{x}{3} + 4} x^{- \\frac{x}{3} - 4} \\right )} - 8 & \\text{for}\\: x \\geq 8 \\\\0 & \\text{otherwise} \\end{cases}\n"
     ]
    }
   ],
   "source": [
    "print V.latex()"
   ]
  },
  {
   "cell_type": "code",
   "execution_count": 13,
   "metadata": {
    "collapsed": true
   },
   "outputs": [],
   "source": [
    "# Example 3 "
   ]
  },
  {
   "cell_type": "code",
   "execution_count": 14,
   "metadata": {
    "collapsed": false
   },
   "outputs": [
    {
     "name": "stdout",
     "output_type": "stream",
     "text": [
      "continuous pdf\n",
      "for 0 <= x <= oo\n",
      "---------------------------\n",
      "   -x     -x \n",
      "   ───    ───\n",
      "    2      3 \n",
      "- ℯ    + ℯ   \n",
      "---------------------------\n"
     ]
    }
   ],
   "source": [
    "X = ExponentialRV(Rational(1,2))\n",
    "Y = ExponentialRV(Rational(1,3))\n",
    "Z = X+Y\n",
    "Z.display()"
   ]
  },
  {
   "cell_type": "code",
   "execution_count": 15,
   "metadata": {
    "collapsed": true
   },
   "outputs": [],
   "source": [
    "# Example 4"
   ]
  },
  {
   "cell_type": "code",
   "execution_count": 16,
   "metadata": {
    "collapsed": false
   },
   "outputs": [
    {
     "data": {
      "image/png": "[encoded data removed]",
      "text/latex": [
       "$$\\frac{e^{x} - \\frac{1}{2}}{x e^{x}}$$"
      ],
      "text/plain": [
       "⎛ x   1⎞  -x\n",
       "⎜ℯ  - ─⎟⋅ℯ  \n",
       "⎝     2⎠    \n",
       "────────────\n",
       "     x      "
      ]
     },
     "execution_count": 16,
     "metadata": {},
     "output_type": "execute_result"
    }
   ],
   "source": [
    "x = Symbol('x',positive=True)\n",
    "X = RV([x,2*x],[0,1,oo],['continuous','hf'])\n",
    "simplify(Mean(X))"
   ]
  },
  {
   "cell_type": "code",
   "execution_count": 17,
   "metadata": {
    "collapsed": false
   },
   "outputs": [
    {
     "name": "stdout",
     "output_type": "stream",
     "text": [
      "continuous hf\n",
      "for 0 <= x <= 1\n",
      "---------------------------\n",
      "x\n",
      "---------------------------\n",
      " \n",
      " \n",
      "for 1 <= x <= oo\n",
      "---------------------------\n",
      "2⋅x\n",
      "---------------------------\n"
     ]
    }
   ],
   "source": [
    "X.display()"
   ]
  },
  {
   "cell_type": "code",
   "execution_count": 18,
   "metadata": {
    "collapsed": true
   },
   "outputs": [],
   "source": [
    "# Example 5"
   ]
  },
  {
   "cell_type": "code",
   "execution_count": 22,
   "metadata": {
    "collapsed": true
   },
   "outputs": [],
   "source": [
    "x = Symbol('x')\n",
    "X = RV([x/21],[1,6],['Discrete','pdf'])\n",
    "Y = ConvolutionIID(X,5)"
   ]
  },
  {
   "cell_type": "code",
   "execution_count": 23,
   "metadata": {
    "collapsed": false
   },
   "outputs": [
    {
     "data": {
      "image/png": "[encoded data removed]",
      "text/latex": [
       "$$\\left [ \\frac{65}{3}, \\quad \\frac{100}{9}, \\quad - \\frac{13}{50}, \\quad \\frac{1431}{500}\\right ]$$"
      ],
      "text/plain": [
       "⎡             -13   1431⎤\n",
       "⎢65/3, 100/9, ────, ────⎥\n",
       "⎣              50   500 ⎦"
      ]
     },
     "execution_count": 23,
     "metadata": {},
     "output_type": "execute_result"
    }
   ],
   "source": [
    "[Mean(Y),Variance(Y),Skewness(Y),Kurtosis(Y)]"
   ]
  },
  {
   "cell_type": "code",
   "execution_count": null,
   "metadata": {
    "collapsed": true
   },
   "outputs": [],
   "source": []
  },
  {
   "cell_type": "code",
   "execution_count": 24,
   "metadata": {
    "collapsed": true
   },
   "outputs": [],
   "source": [
    "# Example 3.1"
   ]
  },
  {
   "cell_type": "code",
   "execution_count": 72,
   "metadata": {
    "collapsed": false
   },
   "outputs": [],
   "source": [
    "theta = Symbol('theta',positive=True)\n",
    "X = ExponentialRV(theta)\n",
    "Y = ExponentialRV(Rational(1,100))\n",
    "data = [97, 51, 11, 4, 14, 18, 142, 68, 77, 80, 1, 16, 106, 206,\n",
    "82, 54, 31, 216, 46, 111, 39, 63, 18, 191, 18, 163, 24]\n",
    "#P = Posterior(X,Y,data,theta)"
   ]
  },
  {
   "cell_type": "code",
   "execution_count": null,
   "metadata": {
    "collapsed": false
   },
   "outputs": [],
   "source": [
    "P"
   ]
  },
  {
   "cell_type": "code",
   "execution_count": 26,
   "metadata": {
    "collapsed": false
   },
   "outputs": [
    {
     "data": {
      "image/png": "[encoded data removed]",
      "text/latex": [
       "$$\\left [ 0.00972185579651469, \\quad 0.018189624855718\\right ]$$"
      ],
      "text/plain": [
       "[0.00972185579651469, 0.018189624855718]"
      ]
     },
     "execution_count": 26,
     "metadata": {},
     "output_type": "execute_result"
    }
   ],
   "source": [
    "CredibleSet(P,0.10)"
   ]
  },
  {
   "cell_type": "code",
   "execution_count": 27,
   "metadata": {
    "collapsed": false
   },
   "outputs": [
    {
     "data": {
      "image/png": "[encoded data removed]",
      "text/latex": [
       "$$\\frac{28}{2047}$$"
      ],
      "text/plain": [
       " 28 \n",
       "────\n",
       "2047"
      ]
     },
     "execution_count": 27,
     "metadata": {},
     "output_type": "execute_result"
    }
   ],
   "source": [
    "Mean(P)"
   ]
  },
  {
   "cell_type": "code",
   "execution_count": 28,
   "metadata": {
    "collapsed": false
   },
   "outputs": [
    {
     "data": {
      "image/png": "[encoded data removed]",
      "text/latex": [
       "$$0.0136785539814362$$"
      ],
      "text/plain": [
       "0.0136785539814362"
      ]
     },
     "execution_count": 28,
     "metadata": {},
     "output_type": "execute_result"
    }
   ],
   "source": [
    "Mean(P).evalf()"
   ]
  },
  {
   "cell_type": "code",
   "execution_count": 34,
   "metadata": {
    "collapsed": true
   },
   "outputs": [],
   "source": [
    "X = BinomialRV(12,theta)\n",
    "Y = TriangularRV(Rational(0),Rational(1,2),Rational(1))\n",
    "data = [5,6,3,2,5]\n",
    "P = Posterior(X,Y,data,theta)"
   ]
  },
  {
   "cell_type": "code",
   "execution_count": 35,
   "metadata": {
    "collapsed": false
   },
   "outputs": [
    {
     "name": "stdout",
     "output_type": "stream",
     "text": [
      "continuous pdf\n",
      "for 0 <= x <= 1/2\n",
      "---------------------------\n",
      "                                       22        39 \n",
      "-543985284099935107948831513667174400⋅x  ⋅(x - 1)   \n",
      "────────────────────────────────────────────────────\n",
      "                 395821499369962291                 \n",
      "---------------------------\n",
      " \n",
      " \n",
      "for 1/2 <= x <= 1\n",
      "---------------------------\n",
      "                                      21        40\n",
      "543985284099935107948831513667174400⋅x  ⋅(x - 1)  \n",
      "──────────────────────────────────────────────────\n",
      "                395821499369962291                \n",
      "---------------------------\n"
     ]
    }
   ],
   "source": [
    "P.display()"
   ]
  },
  {
   "cell_type": "code",
   "execution_count": 36,
   "metadata": {
    "collapsed": true
   },
   "outputs": [],
   "source": [
    "# Example 3.2"
   ]
  },
  {
   "cell_type": "code",
   "execution_count": 59,
   "metadata": {
    "collapsed": false
   },
   "outputs": [
    {
     "data": {
      "image/png": "[encoded data removed]",
      "text/latex": [
       "$$42.3912302251$$"
      ],
      "text/plain": [
       "42.3912302251"
      ]
     },
     "execution_count": 59,
     "metadata": {},
     "output_type": "execute_result"
    }
   ],
   "source": [
    "rand.seed(3)\n",
    "treatment = [16,23,38,94,99,141,197]\n",
    "n = len(treatment)\n",
    "B = 50\n",
    "x = []\n",
    "for i in range(B):\n",
    "    samp = [rand.sample(treatment,1)[0] for i in range(n)]\n",
    "    med = np.median(samp)\n",
    "    x.append(med)\n",
    "np.std(x)"
   ]
  },
  {
   "cell_type": "code",
   "execution_count": 60,
   "metadata": {
    "collapsed": false
   },
   "outputs": [
    {
     "data": {
      "image/png": "[encoded data removed]",
      "text/latex": [
       "$$\\left ( \\frac{2 \\sqrt{242712738519382}}{823543}, \\quad 37.834674393866\\right )$$"
      ],
      "text/plain": [
       "⎛2⋅√242712738519382                 ⎞\n",
       "⎜──────────────────, 37.834674393866⎟\n",
       "⎝      823543                       ⎠"
      ]
     },
     "execution_count": 60,
     "metadata": {},
     "output_type": "execute_result"
    }
   ],
   "source": [
    "treatment = [16,23,38,94,99,141,197]\n",
    "X = BootstrapRV(treatment)\n",
    "Y = OrderStat(X,7,4)\n",
    "sqrt(Variance(Y)),sqrt(Variance(Y)).evalf()"
   ]
  },
  {
   "cell_type": "code",
   "execution_count": 61,
   "metadata": {
    "collapsed": true
   },
   "outputs": [],
   "source": [
    "# Example 3.3"
   ]
  },
  {
   "cell_type": "code",
   "execution_count": 62,
   "metadata": {
    "collapsed": false
   },
   "outputs": [],
   "source": [
    "X = MarkovChain(P = [ [Rational(45,100), Rational(48,100),Rational(7,100)],\n",
    "                    [Rational(5,100),Rational(70,100),Rational(25,100)],\n",
    "                    [Rational(1,100),Rational(50,100),Rational(49,100)]],\n",
    "                init = [Rational(5,100),Rational(80,100),Rational(15,100)],\n",
    "                states = ['stormy','cloudy','sunny'])"
   ]
  },
  {
   "cell_type": "code",
   "execution_count": 63,
   "metadata": {
    "collapsed": false
   },
   "outputs": [
    {
     "name": "stdout",
     "output_type": "stream",
     "text": [
      "The transition probability matrix:\n",
      "       stormy cloudy   sunny\n",
      "stormy   9/20  12/25   7/100\n",
      "cloudy   1/20   7/10     1/4\n",
      "sunny   1/100    1/2  49/100\n",
      "----------------------------------------\n",
      "The initial system state:\n",
      "        Prob\n",
      "stormy  1/20\n",
      "cloudy   4/5\n",
      "sunny   3/20\n"
     ]
    }
   ],
   "source": [
    "X.display()"
   ]
  },
  {
   "cell_type": "code",
   "execution_count": 64,
   "metadata": {
    "collapsed": false
   },
   "outputs": [
    {
     "name": "stdout",
     "output_type": "stream",
     "text": [
      "The steady state probabilities are:\n",
      "             Prob\n",
      "stormy     35/561\n",
      "cloudy  1399/2244\n",
      "sunny     235/748\n"
     ]
    }
   ],
   "source": [
    "X.display(option='steady state',method ='rational')"
   ]
  },
  {
   "cell_type": "code",
   "execution_count": 65,
   "metadata": {
    "collapsed": false
   },
   "outputs": [
    {
     "data": {
      "image/png": "[encoded data removed]",
      "text/latex": [
       "$$\\frac{9}{100}$$"
      ],
      "text/plain": [
       "9/100"
      ]
     },
     "execution_count": 65,
     "metadata": {},
     "output_type": "execute_result"
    }
   ],
   "source": [
    "X.probability([(3,'stormy')],given=[(1,'cloudy'),(0,'sunny')],method='rational')"
   ]
  },
  {
   "cell_type": "code",
   "execution_count": 66,
   "metadata": {
    "collapsed": false
   },
   "outputs": [
    {
     "data": {
      "image/png": "[encoded data removed]",
      "text/latex": [
       "$$\\frac{974185141}{1562500000}$$"
      ],
      "text/plain": [
       "974185141 \n",
       "──────────\n",
       "1562500000"
      ]
     },
     "execution_count": 66,
     "metadata": {},
     "output_type": "execute_result"
    }
   ],
   "source": [
    "X.probability([(5,'cloudy')],method='rational')"
   ]
  },
  {
   "cell_type": "code",
   "execution_count": 1,
   "metadata": {
    "collapsed": true
   },
   "outputs": [],
   "source": [
    "# Example 3.4"
   ]
  },
  {
   "cell_type": "code",
   "execution_count": 44,
   "metadata": {
    "collapsed": false
   },
   "outputs": [],
   "source": [
    "Y = UniformRV(0,1/2)"
   ]
  },
  {
   "cell_type": "code",
   "execution_count": 45,
   "metadata": {
    "collapsed": false
   },
   "outputs": [],
   "source": [
    "A = 1 - exp(-2*y)\n",
    "B = exp(-2*y) - 1/2\n",
    "C = Rational(1,2) - exp(-2* (1-y))"
   ]
  },
  {
   "cell_type": "code",
   "execution_count": 46,
   "metadata": {
    "collapsed": false
   },
   "outputs": [],
   "source": [
    "ys = solve(B-C,y)[0].evalf()\n",
    "yss = solve(A-C,y)[3].evalf()"
   ]
  },
  {
   "cell_type": "code",
   "execution_count": 47,
   "metadata": {
    "collapsed": false
   },
   "outputs": [],
   "source": [
    "g = [[A,B,C],[0,ys,yss,0.5]] "
   ]
  },
  {
   "cell_type": "code",
   "execution_count": null,
   "metadata": {
    "collapsed": false
   },
   "outputs": [],
   "source": []
  },
  {
   "cell_type": "code",
   "execution_count": 29,
   "metadata": {
    "collapsed": true
   },
   "outputs": [],
   "source": [
    "# Example 3.5"
   ]
  },
  {
   "cell_type": "code",
   "execution_count": 73,
   "metadata": {
    "collapsed": false
   },
   "outputs": [],
   "source": [
    "x=Symbol('x')\n",
    "X1 = BinomialRV(23, Rational(21,23))\n",
    "X1 = Transform(X1,[[x/23],[0,23]])\n",
    "X2 = BinomialRV(28,Rational(27,28))\n",
    "X2 = Transform(X2,[[x/28],[0,28]])\n",
    "X3 = BinomialRV(84,Rational(82,84))\n",
    "X3 = Transform(X3,[[x/84],[0,84]])"
   ]
  },
  {
   "cell_type": "code",
   "execution_count": 74,
   "metadata": {
    "collapsed": false
   },
   "outputs": [],
   "source": [
    "T = X1*X2*X3"
   ]
  },
  {
   "cell_type": "code",
   "execution_count": 75,
   "metadata": {
    "collapsed": false
   },
   "outputs": [
    {
     "data": {
      "image/png": "[encoded data removed]",
      "text/latex": [
       "$$\\frac{6723}{9016}$$"
      ],
      "text/plain": [
       "6723\n",
       "────\n",
       "9016"
      ]
     },
     "execution_count": 75,
     "metadata": {},
     "output_type": "execute_result"
    }
   ],
   "source": [
    "IDF(T,0.05)"
   ]
  },
  {
   "cell_type": "code",
   "execution_count": 47,
   "metadata": {
    "collapsed": true
   },
   "outputs": [],
   "source": [
    "# Example 3.6"
   ]
  },
  {
   "cell_type": "code",
   "execution_count": 76,
   "metadata": {
    "collapsed": true
   },
   "outputs": [],
   "source": [
    "theta = Symbol('theta',positive=True)\n",
    "mu = Symbol('mu',positive=True)\n",
    "X = ExponentialRV(theta)\n",
    "Y = ExponentialRV(mu)"
   ]
  },
  {
   "cell_type": "code",
   "execution_count": 77,
   "metadata": {
    "collapsed": true
   },
   "outputs": [],
   "source": [
    "T = Queue(X,Y,4,0,1)"
   ]
  },
  {
   "cell_type": "code",
   "execution_count": 78,
   "metadata": {
    "collapsed": false
   },
   "outputs": [
    {
     "name": "stdout",
     "output_type": "stream",
     "text": [
      "continuous pdf\n",
      "for 0 <= x <= oo\n",
      "---------------------------\n",
      " -3.0        -40.0 ⎛ 4.0        30.0 ⎛       2.0  3        5.0        2       \n",
      "μ    ⋅(μ + θ)     ⋅⎝μ   ⋅(μ + θ)    ⋅⎝- 4.0⋅μ   ⋅θ ⋅(μ + θ)    - 2.0⋅θ ⋅(μ + θ\n",
      "──────────────────────────────────────────────────────────────────────────────\n",
      "                                                                              \n",
      "\n",
      " 6.0 ⎛ 1.0      2.0⎞                9.0              10.0⎞      5.0           \n",
      ")   ⋅⎝μ   ⋅θ + μ   ⎠ - 2.0⋅θ⋅(μ + θ)    + 2.0⋅(μ + θ)    ⎠ + 2⋅μ   ⋅θ⋅x⋅(μ + θ\n",
      "──────────────────────────────────────────────────────────────────────────────\n",
      "                                                                              \n",
      "\n",
      " 21.0 ⎛       1.0  3        14.0    2.0          15.0        2        13.0 ⎛ 2\n",
      ")    ⋅⎝- 1.0⋅μ   ⋅θ ⋅(μ + θ)     + μ   ⋅θ⋅(μ + θ)     + 1.0⋅θ ⋅(μ + θ)    ⋅⎝μ \n",
      "──────────────────────────────────────────────────────────────────────────────\n",
      "                                                                2             \n",
      "\n",
      ".0      3.0⎞     ⎛ 1.0        ⎞        16.0          18.0⎞                    \n",
      "  ⋅θ + μ   ⎠ - θ⋅⎝μ    + 1.0⋅θ⎠⋅(μ + θ)     + (μ + θ)    ⎠ + 0.333333333333333\n",
      "──────────────────────────────────────────────────────────────────────────────\n",
      "                                                                              \n",
      "\n",
      "  7.0  3  3        37.0    2  2        32.0 ⎛ 5.0        3.0 ⎛ 2        2.0   \n",
      "⋅μ   ⋅θ ⋅x ⋅(μ + θ)     + θ ⋅x ⋅(μ + θ)    ⋅⎝μ   ⋅(μ + θ)   ⋅⎝μ ⋅(μ + θ)    + \n",
      "──────────────────────────────────────────────────────────────────────────────\n",
      "                                                                              \n",
      "\n",
      "     2.0          ⎞        7.0          4.0⎞⎞  -μ⋅x\n",
      "1.0⋅μ   ⋅θ⋅(μ + θ)⎠ + 1.0⋅μ   ⋅θ⋅(μ + θ)   ⎠⎠⋅ℯ    \n",
      "───────────────────────────────────────────────────\n",
      "                                                   \n",
      "---------------------------\n"
     ]
    }
   ],
   "source": [
    "T.simplify()"
   ]
  },
  {
   "cell_type": "code",
   "execution_count": 79,
   "metadata": {
    "collapsed": false
   },
   "outputs": [
    {
     "data": {
      "image/png": "[encoded data removed]",
      "text/latex": [
       "$$\\frac{1}{\\mu \\left(\\mu + \\theta\\right)^{22.0}} \\left(1.0 \\mu \\theta^{3} \\left(\\mu^{1.0} + \\theta\\right) \\left(\\mu + \\theta\\right)^{17.0} + 2.0 \\mu \\theta^{3} \\left(\\mu + \\theta\\right)^{16.0} \\left(\\mu^{1.0} \\theta + \\mu^{2.0}\\right) + \\mu \\theta^{2} \\left(\\mu + \\theta\\right)^{18.0} \\left(1.0 \\mu^{1.0} + 2.0 \\theta\\right) + \\mu \\theta^{2} \\left(\\mu + \\theta\\right)^{19.0} + 2.0 \\theta^{3} \\left(\\mu + \\theta\\right)^{19.0} + 1.0 \\theta \\left(\\mu + \\theta\\right)^{21.0} + 1.0 \\left(\\mu + \\theta\\right)^{22.0}\\right)$$"
      ],
      "text/plain": [
       "       -22.0 ⎛       3 ⎛ 1.0    ⎞        17.0          3        16.0 ⎛ 1.0    \n",
       "(μ + θ)     ⋅⎝1.0⋅μ⋅θ ⋅⎝μ    + θ⎠⋅(μ + θ)     + 2.0⋅μ⋅θ ⋅(μ + θ)    ⋅⎝μ   ⋅θ +\n",
       "──────────────────────────────────────────────────────────────────────────────\n",
       "                                                                              \n",
       "\n",
       "  2.0⎞      2        18.0 ⎛     1.0        ⎞      2        19.0        3      \n",
       " μ   ⎠ + μ⋅θ ⋅(μ + θ)    ⋅⎝1.0⋅μ    + 2.0⋅θ⎠ + μ⋅θ ⋅(μ + θ)     + 2.0⋅θ ⋅(μ + \n",
       "──────────────────────────────────────────────────────────────────────────────\n",
       "                      μ                                                       \n",
       "\n",
       "  19.0                21.0              22.0⎞\n",
       "θ)     + 1.0⋅θ⋅(μ + θ)     + 1.0⋅(μ + θ)    ⎠\n",
       "─────────────────────────────────────────────\n",
       "                                             "
      ]
     },
     "execution_count": 79,
     "metadata": {},
     "output_type": "execute_result"
    }
   ],
   "source": [
    "Mean(T)"
   ]
  },
  {
   "cell_type": "code",
   "execution_count": 80,
   "metadata": {
    "collapsed": false
   },
   "outputs": [
    {
     "data": {
      "image/png": "[encoded data removed]",
      "text/latex": [
       "$$\\frac{1}{\\mu^{11.0} \\left(\\mu + \\theta\\right)^{75.0}} \\left(14.0 \\mu^{9.0} \\theta^{3} \\left(\\mu + \\theta\\right)^{72.0} + 4.0 \\mu^{9.0} \\theta \\left(\\mu + \\theta\\right)^{74.0} - \\mu^{9.0} \\left(\\mu + \\theta\\right)^{31.0} \\left(1.0 \\mu \\theta^{3} \\left(\\mu^{1.0} + \\theta\\right) \\left(\\mu + \\theta\\right)^{17.0} + 2.0 \\mu \\theta^{3} \\left(\\mu + \\theta\\right)^{16.0} \\left(\\mu^{1.0} \\theta + \\mu^{2.0}\\right) + \\mu \\theta^{2} \\left(\\mu + \\theta\\right)^{18.0} \\left(1.0 \\mu^{1.0} + 2.0 \\theta\\right) + \\mu \\theta^{2} \\left(\\mu + \\theta\\right)^{19.0} + 2.0 \\theta^{3} \\left(\\mu + \\theta\\right)^{19.0} + 1.0 \\theta \\left(\\mu + \\theta\\right)^{21.0} + 1.0 \\left(\\mu + \\theta\\right)^{22.0}\\right)^{2} + 2.0 \\mu^{9.0} \\left(\\mu + \\theta\\right)^{75.0} + 6.0 \\mu^{10.0} \\theta^{4} \\left(\\mu + \\theta\\right)^{70.0} + 10.0 \\mu^{10.0} \\theta^{3} \\left(\\mu + \\theta\\right)^{71.0} + 6 \\mu^{10.0} \\theta^{2} \\left(\\mu + \\theta\\right)^{72.0} + 6.0 \\mu^{11.0} \\theta^{3} \\left(\\mu^{1.0} + \\theta\\right) \\left(\\mu + \\theta\\right)^{69.0} + 8.0 \\mu^{11.0} \\theta^{3} \\left(\\mu + \\theta\\right)^{70.0} + 4.0 \\mu^{11.0} \\theta^{2} \\left(\\mu + \\theta\\right)^{71.0}\\right)$$"
      ],
      "text/plain": [
       "                    ⎛                                                         \n",
       " -11.0        -75.0 ⎜      9.0  3        72.0        9.0          74.0    9.0 \n",
       "μ     ⋅(μ + θ)     ⋅⎝14.0⋅μ   ⋅θ ⋅(μ + θ)     + 4.0⋅μ   ⋅θ⋅(μ + θ)     - μ   ⋅\n",
       "\n",
       "                                                                              \n",
       "       31.0 ⎛       3 ⎛ 1.0    ⎞        17.0          3        16.0 ⎛ 1.0     \n",
       "(μ + θ)    ⋅⎝1.0⋅μ⋅θ ⋅⎝μ    + θ⎠⋅(μ + θ)     + 2.0⋅μ⋅θ ⋅(μ + θ)    ⋅⎝μ   ⋅θ + \n",
       "\n",
       "                                                                              \n",
       " 2.0⎞      2        18.0 ⎛     1.0        ⎞      2        19.0        3       \n",
       "μ   ⎠ + μ⋅θ ⋅(μ + θ)    ⋅⎝1.0⋅μ    + 2.0⋅θ⎠ + μ⋅θ ⋅(μ + θ)     + 2.0⋅θ ⋅(μ + θ\n",
       "\n",
       "                                            2                                 \n",
       " 19.0                21.0              22.0⎞         9.0        75.0        10\n",
       ")     + 1.0⋅θ⋅(μ + θ)     + 1.0⋅(μ + θ)    ⎠  + 2.0⋅μ   ⋅(μ + θ)     + 6.0⋅μ  \n",
       "\n",
       "                                                                              \n",
       ".0  4        70.0         10.0  3        71.0      10.0  2        72.0        \n",
       "  ⋅θ ⋅(μ + θ)     + 10.0⋅μ    ⋅θ ⋅(μ + θ)     + 6⋅μ    ⋅θ ⋅(μ + θ)     + 6.0⋅μ\n",
       "\n",
       "                                                                              \n",
       "11.0  3 ⎛ 1.0    ⎞        69.0        11.0  3        70.0        11.0  2      \n",
       "    ⋅θ ⋅⎝μ    + θ⎠⋅(μ + θ)     + 8.0⋅μ    ⋅θ ⋅(μ + θ)     + 4.0⋅μ    ⋅θ ⋅(μ + \n",
       "\n",
       "      ⎞\n",
       "  71.0⎟\n",
       "θ)    ⎠"
      ]
     },
     "execution_count": 80,
     "metadata": {},
     "output_type": "execute_result"
    }
   ],
   "source": [
    "Variance(T)"
   ]
  },
  {
   "cell_type": "code",
   "execution_count": 81,
   "metadata": {
    "collapsed": true
   },
   "outputs": [],
   "source": [
    "# Example 3.8"
   ]
  },
  {
   "cell_type": "code",
   "execution_count": 82,
   "metadata": {
    "collapsed": false
   },
   "outputs": [
    {
     "data": {
      "image/png": "[encoded data removed]",
      "text/latex": [
       "$$\\frac{2 \\sqrt{6}}{3 \\sqrt{\\pi}}$$"
      ],
      "text/plain": [
       "2⋅√6\n",
       "────\n",
       "3⋅√π"
      ]
     },
     "execution_count": 82,
     "metadata": {},
     "output_type": "execute_result"
    }
   ],
   "source": [
    "Mean(ChiRV(3))/sqrt(3)"
   ]
  },
  {
   "cell_type": "code",
   "execution_count": 83,
   "metadata": {
    "collapsed": false
   },
   "outputs": [
    {
     "data": {
      "image/png": "[encoded data removed]",
      "text/latex": [
       "$$\\frac{39614081257132168796771975168 \\sqrt{22}}{105095150568296034723763017975 \\sqrt{\\pi}}$$"
      ],
      "text/plain": [
       "39614081257132168796771975168⋅√22\n",
       "─────────────────────────────────\n",
       "105095150568296034723763017975⋅√π"
      ]
     },
     "execution_count": 83,
     "metadata": {},
     "output_type": "execute_result"
    }
   ],
   "source": [
    "Mean(ChiRV(99))/sqrt(99)"
   ]
  },
  {
   "cell_type": "code",
   "execution_count": 60,
   "metadata": {
    "collapsed": false
   },
   "outputs": [],
   "source": [
    "# Example 3.9"
   ]
  },
  {
   "cell_type": "code",
   "execution_count": 71,
   "metadata": {
    "collapsed": false
   },
   "outputs": [
    {
     "name": "stdout",
     "output_type": "stream",
     "text": [
      "continuous pdf\n",
      "for -1 <= x <= 0\n",
      "---------------------------\n",
      "x + 1\n",
      "---------------------------\n",
      " \n",
      " \n",
      "for 0 <= x <= 1\n",
      "---------------------------\n",
      "-x + 1\n",
      "---------------------------\n"
     ]
    }
   ],
   "source": [
    "U1 = UniformRV(0,Rational(1))\n",
    "U2 = UniformRV(0,Rational(1))\n",
    "V1 = U1 - U2\n",
    "V1.simplify()"
   ]
  },
  {
   "cell_type": "code",
   "execution_count": 72,
   "metadata": {
    "collapsed": true
   },
   "outputs": [],
   "source": [
    "g1 = [[x*x,x*x],[-oo,0,oo]]\n",
    "V2 = Transform(V1,g1)"
   ]
  },
  {
   "cell_type": "code",
   "execution_count": 73,
   "metadata": {
    "collapsed": false
   },
   "outputs": [
    {
     "name": "stdout",
     "output_type": "stream",
     "text": [
      "continuous pdf\n",
      "for 0 <= x <= 1\n",
      "---------------------------\n",
      "     1 \n",
      "-1 + ──\n",
      "     √x\n",
      "---------------------------\n"
     ]
    }
   ],
   "source": [
    "V2.display()"
   ]
  },
  {
   "cell_type": "code",
   "execution_count": 104,
   "metadata": {
    "collapsed": false
   },
   "outputs": [],
   "source": [
    "#V3 = V2+V2"
   ]
  },
  {
   "cell_type": "code",
   "execution_count": 70,
   "metadata": {
    "collapsed": false
   },
   "outputs": [
    {
     "name": "stdout",
     "output_type": "stream",
     "text": [
      "continuous pdf\n",
      "for 0 <= x <= 1\n",
      "---------------------------\n",
      "√x⋅(-log(x) + 4) - log(x) - 4\n",
      "─────────────────────────────\n",
      "              √x             \n",
      "---------------------------\n"
     ]
    }
   ],
   "source": [
    "V3.display()"
   ]
  },
  {
   "cell_type": "code",
   "execution_count": 73,
   "metadata": {
    "collapsed": true
   },
   "outputs": [],
   "source": [
    "g2 = [[sqrt(x)],[0,2]]\n",
    "V4 = Transform(V3,g2)"
   ]
  },
  {
   "cell_type": "code",
   "execution_count": 75,
   "metadata": {
    "collapsed": false
   },
   "outputs": [
    {
     "name": "stdout",
     "output_type": "stream",
     "text": [
      "continuous pdf\n",
      "for 0 <= x <= 1\n",
      "---------------------------\n",
      "-4⋅x⋅log(x) + 8⋅x - 4⋅log(x) - 8\n",
      "---------------------------\n"
     ]
    }
   ],
   "source": [
    "V4.simplify()"
   ]
  },
  {
   "cell_type": "code",
   "execution_count": 78,
   "metadata": {
    "collapsed": true
   },
   "outputs": [],
   "source": [
    "# Example 3.13"
   ]
  },
  {
   "cell_type": "code",
   "execution_count": 84,
   "metadata": {
    "collapsed": true
   },
   "outputs": [],
   "source": [
    "X = WeibullRV(2,2)"
   ]
  },
  {
   "cell_type": "code",
   "execution_count": 60,
   "metadata": {
    "collapsed": false
   },
   "outputs": [],
   "source": [
    "alist = X.variate(n=10)\n",
    "blist = X.variate(n=12)\n",
    "clist = X.variate(n=17)"
   ]
  },
  {
   "cell_type": "code",
   "execution_count": 4,
   "metadata": {
    "collapsed": false
   },
   "outputs": [],
   "source": [
    "alist = [0.2135,0.3153,0.3841,0.3946,0.4707,0.5107,0.5783,0.5960,0.6404,0.7601]\n",
    "blist = [0.0482,0.0945,0.1149,0.2441,0.287,0.311,0.3362,0.3924,0.4166,0.4194,0.6217,0.698]\n",
    "clist = [0.0474,0.2732,0.2828,0.2952,0.337,0.3627,0.3698,0.4348,0.4968,0.5061,0.5093,\n",
    "         0.5211,0.5266,0.6654,0.6951,0.6975,0.7694]"
   ]
  },
  {
   "cell_type": "code",
   "execution_count": 5,
   "metadata": {
    "collapsed": true
   },
   "outputs": [],
   "source": [
    "alist = [0.2135, 0.3153, 0.3841, 0.3946, 0.4707, 0.5107, 0.5783, 0.5960,\n",
    "           0.6404,0.7601]\n",
    "blist = [0.0482, 0.0945, 0.1149, 0.2441, 0.287, 0.311, 0.3362, 0.3924,\n",
    "           0.4166, 0.4194, 0.6217, 0.698]\n",
    "clist = [0.0474, 0.2732, 0.2828, 0.2952, 0.337, 0.3627, 0.3698, 0.4348,\n",
    "           0.4968, 0.5061, 0.5093, 0.5211, 0.5266, 0.6654, 0.6951, 0.6975,\n",
    "           0.7694]"
   ]
  },
  {
   "cell_type": "code",
   "execution_count": 6,
   "metadata": {
    "collapsed": true
   },
   "outputs": [],
   "source": [
    "A = BootstrapRV(alist)\n",
    "B = BootstrapRV(blist)\n",
    "C = BootstrapRV(clist)"
   ]
  },
  {
   "cell_type": "code",
   "execution_count": 7,
   "metadata": {
    "collapsed": true
   },
   "outputs": [],
   "source": [
    "Sstar = Minimum( MaximumIID(A,2),\n",
    "               Minimum(MaximumIID(B,2),\n",
    "                      MaximumIID(C,2)))\n",
    "Sstar1 = Minimum(MaximumIID(A,3),\n",
    "                 MaximumIID(B,3),\n",
    "                 MaximumIID(C,3))\n",
    "S = Minimum(MaximumIID(A,2),\n",
    "           MaximumIID(B,2),\n",
    "           MaximumIID(C,2))"
   ]
  },
  {
   "cell_type": "code",
   "execution_count": 8,
   "metadata": {
    "collapsed": false
   },
   "outputs": [
    {
     "data": {
      "image/png": "[encoded data removed]",
      "text/latex": [
       "$$\\left ( 0.375442473087274, \\quad 0.438389764206852, \\quad 0.375442473087274\\right )$$"
      ],
      "text/plain": [
       "(0.375442473087274, 0.438389764206852, 0.375442473087274)"
      ]
     },
     "execution_count": 8,
     "metadata": {},
     "output_type": "execute_result"
    }
   ],
   "source": [
    "Mean(Sstar),Mean(Sstar1), Mean(S)"
   ]
  },
  {
   "cell_type": "code",
   "execution_count": null,
   "metadata": {
    "collapsed": false
   },
   "outputs": [],
   "source": [
    "n = 2\n",
    "target = 1.05\n",
    "m = Mean(Sstar1)\n",
    "mux = m\n",
    "while (mux < target * m):\n",
    "    n+=1\n",
    "    System = Minimum(MaximumIID(A,n),\n",
    "                 MaximumIID(B,3),\n",
    "                 MaximumIID(C,3))\n",
    "    mux = Mean(System)\n",
    "    print n,mux\n",
    "print n"
   ]
  },
  {
   "cell_type": "code",
   "execution_count": null,
   "metadata": {
    "collapsed": true
   },
   "outputs": [],
   "source": []
  }
 ],
 "metadata": {
  "kernelspec": {
   "display_name": "Python [Root]",
   "language": "python",
   "name": "Python [Root]"
  },
  "language_info": {
   "codemirror_mode": {
    "name": "ipython",
    "version": 2
   },
   "file_extension": ".py",
   "mimetype": "text/x-python",
   "name": "python",
   "nbconvert_exporter": "python",
   "pygments_lexer": "ipython2",
   "version": "2.7.12"
  }
 },
 "nbformat": 4,
 "nbformat_minor": 0
}
