{
 "cells": [
  {
   "cell_type": "code",
   "execution_count": 1,
   "metadata": {
    "collapsed": false
   },
   "outputs": [
    {
     "name": "stdout",
     "output_type": "stream",
     "text": [
      "IPython console for SymPy 0.7.7.dev (Python 2.7.10-64-bit) (ground types: python)\n",
      "\n",
      "These commands were executed:\n",
      ">>> from __future__ import division\n",
      ">>> from sympy import *\n",
      ">>> x, y, z, t = symbols('x y z t')\n",
      ">>> k, m, n = symbols('k m n', integer=True)\n",
      ">>> f, g, h = symbols('f g h', cls=Function)\n",
      ">>> init_printing()\n",
      "\n",
      "Documentation can be found at http://docs.sympy.org/dev\n"
     ]
    }
   ],
   "source": [
    "from sympy import *; init_session()"
   ]
  },
  {
   "cell_type": "code",
   "execution_count": 32,
   "metadata": {
    "collapsed": true
   },
   "outputs": [],
   "source": [
    "import random as rand\n",
    "import numpy as np"
   ]
  },
  {
   "cell_type": "code",
   "execution_count": 3,
   "metadata": {
    "collapsed": true
   },
   "outputs": [],
   "source": [
    "from applpy import *"
   ]
  },
  {
   "cell_type": "code",
   "execution_count": 4,
   "metadata": {
    "collapsed": true
   },
   "outputs": [],
   "source": [
    "# Example 1"
   ]
  },
  {
   "cell_type": "code",
   "execution_count": 4,
   "metadata": {
    "collapsed": false
   },
   "outputs": [
    {
     "name": "stdout",
     "output_type": "stream",
     "text": [
      "[0.88131075, 0.88124125, 0.88117425, 0.88130075, 0.88114075]\n"
     ]
    }
   ],
   "source": [
    "rand.seed(3)\n",
    "results = []\n",
    "for i in range(5):\n",
    "    nrep = 4000000\n",
    "    count = 0\n",
    "    for i in range(nrep):\n",
    "        x = sum([rand.random() for j in range(8)])\n",
    "        if x > 3 and x < 6:\n",
    "            count += 1\n",
    "    results.append(count/nrep)\n",
    "print(results)"
   ]
  },
  {
   "cell_type": "code",
   "execution_count": 5,
   "metadata": {
    "collapsed": false
   },
   "outputs": [],
   "source": [
    "n = 8\n",
    "X = UniformRV(Rational(0),Rational(1))\n",
    "Y = ConvolutionIID(X,n)"
   ]
  },
  {
   "cell_type": "code",
   "execution_count": 6,
   "metadata": {
    "collapsed": false
   },
   "outputs": [
    {
     "data": {
      "image/png": "[encoded data removed]",
      "text/latex": [
       "$$\\frac{35531}{40320}$$"
      ],
      "text/plain": [
       "35531\n",
       "─────\n",
       "40320"
      ]
     },
     "execution_count": 6,
     "metadata": {},
     "output_type": "execute_result"
    }
   ],
   "source": [
    "CDF(Y,6) - CDF(Y,3)"
   ]
  },
  {
   "cell_type": "code",
   "execution_count": 41,
   "metadata": {
    "collapsed": true
   },
   "outputs": [],
   "source": [
    "# Example 2"
   ]
  },
  {
   "cell_type": "code",
   "execution_count": 7,
   "metadata": {
    "collapsed": false
   },
   "outputs": [
    {
     "name": "stdout",
     "output_type": "stream",
     "text": [
      "continuous pdf\n",
      "for 1 <= x <= 2\n",
      "---------------------------\n",
      "  4⋅x   2⋅(x + 1)⋅log(x)   4\n",
      "- ─── + ──────────────── + ─\n",
      "   3           3           3\n",
      "---------------------------\n",
      " \n",
      " \n",
      "for 2 <= x <= 3\n",
      "---------------------------\n",
      "          ⎛ 7⋅x   14    5⋅x    ⎞    \n",
      "          ⎜ ─── + ──  - ─── - 4⎟    \n",
      "10⋅x      ⎜  3    3      3     ⎟    \n",
      "──── + log⎝2        ⋅x         ⎠ - 8\n",
      " 3                                  \n",
      "---------------------------\n",
      " \n",
      " \n",
      "for 3 <= x <= 4\n",
      "---------------------------\n",
      "         ⎛    7⋅x   2  -2⋅x         ⎞    \n",
      "         ⎜    ─── + ─  ─────        ⎟    \n",
      "         ⎜     3    3    3    -x - 2⎟    \n",
      "         ⎜16⋅2       ⋅3     ⋅x      ⎟    \n",
      "2⋅x + log⎜──────────────────────────⎟ - 4\n",
      "         ⎝            9             ⎠    \n",
      "---------------------------\n",
      " \n",
      " \n",
      "for 4 <= x <= 6\n",
      "---------------------------\n",
      "           ⎛ -5⋅x   -2⋅x   4⋅x   22⎞     \n",
      "           ⎜ ─────  ─────  ─── + ──⎟     \n",
      "           ⎜   3      3     3    3 ⎟     \n",
      "  8⋅x      ⎜2     ⋅6     ⋅x        ⎟   44\n",
      "- ─── + log⎜───────────────────────⎟ + ──\n",
      "   3       ⎝         147456        ⎠   3 \n",
      "---------------------------\n",
      " \n",
      " \n",
      "for 6 <= x <= 8\n",
      "---------------------------\n",
      "           ⎛    -4⋅x   x  x   4⎞    \n",
      "           ⎜    ─────  ─  ─ + ─⎟    \n",
      "           ⎜      3    3  3   3⎟    \n",
      "  2⋅x      ⎜81⋅2     ⋅3 ⋅x     ⎟   8\n",
      "- ─── + log⎜───────────────────⎟ + ─\n",
      "   3       ⎝        256        ⎠   3\n",
      "---------------------------\n",
      " \n",
      " \n",
      "for 8 <= x <= 12\n",
      "---------------------------\n",
      "         ⎛  x        x    ⎞    \n",
      "         ⎜  ─ + 4  - ─ - 4⎟    \n",
      "2⋅x      ⎜  3        3    ⎟    \n",
      "─── + log⎝12     ⋅x       ⎠ - 8\n",
      " 3                             \n",
      "---------------------------\n"
     ]
    }
   ],
   "source": [
    "X = TriangularRV(1,2,4)\n",
    "Y = TriangularRV(1,2,3)\n",
    "V = X*Y\n",
    "V.simplify()"
   ]
  },
  {
   "cell_type": "code",
   "execution_count": 8,
   "metadata": {
    "collapsed": false
   },
   "outputs": [],
   "source": [
    "PlotDist(V)"
   ]
  },
  {
   "cell_type": "code",
   "execution_count": 13,
   "metadata": {
    "collapsed": true
   },
   "outputs": [],
   "source": [
    "# Example 3 "
   ]
  },
  {
   "cell_type": "code",
   "execution_count": 9,
   "metadata": {
    "collapsed": false
   },
   "outputs": [
    {
     "name": "stdout",
     "output_type": "stream",
     "text": [
      "continuous pdf\n",
      "for 0 <= x <= oo\n",
      "---------------------------\n",
      "   -x     -x \n",
      "   ───    ───\n",
      "    2      3 \n",
      "- ℯ    + ℯ   \n",
      "---------------------------\n"
     ]
    }
   ],
   "source": [
    "X = ExponentialRV(Rational(1,2))\n",
    "Y = ExponentialRV(Rational(1,3))\n",
    "Z = X+Y\n",
    "Z.display()"
   ]
  },
  {
   "cell_type": "code",
   "execution_count": 15,
   "metadata": {
    "collapsed": true
   },
   "outputs": [],
   "source": [
    "# Example 4"
   ]
  },
  {
   "cell_type": "code",
   "execution_count": 13,
   "metadata": {
    "collapsed": false
   },
   "outputs": [
    {
     "data": {
      "image/png": "[encoded data removed]",
      "text/latex": [
       "$$\\frac{e^{x} - \\frac{1}{2}}{x e^{x}}$$"
      ],
      "text/plain": [
       "⎛ x   1⎞  -x\n",
       "⎜ℯ  - ─⎟⋅ℯ  \n",
       "⎝     2⎠    \n",
       "────────────\n",
       "     x      "
      ]
     },
     "execution_count": 13,
     "metadata": {},
     "output_type": "execute_result"
    }
   ],
   "source": [
    "x = Symbol('x',positive=True)\n",
    "X = RV([x,2*x],[0,1,oo],['continuous','hf'])\n",
    "simplify(Mean(X))"
   ]
  },
  {
   "cell_type": "code",
   "execution_count": 14,
   "metadata": {
    "collapsed": false
   },
   "outputs": [
    {
     "name": "stdout",
     "output_type": "stream",
     "text": [
      "continuous hf\n",
      "for 0 <= x <= 1\n",
      "---------------------------\n",
      "x\n",
      "---------------------------\n",
      " \n",
      " \n",
      "for 1 <= x <= oo\n",
      "---------------------------\n",
      "2⋅x\n",
      "---------------------------\n"
     ]
    }
   ],
   "source": [
    "X.display()"
   ]
  },
  {
   "cell_type": "code",
   "execution_count": 15,
   "metadata": {
    "collapsed": true
   },
   "outputs": [],
   "source": [
    "# Example 5"
   ]
  },
  {
   "cell_type": "code",
   "execution_count": 18,
   "metadata": {
    "collapsed": true
   },
   "outputs": [],
   "source": [
    "x = Symbol('x')\n",
    "X = RV([x/21],[1,6],['Discrete','pdf'])"
   ]
  },
  {
   "cell_type": "code",
   "execution_count": 19,
   "metadata": {
    "collapsed": false
   },
   "outputs": [
    {
     "data": {
      "image/png": "[encoded data removed]",
      "text/latex": [
       "$$\\left [ \\frac{13}{3}, \\quad \\frac{20}{9}, \\quad - \\frac{13 \\sqrt{5}}{50}, \\quad \\frac{231}{100}\\right ]$$"
      ],
      "text/plain": [
       "⎡            -13⋅√5   231⎤\n",
       "⎢13/3, 20/9, ───────, ───⎥\n",
       "⎣               50    100⎦"
      ]
     },
     "execution_count": 19,
     "metadata": {},
     "output_type": "execute_result"
    }
   ],
   "source": [
    "[Mean(X),Variance(X),Skewness(X),Kurtosis(X)]"
   ]
  },
  {
   "cell_type": "code",
   "execution_count": null,
   "metadata": {
    "collapsed": true
   },
   "outputs": [],
   "source": []
  },
  {
   "cell_type": "code",
   "execution_count": 20,
   "metadata": {
    "collapsed": true
   },
   "outputs": [],
   "source": [
    "# Example 3.1"
   ]
  },
  {
   "cell_type": "code",
   "execution_count": 21,
   "metadata": {
    "collapsed": false
   },
   "outputs": [],
   "source": [
    "theta = Symbol('theta',positive=True)\n",
    "X = ExponentialRV(theta)\n",
    "Y = ExponentialRV(Rational(100))\n",
    "data = [97, 51, 11, 4, 14, 18, 142, 68, 77, 80, 1, 16, 106, 206,\n",
    "82, 54, 31, 216, 46, 111, 39, 63, 18, 191, 18, 163, 24]\n",
    "P = Posterior(X,Y,data,theta)"
   ]
  },
  {
   "cell_type": "code",
   "execution_count": 23,
   "metadata": {
    "collapsed": false
   },
   "outputs": [
    {
     "name": "stdout",
     "output_type": "stream",
     "text": [
      "continuous pdf\n",
      "for 0 <= x <= oo\n",
      "---------------------------\n",
      "                                                                              \n",
      "223651470780472429403739591482279675119940755544475945516524580397841845987344\n",
      "──────────────────────────────────────────────────────────────────────────────\n",
      "                                       473429106539928354816000000            \n",
      "\n",
      "                27  -2047⋅x\n",
      "60330816772007⋅x  ⋅ℯ       \n",
      "───────────────────────────\n",
      "                           \n",
      "---------------------------\n"
     ]
    }
   ],
   "source": [
    "P.display()"
   ]
  },
  {
   "cell_type": "code",
   "execution_count": 26,
   "metadata": {
    "collapsed": false
   },
   "outputs": [
    {
     "data": {
      "image/png": "[encoded data removed]",
      "text/latex": [
       "$$\\left [ 0.00972185579651469, \\quad 0.018189624855718\\right ]$$"
      ],
      "text/plain": [
       "[0.00972185579651469, 0.018189624855718]"
      ]
     },
     "execution_count": 26,
     "metadata": {},
     "output_type": "execute_result"
    }
   ],
   "source": [
    "CredibleSet(P,0.10)"
   ]
  },
  {
   "cell_type": "code",
   "execution_count": 27,
   "metadata": {
    "collapsed": false
   },
   "outputs": [
    {
     "data": {
      "image/png": "[encoded data removed]",
      "text/latex": [
       "$$\\frac{28}{2047}$$"
      ],
      "text/plain": [
       " 28 \n",
       "────\n",
       "2047"
      ]
     },
     "execution_count": 27,
     "metadata": {},
     "output_type": "execute_result"
    }
   ],
   "source": [
    "Mean(P)"
   ]
  },
  {
   "cell_type": "code",
   "execution_count": 28,
   "metadata": {
    "collapsed": false
   },
   "outputs": [
    {
     "data": {
      "image/png": "[encoded data removed]",
      "text/latex": [
       "$$0.0136785539814362$$"
      ],
      "text/plain": [
       "0.0136785539814362"
      ]
     },
     "execution_count": 28,
     "metadata": {},
     "output_type": "execute_result"
    }
   ],
   "source": [
    "Mean(P).evalf()"
   ]
  },
  {
   "cell_type": "code",
   "execution_count": 29,
   "metadata": {
    "collapsed": true
   },
   "outputs": [],
   "source": [
    "X = BinomialRV(12,theta)\n",
    "Y = TriangularRV(Rational(0),Rational(1,2),Rational(1))\n",
    "data = [5,6,3,2,5]\n",
    "P = Posterior(X,Y,data,theta)"
   ]
  },
  {
   "cell_type": "code",
   "execution_count": 30,
   "metadata": {
    "collapsed": false
   },
   "outputs": [
    {
     "name": "stdout",
     "output_type": "stream",
     "text": [
      "continuous pdf\n",
      "for 0 <= x <= 1/2\n",
      "---------------------------\n",
      "                                       22        39 \n",
      "-543985284099935107948831513667174400⋅x  ⋅(x - 1)   \n",
      "────────────────────────────────────────────────────\n",
      "                 395821499369962291                 \n",
      "---------------------------\n",
      " \n",
      " \n",
      "for 1/2 <= x <= 1\n",
      "---------------------------\n",
      "                                      21        40\n",
      "543985284099935107948831513667174400⋅x  ⋅(x - 1)  \n",
      "──────────────────────────────────────────────────\n",
      "                395821499369962291                \n",
      "---------------------------\n"
     ]
    }
   ],
   "source": [
    "P.display()"
   ]
  },
  {
   "cell_type": "code",
   "execution_count": 4,
   "metadata": {
    "collapsed": true
   },
   "outputs": [],
   "source": [
    "# Example 3.2"
   ]
  },
  {
   "cell_type": "code",
   "execution_count": 43,
   "metadata": {
    "collapsed": false
   },
   "outputs": [
    {
     "data": {
      "image/png": "[encoded data removed]",
      "text/latex": [
       "$$33.7782237544$$"
      ],
      "text/plain": [
       "33.7782237544"
      ]
     },
     "execution_count": 43,
     "metadata": {},
     "output_type": "execute_result"
    }
   ],
   "source": [
    "rand.seed(5)\n",
    "tr = [16,23,38,94,99,141,197]\n",
    "n = len(tr)\n",
    "B = 50\n",
    "x = []\n",
    "for i in range(50):\n",
    "    samp = [rand.sample(tr,1)[0] for i in range(n)]\n",
    "    med = np.median(samp)\n",
    "    x.append(med)\n",
    "np.std(x)"
   ]
  },
  {
   "cell_type": "code",
   "execution_count": 34,
   "metadata": {
    "collapsed": false
   },
   "outputs": [
    {
     "data": {
      "image/png": "[encoded data removed]",
      "text/latex": [
       "$$\\left ( \\frac{2 \\sqrt{242712738519382}}{823543}, \\quad 37.834674393866\\right )$$"
      ],
      "text/plain": [
       "⎛2⋅√242712738519382                 ⎞\n",
       "⎜──────────────────, 37.834674393866⎟\n",
       "⎝      823543                       ⎠"
      ]
     },
     "execution_count": 34,
     "metadata": {},
     "output_type": "execute_result"
    }
   ],
   "source": [
    "treatment = [16,23,38,94,99,141,197]\n",
    "X = BootstrapRV(treatment)\n",
    "Y = OrderStat(X,7,4)\n",
    "sqrt(Variance(Y)),sqrt(Variance(Y)).evalf()"
   ]
  },
  {
   "cell_type": "code",
   "execution_count": 8,
   "metadata": {
    "collapsed": true
   },
   "outputs": [],
   "source": [
    "# Example 3.3"
   ]
  },
  {
   "cell_type": "code",
   "execution_count": 4,
   "metadata": {
    "collapsed": false
   },
   "outputs": [],
   "source": [
    "X = MarkovChain(P = [ [Rational(45,100), Rational(48,100),Rational(7,100)],\n",
    "                    [Rational(5,100),Rational(70,100),Rational(25,100)],\n",
    "                    [Rational(1,100),Rational(50,100),Rational(49,100)]],\n",
    "                init = [Rational(5,100),Rational(80,100),Rational(15,100)],\n",
    "                states = ['stormy','cloudy','sunny'])"
   ]
  },
  {
   "cell_type": "code",
   "execution_count": 5,
   "metadata": {
    "collapsed": false
   },
   "outputs": [
    {
     "name": "stdout",
     "output_type": "stream",
     "text": [
      "The transition probability matrix:\n",
      "       stormy cloudy   sunny\n",
      "stormy   9/20  12/25   7/100\n",
      "cloudy   1/20   7/10     1/4\n",
      "sunny   1/100    1/2  49/100\n",
      "----------------------------------------\n",
      "The initial system state:\n",
      "        Prob\n",
      "stormy  1/20\n",
      "cloudy   4/5\n",
      "sunny   3/20\n"
     ]
    }
   ],
   "source": [
    "X.display()"
   ]
  },
  {
   "cell_type": "code",
   "execution_count": 15,
   "metadata": {
    "collapsed": false
   },
   "outputs": [
    {
     "name": "stdout",
     "output_type": "stream",
     "text": [
      "The steady state probabilities are:\n",
      "                0\n",
      "stormy     35/561\n",
      "cloudy  1399/2244\n",
      "sunny     235/748\n"
     ]
    }
   ],
   "source": [
    "X.display(option='steady state',method ='rational')"
   ]
  },
  {
   "cell_type": "code",
   "execution_count": 16,
   "metadata": {
    "collapsed": false
   },
   "outputs": [
    {
     "data": {
      "image/png": "[encoded data removed]",
      "text/latex": [
       "$$\\frac{9}{100}$$"
      ],
      "text/plain": [
       "9/100"
      ]
     },
     "execution_count": 16,
     "metadata": {},
     "output_type": "execute_result"
    }
   ],
   "source": [
    "X.probability([(3,'stormy')],given=[(1,'cloudy'),(0,'sunny')],method='rational')"
   ]
  },
  {
   "cell_type": "code",
   "execution_count": 17,
   "metadata": {
    "collapsed": false
   },
   "outputs": [
    {
     "data": {
      "image/png": "[encoded data removed]",
      "text/latex": [
       "$$\\frac{974185141}{1562500000}$$"
      ],
      "text/plain": [
       "974185141 \n",
       "──────────\n",
       "1562500000"
      ]
     },
     "execution_count": 17,
     "metadata": {},
     "output_type": "execute_result"
    }
   ],
   "source": [
    "X.probability([(5,'cloudy')],method='rational')"
   ]
  },
  {
   "cell_type": "code",
   "execution_count": 1,
   "metadata": {
    "collapsed": true
   },
   "outputs": [],
   "source": [
    "# Example 3.4"
   ]
  },
  {
   "cell_type": "code",
   "execution_count": 44,
   "metadata": {
    "collapsed": false
   },
   "outputs": [],
   "source": [
    "Y = UniformRV(0,1/2)"
   ]
  },
  {
   "cell_type": "code",
   "execution_count": 45,
   "metadata": {
    "collapsed": false
   },
   "outputs": [],
   "source": [
    "A = 1 - exp(-2*y)\n",
    "B = exp(-2*y) - 1/2\n",
    "C = Rational(1,2) - exp(-2* (1-y))"
   ]
  },
  {
   "cell_type": "code",
   "execution_count": 46,
   "metadata": {
    "collapsed": false
   },
   "outputs": [],
   "source": [
    "ys = solve(B-C,y)[0].evalf()\n",
    "yss = solve(A-C,y)[3].evalf()"
   ]
  },
  {
   "cell_type": "code",
   "execution_count": 47,
   "metadata": {
    "collapsed": false
   },
   "outputs": [],
   "source": [
    "g = [[A,B,C],[0,ys,yss,0.5]] "
   ]
  },
  {
   "cell_type": "code",
   "execution_count": null,
   "metadata": {
    "collapsed": false
   },
   "outputs": [],
   "source": []
  },
  {
   "cell_type": "code",
   "execution_count": 29,
   "metadata": {
    "collapsed": true
   },
   "outputs": [],
   "source": [
    "# Example 3.5"
   ]
  },
  {
   "cell_type": "code",
   "execution_count": 50,
   "metadata": {
    "collapsed": false
   },
   "outputs": [],
   "source": [
    "x=Symbol('x')\n",
    "X1 = BinomialRV(23, Rational(21,23))\n",
    "X1 = Transform(X1,[[x/23],[0,23]])\n",
    "X2 = BinomialRV(28,Rational(27,28))\n",
    "X2 = Transform(X2,[[x/28],[0,28]])\n",
    "X3 = BinomialRV(84,Rational(82,84))\n",
    "X3 = Transform(X3,[[x/84],[0,84]])"
   ]
  },
  {
   "cell_type": "code",
   "execution_count": 51,
   "metadata": {
    "collapsed": false
   },
   "outputs": [],
   "source": [
    "T = X1*X2*X3"
   ]
  },
  {
   "cell_type": "code",
   "execution_count": 52,
   "metadata": {
    "collapsed": false
   },
   "outputs": [
    {
     "data": {
      "image/png": "[encoded data removed]",
      "text/latex": [
       "$$\\frac{6723}{9016}$$"
      ],
      "text/plain": [
       "6723\n",
       "────\n",
       "9016"
      ]
     },
     "execution_count": 52,
     "metadata": {},
     "output_type": "execute_result"
    }
   ],
   "source": [
    "IDF(T,0.05)"
   ]
  },
  {
   "cell_type": "code",
   "execution_count": 47,
   "metadata": {
    "collapsed": true
   },
   "outputs": [],
   "source": [
    "# Example 3.6"
   ]
  },
  {
   "cell_type": "code",
   "execution_count": 53,
   "metadata": {
    "collapsed": true
   },
   "outputs": [],
   "source": [
    "theta = Symbol('theta',positive=True)\n",
    "mu = Symbol('mu',positive=True)\n",
    "X = ExponentialRV(theta)\n",
    "Y = ExponentialRV(mu)"
   ]
  },
  {
   "cell_type": "code",
   "execution_count": 54,
   "metadata": {
    "collapsed": true
   },
   "outputs": [],
   "source": [
    "T = Queue(X,Y,4,0,1)"
   ]
  },
  {
   "cell_type": "code",
   "execution_count": 55,
   "metadata": {
    "collapsed": false
   },
   "outputs": [
    {
     "data": {
      "image/png": "[encoded data removed]",
      "text/latex": [
       "$$\\frac{2.0 \\theta^{3}}{\\mu^{1.0} \\left(\\mu + \\theta\\right)^{3.0}} + \\frac{1.0 \\theta}{\\mu^{1.0} \\left(\\mu + \\theta\\right)^{1.0}} + \\frac{1.0}{\\mu^{1.0}} + \\frac{2.0 \\mu^{1.0} \\theta^{4}}{\\left(\\mu + \\theta\\right)^{6.0}} + \\frac{1.0 \\mu^{1.0} \\theta^{3}}{\\left(\\mu + \\theta\\right)^{5.0}} + \\frac{1.0 \\mu^{1.0} \\theta^{2}}{\\left(\\mu + \\theta\\right)^{4.0}} + \\frac{2.0 \\mu^{2.0} \\theta^{3}}{\\left(\\mu + \\theta\\right)^{6.0}} + \\frac{1.0 \\theta^{4}}{\\left(\\mu + \\theta\\right)^{5.0}} + \\frac{2.0 \\theta^{3}}{\\left(\\mu + \\theta\\right)^{4.0}} + \\frac{\\theta^{2}}{\\left(\\mu + \\theta\\right)^{3.0}}$$"
      ],
      "text/plain": [
       "     -1.0  3        -3.0        -1.0          -1.0        -1.0        1.0  4  \n",
       "2.0⋅μ    ⋅θ ⋅(μ + θ)     + 1.0⋅μ    ⋅θ⋅(μ + θ)     + 1.0⋅μ     + 2.0⋅μ   ⋅θ ⋅(\n",
       "\n",
       "      -6.0        1.0  3        -5.0        1.0  2        -4.0        2.0  3  \n",
       "μ + θ)     + 1.0⋅μ   ⋅θ ⋅(μ + θ)     + 1.0⋅μ   ⋅θ ⋅(μ + θ)     + 2.0⋅μ   ⋅θ ⋅(\n",
       "\n",
       "      -6.0        4        -5.0        3        -4.0    2        -3.0\n",
       "μ + θ)     + 1.0⋅θ ⋅(μ + θ)     + 2.0⋅θ ⋅(μ + θ)     + θ ⋅(μ + θ)    "
      ]
     },
     "execution_count": 55,
     "metadata": {},
     "output_type": "execute_result"
    }
   ],
   "source": [
    "Mean(T)"
   ]
  },
  {
   "cell_type": "code",
   "execution_count": 56,
   "metadata": {
    "collapsed": false
   },
   "outputs": [
    {
     "data": {
      "image/png": "[encoded data removed]",
      "text/latex": [
       "$$\\frac{1}{\\mu^{17.0} \\left(\\mu + \\theta\\right)^{78.0}} \\left(- \\mu^{11.0} \\left(\\mu + \\theta\\right)^{34.0} \\left(2.0 \\mu^{2.0} \\theta^{3} \\left(\\mu + \\theta\\right)^{19.0} + 1.0 \\mu^{2.0} \\theta \\left(\\mu + \\theta\\right)^{21.0} + 1.0 \\mu^{2.0} \\left(\\mu + \\theta\\right)^{22.0} + 1.0 \\mu^{3.0} \\theta^{3} \\left(\\mu^{1.0} + \\theta\\right) \\left(\\mu + \\theta\\right)^{17.0} + 2.0 \\mu^{3.0} \\theta^{3} \\left(\\mu + \\theta\\right)^{16.0} \\left(\\mu^{1.0} \\theta + \\mu^{2.0}\\right) + \\mu^{3.0} \\theta^{2} \\left(\\mu + \\theta\\right)^{18.0} \\left(1.0 \\mu^{1.0} + 2.0 \\theta\\right) + \\mu^{3.0} \\theta^{2} \\left(\\mu + \\theta\\right)^{19.0}\\right)^{2} + 14.0 \\mu^{15.0} \\theta^{3} \\left(\\mu + \\theta\\right)^{75.0} + 4.0 \\mu^{15.0} \\theta \\left(\\mu + \\theta\\right)^{77.0} + 2.0 \\mu^{15.0} \\left(\\mu + \\theta\\right)^{78.0} + 6.0 \\mu^{16.0} \\theta^{4} \\left(\\mu + \\theta\\right)^{73.0} + 10.0 \\mu^{16.0} \\theta^{3} \\left(\\mu + \\theta\\right)^{74.0} + 6 \\mu^{16.0} \\theta^{2} \\left(\\mu + \\theta\\right)^{75.0} + 6.0 \\mu^{17.0} \\theta^{3} \\left(\\mu^{1.0} + \\theta\\right) \\left(\\mu + \\theta\\right)^{72.0} + 8.0 \\mu^{17.0} \\theta^{3} \\left(\\mu + \\theta\\right)^{73.0} + 4.0 \\mu^{17.0} \\theta^{2} \\left(\\mu + \\theta\\right)^{74.0}\\right)$$"
      ],
      "text/plain": [
       "                    ⎛                                                         \n",
       " -17.0        -78.0 ⎜   11.0        34.0 ⎛     2.0  3        19.0        2.0  \n",
       "μ     ⋅(μ + θ)     ⋅⎝- μ    ⋅(μ + θ)    ⋅⎝2.0⋅μ   ⋅θ ⋅(μ + θ)     + 1.0⋅μ   ⋅θ\n",
       "\n",
       "                                                                              \n",
       "        21.0        2.0        22.0        3.0  3 ⎛ 1.0    ⎞        17.0      \n",
       "⋅(μ + θ)     + 1.0⋅μ   ⋅(μ + θ)     + 1.0⋅μ   ⋅θ ⋅⎝μ    + θ⎠⋅(μ + θ)     + 2.0\n",
       "\n",
       "                                                                              \n",
       "  3.0  3        16.0 ⎛ 1.0      2.0⎞    3.0  2        18.0 ⎛     1.0        ⎞ \n",
       "⋅μ   ⋅θ ⋅(μ + θ)    ⋅⎝μ   ⋅θ + μ   ⎠ + μ   ⋅θ ⋅(μ + θ)    ⋅⎝1.0⋅μ    + 2.0⋅θ⎠ \n",
       "\n",
       "                      2                                                       \n",
       "   3.0  2        19.0⎞          15.0  3        75.0        15.0          77.0 \n",
       "+ μ   ⋅θ ⋅(μ + θ)    ⎠  + 14.0⋅μ    ⋅θ ⋅(μ + θ)     + 4.0⋅μ    ⋅θ⋅(μ + θ)     \n",
       "\n",
       "                                                                              \n",
       "       15.0        78.0        16.0  4        73.0         16.0  3        74.0\n",
       "+ 2.0⋅μ    ⋅(μ + θ)     + 6.0⋅μ    ⋅θ ⋅(μ + θ)     + 10.0⋅μ    ⋅θ ⋅(μ + θ)    \n",
       "\n",
       "                                                                              \n",
       "      16.0  2        75.0        17.0  3 ⎛ 1.0    ⎞        72.0        17.0  3\n",
       " + 6⋅μ    ⋅θ ⋅(μ + θ)     + 6.0⋅μ    ⋅θ ⋅⎝μ    + θ⎠⋅(μ + θ)     + 8.0⋅μ    ⋅θ \n",
       "\n",
       "                                       ⎞\n",
       "        73.0        17.0  2        74.0⎟\n",
       "⋅(μ + θ)     + 4.0⋅μ    ⋅θ ⋅(μ + θ)    ⎠"
      ]
     },
     "execution_count": 56,
     "metadata": {},
     "output_type": "execute_result"
    }
   ],
   "source": [
    "Variance(T)"
   ]
  },
  {
   "cell_type": "code",
   "execution_count": 4,
   "metadata": {
    "collapsed": true
   },
   "outputs": [],
   "source": [
    "# Example 3.8"
   ]
  },
  {
   "cell_type": "code",
   "execution_count": 57,
   "metadata": {
    "collapsed": false
   },
   "outputs": [
    {
     "data": {
      "image/png": "[encoded data removed]",
      "text/latex": [
       "$$\\frac{2 \\sqrt{6}}{3 \\sqrt{\\pi}}$$"
      ],
      "text/plain": [
       "2⋅√6\n",
       "────\n",
       "3⋅√π"
      ]
     },
     "execution_count": 57,
     "metadata": {},
     "output_type": "execute_result"
    }
   ],
   "source": [
    "Mean(ChiRV(3))/sqrt(3)"
   ]
  },
  {
   "cell_type": "code",
   "execution_count": 58,
   "metadata": {
    "collapsed": false
   },
   "outputs": [
    {
     "data": {
      "image/png": "[encoded data removed]",
      "text/latex": [
       "$$\\frac{39614081257132168796771975168 \\sqrt{22}}{105095150568296034723763017975 \\sqrt{\\pi}}$$"
      ],
      "text/plain": [
       "39614081257132168796771975168⋅√22\n",
       "─────────────────────────────────\n",
       "105095150568296034723763017975⋅√π"
      ]
     },
     "execution_count": 58,
     "metadata": {},
     "output_type": "execute_result"
    }
   ],
   "source": [
    "Mean(ChiRV(99))/sqrt(99)"
   ]
  },
  {
   "cell_type": "code",
   "execution_count": 60,
   "metadata": {
    "collapsed": false
   },
   "outputs": [],
   "source": [
    "# Example 3.9"
   ]
  },
  {
   "cell_type": "code",
   "execution_count": 71,
   "metadata": {
    "collapsed": false
   },
   "outputs": [
    {
     "name": "stdout",
     "output_type": "stream",
     "text": [
      "continuous pdf\n",
      "for -1 <= x <= 0\n",
      "---------------------------\n",
      "x + 1\n",
      "---------------------------\n",
      " \n",
      " \n",
      "for 0 <= x <= 1\n",
      "---------------------------\n",
      "-x + 1\n",
      "---------------------------\n"
     ]
    }
   ],
   "source": [
    "U1 = UniformRV(0,Rational(1))\n",
    "U2 = UniformRV(0,Rational(1))\n",
    "V1 = U1 - U2\n",
    "V1.simplify()"
   ]
  },
  {
   "cell_type": "code",
   "execution_count": 72,
   "metadata": {
    "collapsed": true
   },
   "outputs": [],
   "source": [
    "g1 = [[x*x,x*x],[-oo,0,oo]]\n",
    "V2 = Transform(V1,g1)"
   ]
  },
  {
   "cell_type": "code",
   "execution_count": 73,
   "metadata": {
    "collapsed": false
   },
   "outputs": [
    {
     "name": "stdout",
     "output_type": "stream",
     "text": [
      "continuous pdf\n",
      "for 0 <= x <= 1\n",
      "---------------------------\n",
      "     1 \n",
      "-1 + ──\n",
      "     √x\n",
      "---------------------------\n"
     ]
    }
   ],
   "source": [
    "V2.display()"
   ]
  },
  {
   "cell_type": "code",
   "execution_count": 74,
   "metadata": {
    "collapsed": false
   },
   "outputs": [
    {
     "ename": "KeyboardInterrupt",
     "evalue": "",
     "output_type": "error",
     "traceback": [
      "\u001b[1;31m---------------------------------------------------------------------------\u001b[0m",
      "\u001b[1;31mKeyboardInterrupt\u001b[0m                         Traceback (most recent call last)",
      "\u001b[1;32m<ipython-input-74-5d27e69e1c79>\u001b[0m in \u001b[0;36m<module>\u001b[1;34m()\u001b[0m\n\u001b[1;32m----> 1\u001b[1;33m \u001b[0mV3\u001b[0m \u001b[1;33m=\u001b[0m \u001b[0mV2\u001b[0m\u001b[1;33m+\u001b[0m\u001b[0mV2\u001b[0m\u001b[1;33m\u001b[0m\u001b[0m\n\u001b[0m",
      "\u001b[1;32m/home/matt/anaconda/lib/python2.7/site-packages/applpy/rv.pyc\u001b[0m in \u001b[0;36m__add__\u001b[1;34m(self, other)\u001b[0m\n\u001b[0;32m    260\u001b[0m         \u001b[1;31m#   return the convolution of the two random variables\u001b[0m\u001b[1;33m\u001b[0m\u001b[1;33m\u001b[0m\u001b[0m\n\u001b[0;32m    261\u001b[0m         \u001b[1;32mif\u001b[0m \u001b[1;34m'RV'\u001b[0m \u001b[1;32min\u001b[0m \u001b[0mother\u001b[0m\u001b[1;33m.\u001b[0m\u001b[0m__class__\u001b[0m\u001b[1;33m.\u001b[0m\u001b[0m__name__\u001b[0m\u001b[1;33m:\u001b[0m\u001b[1;33m\u001b[0m\u001b[0m\n\u001b[1;32m--> 262\u001b[1;33m             \u001b[1;32mreturn\u001b[0m \u001b[0mConvolution\u001b[0m\u001b[1;33m(\u001b[0m\u001b[0mself\u001b[0m\u001b[1;33m,\u001b[0m\u001b[0mother\u001b[0m\u001b[1;33m)\u001b[0m\u001b[1;33m\u001b[0m\u001b[0m\n\u001b[0m\u001b[0;32m    263\u001b[0m         \u001b[1;31m# If the random variable is added to a constant, shift\u001b[0m\u001b[1;33m\u001b[0m\u001b[1;33m\u001b[0m\u001b[0m\n\u001b[0;32m    264\u001b[0m         \u001b[1;31m# the random variable\u001b[0m\u001b[1;33m\u001b[0m\u001b[1;33m\u001b[0m\u001b[0m\n",
      "\u001b[1;32m/home/matt/anaconda/lib/python2.7/site-packages/applpy/rv.pyc\u001b[0m in \u001b[0;36mConvolution\u001b[1;34m(RVar1, RVar2)\u001b[0m\n\u001b[0;32m   3320\u001b[0m             \u001b[0mtemp1\u001b[0m\u001b[1;33m=\u001b[0m\u001b[0mTransform\u001b[0m\u001b[1;33m(\u001b[0m\u001b[0mX1_dummy\u001b[0m\u001b[1;33m,\u001b[0m\u001b[0mge\u001b[0m\u001b[1;33m)\u001b[0m\u001b[1;33m\u001b[0m\u001b[0m\n\u001b[0;32m   3321\u001b[0m             \u001b[0mtemp2\u001b[0m\u001b[1;33m=\u001b[0m\u001b[0mTransform\u001b[0m\u001b[1;33m(\u001b[0m\u001b[0mX2_dummy\u001b[0m\u001b[1;33m,\u001b[0m\u001b[0mge\u001b[0m\u001b[1;33m)\u001b[0m\u001b[1;33m\u001b[0m\u001b[0m\n\u001b[1;32m-> 3322\u001b[1;33m             \u001b[0mtemp3\u001b[0m\u001b[1;33m=\u001b[0m\u001b[0mProduct\u001b[0m\u001b[1;33m(\u001b[0m\u001b[0mtemp1\u001b[0m\u001b[1;33m,\u001b[0m\u001b[0mtemp2\u001b[0m\u001b[1;33m)\u001b[0m\u001b[1;33m\u001b[0m\u001b[0m\n\u001b[0m\u001b[0;32m   3323\u001b[0m             \u001b[0mfz\u001b[0m\u001b[1;33m=\u001b[0m\u001b[0mTransform\u001b[0m\u001b[1;33m(\u001b[0m\u001b[0mtemp3\u001b[0m\u001b[1;33m,\u001b[0m\u001b[0mgln\u001b[0m\u001b[1;33m)\u001b[0m\u001b[1;33m\u001b[0m\u001b[0m\n\u001b[0;32m   3324\u001b[0m             \u001b[0mconvfunc\u001b[0m\u001b[1;33m=\u001b[0m\u001b[1;33m[\u001b[0m\u001b[1;33m]\u001b[0m\u001b[1;33m\u001b[0m\u001b[0m\n",
      "\u001b[1;32m/home/matt/anaconda/lib/python2.7/site-packages/applpy/rv.pyc\u001b[0m in \u001b[0;36mProduct\u001b[1;34m(RVar1, RVar2)\u001b[0m\n\u001b[0;32m   3851\u001b[0m                         \u001b[0mgj\u001b[0m\u001b[1;33m=\u001b[0m\u001b[0mY_dummy\u001b[0m\u001b[1;33m.\u001b[0m\u001b[0mfunc\u001b[0m\u001b[1;33m[\u001b[0m\u001b[0mj\u001b[0m\u001b[1;33m]\u001b[0m\u001b[1;33m\u001b[0m\u001b[0m\n\u001b[0;32m   3852\u001b[0m                     \u001b[0mfi\u001b[0m\u001b[1;33m=\u001b[0m\u001b[0mX_dummy\u001b[0m\u001b[1;33m.\u001b[0m\u001b[0mfunc\u001b[0m\u001b[1;33m[\u001b[0m\u001b[0mi\u001b[0m\u001b[1;33m]\u001b[0m\u001b[1;33m\u001b[0m\u001b[0m\n\u001b[1;32m-> 3853\u001b[1;33m                     \u001b[0mpv\u001b[0m\u001b[1;33m=\u001b[0m\u001b[0msimplify\u001b[0m\u001b[1;33m(\u001b[0m\u001b[0mintegrate\u001b[0m\u001b[1;33m(\u001b[0m\u001b[0mfi\u001b[0m\u001b[1;33m*\u001b[0m\u001b[0mgj\u001b[0m\u001b[1;33m*\u001b[0m\u001b[1;33m(\u001b[0m\u001b[1;36m1\u001b[0m\u001b[1;33m/\u001b[0m\u001b[0mx\u001b[0m\u001b[1;33m)\u001b[0m\u001b[1;33m,\u001b[0m\u001b[1;33m(\u001b[0m\u001b[0mx\u001b[0m\u001b[1;33m,\u001b[0m\u001b[0ma\u001b[0m\u001b[1;33m,\u001b[0m\u001b[0mb\u001b[0m\u001b[1;33m)\u001b[0m\u001b[1;33m)\u001b[0m\u001b[1;33m)\u001b[0m\u001b[1;33m\u001b[0m\u001b[0m\n\u001b[0m\u001b[0;32m   3854\u001b[0m                     \u001b[1;32mif\u001b[0m \u001b[0md\u001b[0m\u001b[1;33m<\u001b[0m\u001b[0moo\u001b[0m\u001b[1;33m:\u001b[0m\u001b[1;33m\u001b[0m\u001b[0m\n\u001b[0;32m   3855\u001b[0m                         \u001b[0mqv\u001b[0m\u001b[1;33m=\u001b[0m\u001b[0msimplify\u001b[0m\u001b[1;33m(\u001b[0m\u001b[0mintegrate\u001b[0m\u001b[1;33m(\u001b[0m\u001b[0mfi\u001b[0m\u001b[1;33m*\u001b[0m\u001b[0mgj\u001b[0m\u001b[1;33m*\u001b[0m\u001b[1;33m(\u001b[0m\u001b[1;36m1\u001b[0m\u001b[1;33m/\u001b[0m\u001b[0mx\u001b[0m\u001b[1;33m)\u001b[0m\u001b[1;33m,\u001b[0m\u001b[1;33m(\u001b[0m\u001b[0mx\u001b[0m\u001b[1;33m,\u001b[0m\u001b[0mv\u001b[0m\u001b[1;33m/\u001b[0m\u001b[0md\u001b[0m\u001b[1;33m,\u001b[0m\u001b[0mb\u001b[0m\u001b[1;33m)\u001b[0m\u001b[1;33m)\u001b[0m\u001b[1;33m)\u001b[0m\u001b[1;33m\u001b[0m\u001b[0m\n",
      "\u001b[1;32m/home/matt/anaconda/lib/python2.7/site-packages/sympy-0.7.7.dev0-py2.7.egg/sympy/utilities/decorator.pyc\u001b[0m in \u001b[0;36mthreaded_func\u001b[1;34m(expr, *args, **kwargs)\u001b[0m\n\u001b[0;32m     35\u001b[0m                                       func(expr.rhs, *args, **kwargs))\n\u001b[0;32m     36\u001b[0m             \u001b[1;32melse\u001b[0m\u001b[1;33m:\u001b[0m\u001b[1;33m\u001b[0m\u001b[0m\n\u001b[1;32m---> 37\u001b[1;33m                 \u001b[1;32mreturn\u001b[0m \u001b[0mfunc\u001b[0m\u001b[1;33m(\u001b[0m\u001b[0mexpr\u001b[0m\u001b[1;33m,\u001b[0m \u001b[1;33m*\u001b[0m\u001b[0margs\u001b[0m\u001b[1;33m,\u001b[0m \u001b[1;33m**\u001b[0m\u001b[0mkwargs\u001b[0m\u001b[1;33m)\u001b[0m\u001b[1;33m\u001b[0m\u001b[0m\n\u001b[0m\u001b[0;32m     38\u001b[0m \u001b[1;33m\u001b[0m\u001b[0m\n\u001b[0;32m     39\u001b[0m     \u001b[1;32mreturn\u001b[0m \u001b[0mthreaded_func\u001b[0m\u001b[1;33m\u001b[0m\u001b[0m\n",
      "\u001b[1;32m/home/matt/anaconda/lib/python2.7/site-packages/sympy-0.7.7.dev0-py2.7.egg/sympy/integrals/integrals.pyc\u001b[0m in \u001b[0;36mintegrate\u001b[1;34m(*args, **kwargs)\u001b[0m\n\u001b[0;32m   1253\u001b[0m     \u001b[1;32mif\u001b[0m \u001b[0misinstance\u001b[0m\u001b[1;33m(\u001b[0m\u001b[0mintegral\u001b[0m\u001b[1;33m,\u001b[0m \u001b[0mIntegral\u001b[0m\u001b[1;33m)\u001b[0m\u001b[1;33m:\u001b[0m\u001b[1;33m\u001b[0m\u001b[0m\n\u001b[0;32m   1254\u001b[0m         return integral.doit(deep=False, meijerg=meijerg, conds=conds,\n\u001b[1;32m-> 1255\u001b[1;33m                              risch=risch, manual=manual)\n\u001b[0m\u001b[0;32m   1256\u001b[0m     \u001b[1;32melse\u001b[0m\u001b[1;33m:\u001b[0m\u001b[1;33m\u001b[0m\u001b[0m\n\u001b[0;32m   1257\u001b[0m         \u001b[1;32mreturn\u001b[0m \u001b[0mintegral\u001b[0m\u001b[1;33m\u001b[0m\u001b[0m\n",
      "\u001b[1;32m/home/matt/anaconda/lib/python2.7/site-packages/sympy-0.7.7.dev0-py2.7.egg/sympy/integrals/integrals.pyc\u001b[0m in \u001b[0;36mdoit\u001b[1;34m(self, **hints)\u001b[0m\n\u001b[0;32m    480\u001b[0m                     \u001b[0mfunction\u001b[0m\u001b[1;33m,\u001b[0m \u001b[0mxab\u001b[0m\u001b[1;33m[\u001b[0m\u001b[1;36m0\u001b[0m\u001b[1;33m]\u001b[0m\u001b[1;33m,\u001b[0m\u001b[1;33m\u001b[0m\u001b[0m\n\u001b[0;32m    481\u001b[0m                     \u001b[0mmeijerg\u001b[0m\u001b[1;33m=\u001b[0m\u001b[0mmeijerg1\u001b[0m\u001b[1;33m,\u001b[0m \u001b[0mrisch\u001b[0m\u001b[1;33m=\u001b[0m\u001b[0mrisch\u001b[0m\u001b[1;33m,\u001b[0m \u001b[0mmanual\u001b[0m\u001b[1;33m=\u001b[0m\u001b[0mmanual\u001b[0m\u001b[1;33m,\u001b[0m\u001b[1;33m\u001b[0m\u001b[0m\n\u001b[1;32m--> 482\u001b[1;33m                     conds=conds)\n\u001b[0m\u001b[0;32m    483\u001b[0m                 \u001b[1;32mif\u001b[0m \u001b[0mantideriv\u001b[0m \u001b[1;32mis\u001b[0m \u001b[0mNone\u001b[0m \u001b[1;32mand\u001b[0m \u001b[0mmeijerg1\u001b[0m \u001b[1;32mis\u001b[0m \u001b[0mTrue\u001b[0m\u001b[1;33m:\u001b[0m\u001b[1;33m\u001b[0m\u001b[0m\n\u001b[0;32m    484\u001b[0m                     \u001b[0mret\u001b[0m \u001b[1;33m=\u001b[0m \u001b[0mtry_meijerg\u001b[0m\u001b[1;33m(\u001b[0m\u001b[0mfunction\u001b[0m\u001b[1;33m,\u001b[0m \u001b[0mxab\u001b[0m\u001b[1;33m)\u001b[0m\u001b[1;33m\u001b[0m\u001b[0m\n",
      "\u001b[1;32m/home/matt/anaconda/lib/python2.7/site-packages/sympy-0.7.7.dev0-py2.7.egg/sympy/integrals/integrals.pyc\u001b[0m in \u001b[0;36m_eval_integral\u001b[1;34m(self, f, x, meijerg, risch, manual, conds)\u001b[0m\n\u001b[0;32m    859\u001b[0m                 \u001b[1;32mtry\u001b[0m\u001b[1;33m:\u001b[0m\u001b[1;33m\u001b[0m\u001b[0m\n\u001b[0;32m    860\u001b[0m                     \u001b[1;32mif\u001b[0m \u001b[0mconds\u001b[0m \u001b[1;33m==\u001b[0m \u001b[1;34m'piecewise'\u001b[0m\u001b[1;33m:\u001b[0m\u001b[1;33m\u001b[0m\u001b[0m\n\u001b[1;32m--> 861\u001b[1;33m                         \u001b[0mh\u001b[0m \u001b[1;33m=\u001b[0m \u001b[0mheurisch_wrapper\u001b[0m\u001b[1;33m(\u001b[0m\u001b[0mg\u001b[0m\u001b[1;33m,\u001b[0m \u001b[0mx\u001b[0m\u001b[1;33m,\u001b[0m \u001b[0mhints\u001b[0m\u001b[1;33m=\u001b[0m\u001b[1;33m[\u001b[0m\u001b[1;33m]\u001b[0m\u001b[1;33m)\u001b[0m\u001b[1;33m\u001b[0m\u001b[0m\n\u001b[0m\u001b[0;32m    862\u001b[0m                     \u001b[1;32melse\u001b[0m\u001b[1;33m:\u001b[0m\u001b[1;33m\u001b[0m\u001b[0m\n\u001b[0;32m    863\u001b[0m                         \u001b[0mh\u001b[0m \u001b[1;33m=\u001b[0m \u001b[0mheurisch\u001b[0m\u001b[1;33m(\u001b[0m\u001b[0mg\u001b[0m\u001b[1;33m,\u001b[0m \u001b[0mx\u001b[0m\u001b[1;33m,\u001b[0m \u001b[0mhints\u001b[0m\u001b[1;33m=\u001b[0m\u001b[1;33m[\u001b[0m\u001b[1;33m]\u001b[0m\u001b[1;33m)\u001b[0m\u001b[1;33m\u001b[0m\u001b[0m\n",
      "\u001b[1;32m/home/matt/anaconda/lib/python2.7/site-packages/sympy-0.7.7.dev0-py2.7.egg/sympy/integrals/heurisch.pyc\u001b[0m in \u001b[0;36mheurisch_wrapper\u001b[1;34m(f, x, rewrite, hints, mappings, retries, degree_offset, unnecessary_permutations)\u001b[0m\n\u001b[0;32m    128\u001b[0m \u001b[1;33m\u001b[0m\u001b[0m\n\u001b[0;32m    129\u001b[0m     res = heurisch(f, x, rewrite, hints, mappings, retries, degree_offset,\n\u001b[1;32m--> 130\u001b[1;33m                    unnecessary_permutations)\n\u001b[0m\u001b[0;32m    131\u001b[0m     \u001b[1;32mif\u001b[0m \u001b[1;32mnot\u001b[0m \u001b[0misinstance\u001b[0m\u001b[1;33m(\u001b[0m\u001b[0mres\u001b[0m\u001b[1;33m,\u001b[0m \u001b[0mBasic\u001b[0m\u001b[1;33m)\u001b[0m\u001b[1;33m:\u001b[0m\u001b[1;33m\u001b[0m\u001b[0m\n\u001b[0;32m    132\u001b[0m         \u001b[1;32mreturn\u001b[0m \u001b[0mres\u001b[0m\u001b[1;33m\u001b[0m\u001b[0m\n",
      "\u001b[1;32m/home/matt/anaconda/lib/python2.7/site-packages/sympy-0.7.7.dev0-py2.7.egg/sympy/integrals/heurisch.pyc\u001b[0m in \u001b[0;36mheurisch\u001b[1;34m(f, x, rewrite, hints, mappings, retries, degree_offset, unnecessary_permutations)\u001b[0m\n\u001b[0;32m    660\u001b[0m             \u001b[0msolution\u001b[0m \u001b[1;33m=\u001b[0m \u001b[0m_integrate\u001b[0m\u001b[1;33m(\u001b[0m\u001b[1;33m)\u001b[0m\u001b[1;33m\u001b[0m\u001b[0m\n\u001b[0;32m    661\u001b[0m     \u001b[1;32melse\u001b[0m\u001b[1;33m:\u001b[0m\u001b[1;33m\u001b[0m\u001b[0m\n\u001b[1;32m--> 662\u001b[1;33m         \u001b[0msolution\u001b[0m \u001b[1;33m=\u001b[0m \u001b[0m_integrate\u001b[0m\u001b[1;33m(\u001b[0m\u001b[1;33m)\u001b[0m\u001b[1;33m\u001b[0m\u001b[0m\n\u001b[0m\u001b[0;32m    663\u001b[0m \u001b[1;33m\u001b[0m\u001b[0m\n\u001b[0;32m    664\u001b[0m     \u001b[1;32mif\u001b[0m \u001b[0msolution\u001b[0m \u001b[1;32mis\u001b[0m \u001b[1;32mnot\u001b[0m \u001b[0mNone\u001b[0m\u001b[1;33m:\u001b[0m\u001b[1;33m\u001b[0m\u001b[0m\n",
      "\u001b[1;32m/home/matt/anaconda/lib/python2.7/site-packages/sympy-0.7.7.dev0-py2.7.egg/sympy/integrals/heurisch.pyc\u001b[0m in \u001b[0;36m_integrate\u001b[1;34m(field)\u001b[0m\n\u001b[0;32m    646\u001b[0m         \u001b[0mnumer\u001b[0m \u001b[1;33m=\u001b[0m \u001b[0mring\u001b[0m\u001b[1;33m.\u001b[0m\u001b[0mfrom_expr\u001b[0m\u001b[1;33m(\u001b[0m\u001b[0mraw_numer\u001b[0m\u001b[1;33m)\u001b[0m\u001b[1;33m\u001b[0m\u001b[0m\n\u001b[0;32m    647\u001b[0m \u001b[1;33m\u001b[0m\u001b[0m\n\u001b[1;32m--> 648\u001b[1;33m         \u001b[0msolution\u001b[0m \u001b[1;33m=\u001b[0m \u001b[0msolve_lin_sys\u001b[0m\u001b[1;33m(\u001b[0m\u001b[0mnumer\u001b[0m\u001b[1;33m.\u001b[0m\u001b[0mcoeffs\u001b[0m\u001b[1;33m(\u001b[0m\u001b[1;33m)\u001b[0m\u001b[1;33m,\u001b[0m \u001b[0mcoeff_ring\u001b[0m\u001b[1;33m,\u001b[0m \u001b[0m_raw\u001b[0m\u001b[1;33m=\u001b[0m\u001b[0mFalse\u001b[0m\u001b[1;33m)\u001b[0m\u001b[1;33m\u001b[0m\u001b[0m\n\u001b[0m\u001b[0;32m    649\u001b[0m \u001b[1;33m\u001b[0m\u001b[0m\n\u001b[0;32m    650\u001b[0m         \u001b[1;32mif\u001b[0m \u001b[0msolution\u001b[0m \u001b[1;32mis\u001b[0m \u001b[0mNone\u001b[0m\u001b[1;33m:\u001b[0m\u001b[1;33m\u001b[0m\u001b[0m\n",
      "\u001b[1;32m/home/matt/anaconda/lib/python2.7/site-packages/sympy-0.7.7.dev0-py2.7.egg/sympy/polys/solvers.pyc\u001b[0m in \u001b[0;36msolve_lin_sys\u001b[1;34m(eqs, ring, _raw)\u001b[0m\n\u001b[0;32m     36\u001b[0m \u001b[1;33m\u001b[0m\u001b[0m\n\u001b[0;32m     37\u001b[0m     \u001b[1;31m# solve by row-reduction\u001b[0m\u001b[1;33m\u001b[0m\u001b[1;33m\u001b[0m\u001b[0m\n\u001b[1;32m---> 38\u001b[1;33m     \u001b[0mechelon\u001b[0m\u001b[1;33m,\u001b[0m \u001b[0mpivots\u001b[0m \u001b[1;33m=\u001b[0m \u001b[0mmatrix\u001b[0m\u001b[1;33m.\u001b[0m\u001b[0mrref\u001b[0m\u001b[1;33m(\u001b[0m\u001b[0miszerofunc\u001b[0m\u001b[1;33m=\u001b[0m\u001b[1;32mlambda\u001b[0m \u001b[0mx\u001b[0m\u001b[1;33m:\u001b[0m \u001b[1;32mnot\u001b[0m \u001b[0mx\u001b[0m\u001b[1;33m,\u001b[0m \u001b[0msimplify\u001b[0m\u001b[1;33m=\u001b[0m\u001b[1;32mlambda\u001b[0m \u001b[0mx\u001b[0m\u001b[1;33m:\u001b[0m \u001b[0mx\u001b[0m\u001b[1;33m)\u001b[0m\u001b[1;33m\u001b[0m\u001b[0m\n\u001b[0m\u001b[0;32m     39\u001b[0m \u001b[1;33m\u001b[0m\u001b[0m\n\u001b[0;32m     40\u001b[0m     \u001b[1;31m# construct the returnable form of the solutions\u001b[0m\u001b[1;33m\u001b[0m\u001b[1;33m\u001b[0m\u001b[0m\n",
      "\u001b[1;32m/home/matt/anaconda/lib/python2.7/site-packages/sympy-0.7.7.dev0-py2.7.egg/sympy/matrices/matrices.pyc\u001b[0m in \u001b[0;36mrref\u001b[1;34m(self, iszerofunc, simplify)\u001b[0m\n\u001b[0;32m   2730\u001b[0m                     \u001b[1;32mcontinue\u001b[0m\u001b[1;33m\u001b[0m\u001b[0m\n\u001b[0;32m   2731\u001b[0m                 \u001b[0mscale\u001b[0m \u001b[1;33m=\u001b[0m \u001b[0mr\u001b[0m\u001b[1;33m[\u001b[0m\u001b[0mj\u001b[0m\u001b[1;33m,\u001b[0m \u001b[0mi\u001b[0m\u001b[1;33m]\u001b[0m\u001b[1;33m\u001b[0m\u001b[0m\n\u001b[1;32m-> 2732\u001b[1;33m                 \u001b[0mr\u001b[0m\u001b[1;33m.\u001b[0m\u001b[0mzip_row_op\u001b[0m\u001b[1;33m(\u001b[0m\u001b[0mj\u001b[0m\u001b[1;33m,\u001b[0m \u001b[0mpivot\u001b[0m\u001b[1;33m,\u001b[0m \u001b[1;32mlambda\u001b[0m \u001b[0mx\u001b[0m\u001b[1;33m,\u001b[0m \u001b[0my\u001b[0m\u001b[1;33m:\u001b[0m \u001b[0mx\u001b[0m \u001b[1;33m-\u001b[0m \u001b[0mscale\u001b[0m\u001b[1;33m*\u001b[0m\u001b[0my\u001b[0m\u001b[1;33m)\u001b[0m\u001b[1;33m\u001b[0m\u001b[0m\n\u001b[0m\u001b[0;32m   2733\u001b[0m             \u001b[0mpivotlist\u001b[0m\u001b[1;33m.\u001b[0m\u001b[0mappend\u001b[0m\u001b[1;33m(\u001b[0m\u001b[0mi\u001b[0m\u001b[1;33m)\u001b[0m\u001b[1;33m\u001b[0m\u001b[0m\n\u001b[0;32m   2734\u001b[0m             \u001b[0mpivot\u001b[0m \u001b[1;33m+=\u001b[0m \u001b[1;36m1\u001b[0m\u001b[1;33m\u001b[0m\u001b[0m\n",
      "\u001b[1;32m/home/matt/anaconda/lib/python2.7/site-packages/sympy-0.7.7.dev0-py2.7.egg/sympy/matrices/dense.pyc\u001b[0m in \u001b[0;36mzip_row_op\u001b[1;34m(self, i, k, f)\u001b[0m\n\u001b[0;32m    757\u001b[0m         \u001b[0mrk\u001b[0m \u001b[1;33m=\u001b[0m \u001b[0mself\u001b[0m\u001b[1;33m.\u001b[0m\u001b[0m_mat\u001b[0m\u001b[1;33m[\u001b[0m\u001b[0mk0\u001b[0m\u001b[1;33m:\u001b[0m \u001b[0mk0\u001b[0m \u001b[1;33m+\u001b[0m \u001b[0mself\u001b[0m\u001b[1;33m.\u001b[0m\u001b[0mcols\u001b[0m\u001b[1;33m]\u001b[0m\u001b[1;33m\u001b[0m\u001b[0m\n\u001b[0;32m    758\u001b[0m \u001b[1;33m\u001b[0m\u001b[0m\n\u001b[1;32m--> 759\u001b[1;33m         \u001b[0mself\u001b[0m\u001b[1;33m.\u001b[0m\u001b[0m_mat\u001b[0m\u001b[1;33m[\u001b[0m\u001b[0mi0\u001b[0m\u001b[1;33m:\u001b[0m \u001b[0mi0\u001b[0m \u001b[1;33m+\u001b[0m \u001b[0mself\u001b[0m\u001b[1;33m.\u001b[0m\u001b[0mcols\u001b[0m\u001b[1;33m]\u001b[0m \u001b[1;33m=\u001b[0m \u001b[1;33m[\u001b[0m \u001b[0mf\u001b[0m\u001b[1;33m(\u001b[0m\u001b[0mx\u001b[0m\u001b[1;33m,\u001b[0m \u001b[0my\u001b[0m\u001b[1;33m)\u001b[0m \u001b[1;32mfor\u001b[0m \u001b[0mx\u001b[0m\u001b[1;33m,\u001b[0m \u001b[0my\u001b[0m \u001b[1;32min\u001b[0m \u001b[0mzip\u001b[0m\u001b[1;33m(\u001b[0m\u001b[0mri\u001b[0m\u001b[1;33m,\u001b[0m \u001b[0mrk\u001b[0m\u001b[1;33m)\u001b[0m \u001b[1;33m]\u001b[0m\u001b[1;33m\u001b[0m\u001b[0m\n\u001b[0m\u001b[0;32m    760\u001b[0m \u001b[1;33m\u001b[0m\u001b[0m\n\u001b[0;32m    761\u001b[0m     \u001b[1;32mdef\u001b[0m \u001b[0mrow_op\u001b[0m\u001b[1;33m(\u001b[0m\u001b[0mself\u001b[0m\u001b[1;33m,\u001b[0m \u001b[0mi\u001b[0m\u001b[1;33m,\u001b[0m \u001b[0mf\u001b[0m\u001b[1;33m)\u001b[0m\u001b[1;33m:\u001b[0m\u001b[1;33m\u001b[0m\u001b[0m\n",
      "\u001b[1;32m/home/matt/anaconda/lib/python2.7/site-packages/sympy-0.7.7.dev0-py2.7.egg/sympy/matrices/matrices.pyc\u001b[0m in \u001b[0;36m<lambda>\u001b[1;34m(x, y)\u001b[0m\n\u001b[0;32m   2730\u001b[0m                     \u001b[1;32mcontinue\u001b[0m\u001b[1;33m\u001b[0m\u001b[0m\n\u001b[0;32m   2731\u001b[0m                 \u001b[0mscale\u001b[0m \u001b[1;33m=\u001b[0m \u001b[0mr\u001b[0m\u001b[1;33m[\u001b[0m\u001b[0mj\u001b[0m\u001b[1;33m,\u001b[0m \u001b[0mi\u001b[0m\u001b[1;33m]\u001b[0m\u001b[1;33m\u001b[0m\u001b[0m\n\u001b[1;32m-> 2732\u001b[1;33m                 \u001b[0mr\u001b[0m\u001b[1;33m.\u001b[0m\u001b[0mzip_row_op\u001b[0m\u001b[1;33m(\u001b[0m\u001b[0mj\u001b[0m\u001b[1;33m,\u001b[0m \u001b[0mpivot\u001b[0m\u001b[1;33m,\u001b[0m \u001b[1;32mlambda\u001b[0m \u001b[0mx\u001b[0m\u001b[1;33m,\u001b[0m \u001b[0my\u001b[0m\u001b[1;33m:\u001b[0m \u001b[0mx\u001b[0m \u001b[1;33m-\u001b[0m \u001b[0mscale\u001b[0m\u001b[1;33m*\u001b[0m\u001b[0my\u001b[0m\u001b[1;33m)\u001b[0m\u001b[1;33m\u001b[0m\u001b[0m\n\u001b[0m\u001b[0;32m   2733\u001b[0m             \u001b[0mpivotlist\u001b[0m\u001b[1;33m.\u001b[0m\u001b[0mappend\u001b[0m\u001b[1;33m(\u001b[0m\u001b[0mi\u001b[0m\u001b[1;33m)\u001b[0m\u001b[1;33m\u001b[0m\u001b[0m\n\u001b[0;32m   2734\u001b[0m             \u001b[0mpivot\u001b[0m \u001b[1;33m+=\u001b[0m \u001b[1;36m1\u001b[0m\u001b[1;33m\u001b[0m\u001b[0m\n",
      "\u001b[1;32m/home/matt/anaconda/lib/python2.7/site-packages/sympy-0.7.7.dev0-py2.7.egg/sympy/polys/fields.pyc\u001b[0m in \u001b[0;36m__mul__\u001b[1;34m(f, g)\u001b[0m\n\u001b[0;32m    448\u001b[0m             \u001b[1;32mreturn\u001b[0m \u001b[0mf\u001b[0m\u001b[1;33m.\u001b[0m\u001b[0mnew\u001b[0m\u001b[1;33m(\u001b[0m\u001b[1;33m-\u001b[0m\u001b[0mf\u001b[0m\u001b[1;33m.\u001b[0m\u001b[0mnumer\u001b[0m\u001b[1;33m*\u001b[0m\u001b[0mg_denom\u001b[0m \u001b[1;33m+\u001b[0m \u001b[0mf\u001b[0m\u001b[1;33m.\u001b[0m\u001b[0mdenom\u001b[0m\u001b[1;33m*\u001b[0m\u001b[0mg_numer\u001b[0m\u001b[1;33m,\u001b[0m \u001b[0mf\u001b[0m\u001b[1;33m.\u001b[0m\u001b[0mdenom\u001b[0m\u001b[1;33m*\u001b[0m\u001b[0mg_denom\u001b[0m\u001b[1;33m)\u001b[0m\u001b[1;33m\u001b[0m\u001b[0m\n\u001b[0;32m    449\u001b[0m \u001b[1;33m\u001b[0m\u001b[0m\n\u001b[1;32m--> 450\u001b[1;33m     \u001b[1;32mdef\u001b[0m \u001b[0m__mul__\u001b[0m\u001b[1;33m(\u001b[0m\u001b[0mf\u001b[0m\u001b[1;33m,\u001b[0m \u001b[0mg\u001b[0m\u001b[1;33m)\u001b[0m\u001b[1;33m:\u001b[0m\u001b[1;33m\u001b[0m\u001b[0m\n\u001b[0m\u001b[0;32m    451\u001b[0m         \u001b[1;34m\"\"\"Multiply rational functions ``f`` and ``g``. \"\"\"\u001b[0m\u001b[1;33m\u001b[0m\u001b[0m\n\u001b[0;32m    452\u001b[0m         \u001b[0mfield\u001b[0m \u001b[1;33m=\u001b[0m \u001b[0mf\u001b[0m\u001b[1;33m.\u001b[0m\u001b[0mfield\u001b[0m\u001b[1;33m\u001b[0m\u001b[0m\n",
      "\u001b[1;31mKeyboardInterrupt\u001b[0m: "
     ]
    }
   ],
   "source": [
    "V3 = V2+V2"
   ]
  },
  {
   "cell_type": "code",
   "execution_count": 70,
   "metadata": {
    "collapsed": false
   },
   "outputs": [
    {
     "name": "stdout",
     "output_type": "stream",
     "text": [
      "continuous pdf\n",
      "for 0 <= x <= 1\n",
      "---------------------------\n",
      "√x⋅(-log(x) + 4) - log(x) - 4\n",
      "─────────────────────────────\n",
      "              √x             \n",
      "---------------------------\n"
     ]
    }
   ],
   "source": [
    "V3.display()"
   ]
  },
  {
   "cell_type": "code",
   "execution_count": 73,
   "metadata": {
    "collapsed": true
   },
   "outputs": [],
   "source": [
    "g2 = [[sqrt(x)],[0,2]]\n",
    "V4 = Transform(V3,g2)"
   ]
  },
  {
   "cell_type": "code",
   "execution_count": 75,
   "metadata": {
    "collapsed": false
   },
   "outputs": [
    {
     "name": "stdout",
     "output_type": "stream",
     "text": [
      "continuous pdf\n",
      "for 0 <= x <= 1\n",
      "---------------------------\n",
      "-4⋅x⋅log(x) + 8⋅x - 4⋅log(x) - 8\n",
      "---------------------------\n"
     ]
    }
   ],
   "source": [
    "V4.simplify()"
   ]
  },
  {
   "cell_type": "code",
   "execution_count": 78,
   "metadata": {
    "collapsed": true
   },
   "outputs": [],
   "source": [
    "# Example 3.13"
   ]
  },
  {
   "cell_type": "code",
   "execution_count": 59,
   "metadata": {
    "collapsed": true
   },
   "outputs": [],
   "source": [
    "X = WeibullRV(2,2)"
   ]
  },
  {
   "cell_type": "code",
   "execution_count": 60,
   "metadata": {
    "collapsed": false
   },
   "outputs": [],
   "source": [
    "alist = X.variate(n=10)\n",
    "blist = X.variate(n=12)\n",
    "clist = X.variate(n=17)"
   ]
  },
  {
   "cell_type": "code",
   "execution_count": 61,
   "metadata": {
    "collapsed": false
   },
   "outputs": [],
   "source": [
    "alist = [0.2135,0.3153,0.3841,0.3946,0.4707,0.5107,0.5783,0.5960,0.6404,0.7601]\n",
    "blist = [0.0482,0.0945,0.1149,0.2441,0.287,0.311,0.3362,0.3924,0.4166,0.4194,0.6217,0.698]\n",
    "clist = [0.0474,0.2732,0.2828,0.2952,0.337,0.3627,0.3698,0.4348,0.4968,0.5061,0.5093,\n",
    "         0.5211,0.5266,0.6654,0.6951,0.6975,0.7694]"
   ]
  },
  {
   "cell_type": "code",
   "execution_count": 62,
   "metadata": {
    "collapsed": true
   },
   "outputs": [],
   "source": [
    "A = BootstrapRV(alist)\n",
    "B = BootstrapRV(blist)\n",
    "C = BootstrapRV(clist)"
   ]
  },
  {
   "cell_type": "code",
   "execution_count": 63,
   "metadata": {
    "collapsed": true
   },
   "outputs": [],
   "source": [
    "Sstar = Minimum( MaximumIID(A,2),\n",
    "               Minimum(MaximumIID(B,3),\n",
    "                      MaximumIID(C,3)))\n",
    "Sstar1 = Minimum(MaximumIID(A,2),\n",
    "                 MaximumIID(B,3),\n",
    "                 MaximumIID(C,3))"
   ]
  },
  {
   "cell_type": "code",
   "execution_count": 64,
   "metadata": {
    "collapsed": false
   },
   "outputs": [
    {
     "data": {
      "image/png": "[encoded data removed]",
      "text/latex": [
       "$$\\left ( 0.425433172764199, \\quad 0.425433172764199\\right )$$"
      ],
      "text/plain": [
       "(0.425433172764199, 0.425433172764199)"
      ]
     },
     "execution_count": 64,
     "metadata": {},
     "output_type": "execute_result"
    }
   ],
   "source": [
    "Mean(Sstar),Mean(Sstar1)"
   ]
  },
  {
   "cell_type": "code",
   "execution_count": 67,
   "metadata": {
    "collapsed": false
   },
   "outputs": [
    {
     "name": "stdout",
     "output_type": "stream",
     "text": [
      "3 0.438389764206852\n",
      "4 0.444444894458068\n",
      "5 0.447839359028730\n",
      "5\n"
     ]
    }
   ],
   "source": [
    "n = 2\n",
    "target = 1.05\n",
    "m = Mean(Sstar)\n",
    "mux = m\n",
    "while (mux < target * m):\n",
    "    n+=1\n",
    "    System = Minimum(MaximumIID(A,n),\n",
    "                 MaximumIID(B,3),\n",
    "                 MaximumIID(C,3))\n",
    "    mux = Mean(System)\n",
    "    print n,mux\n",
    "print n"
   ]
  },
  {
   "cell_type": "code",
   "execution_count": null,
   "metadata": {
    "collapsed": true
   },
   "outputs": [],
   "source": []
  }
 ],
 "metadata": {
  "kernelspec": {
   "display_name": "Python 2",
   "language": "python",
   "name": "python2"
  },
  "language_info": {
   "codemirror_mode": {
    "name": "ipython",
    "version": 2
   },
   "file_extension": ".py",
   "mimetype": "text/x-python",
   "name": "python",
   "nbconvert_exporter": "python",
   "pygments_lexer": "ipython2",
   "version": "2.7.10"
  }
 },
 "nbformat": 4,
 "nbformat_minor": 0
}
