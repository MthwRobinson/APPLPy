{
 "metadata": {
  "name": "",
  "signature": "sha256:3d55eb112a56fe967235f060b614ff7a17ea46e972c8078a6a68fd89e54257fb"
 },
 "nbformat": 3,
 "nbformat_minor": 0,
 "worksheets": [
  {
   "cells": [
    {
     "cell_type": "code",
     "collapsed": false,
     "input": [
      "from applpy import *"
     ],
     "language": "python",
     "metadata": {},
     "outputs": [
      {
       "output_type": "stream",
       "stream": "stdout",
       "text": [
        "-----------------\n",
        "Welcome to ApplPy\n",
        "-----------------\n",
        "ApplPy Procedures\n",
        "\n",
        "Procedure Notation\n",
        "\n",
        "Capital letters are random variables\n",
        "Lower case letters are number\n",
        "Greek letters are parameters\n",
        "gX indicates a function\n",
        "n and r are positive integers where n>=r\n",
        "Square brackets [] denote a list\n",
        "Curly bracks {} denote an optional variable\n",
        "\n",
        "\n",
        "RV Class Procedures\n",
        "X.variate(n,x),X.verifyPDF()\n",
        "\n",
        "Functional Form Conversion\n",
        "CDF(X,{x}),CHF(X,{x}),HF(X,{x}),IDF(X,{x})\n",
        "PDF(X,{x}),SF(X,{x}),BootstrapRV([data])\n",
        "Convert(X,{x})\n",
        "\n",
        "Procedures on One Random Variable\n",
        "ConvolutionIID(X,n),CoefOfVar(X),ExpectedValue(X,gx)\n",
        "Kurtosis(X),MaximumIID(X,n),Mean(X),MGF(X)\n",
        "MinimumIID(X,n),OrderStat(X,n,r),ProductIID(X,n)\n",
        "Skewness(X),Transform(X,gX),Truncate(X,[x1,x2])\n",
        "Variance(X)\n",
        "\n",
        "Procedures on Two Random Variables\n",
        "Convolution(X,Y),Maximum(X,Y),Minimum(X,Y)\n",
        "Mixture([p1,p2],[X,Y]),Product(X,Y)\n",
        "\n",
        "Utilities\n",
        "PlotDist(X,{[x1,x2]}),PlotDisplay([plotlist],{[x1,x2]})\n",
        "PPPlot(X,[sample]),QQPlot(X,[sample])\n",
        "\n",
        "Continuous Distributions\n",
        "BetaRV(alpha,beta),CauchyRV(a,alpha),ChiRV(N),ChiSquareRV(N)\n",
        "ErlangRV(theta,N),ExponentialRV(theta)\n",
        "ExponentialPowerRV(theta,kappa),ExtremeValueRV(alpha,beta)\n",
        "GammaRV(theta,kappa),GompertzRV(theta,kappa)\n",
        "InverseGaussianRV(theta,mu),InverseGammaRV(alpha,beta)\n",
        "LogGammaRV(alpha,beta), LogisticRV(kappa,theta)\n",
        "LogLogisticRV(theta,kappa),LogNormalRV(mu,sigma)\n",
        "LomaxRV(kappa,theta),MuthRV(kappa),NormalRV(mu,sigma)\n",
        "ParetoRV(theta,kappa),RayleighRV(theta),TriangularRV(a,b,c)\n",
        "TRV(N),UniformRV(a,b),WeibullRV(theta,kappa)\n",
        "\n",
        "Discrete Distributions\n",
        "BenfordRV(),BinomialRV(n,p),GeometricRV(p),PoissonRV(theta)\n",
        "IPython console for SymPy 0.7.5 (Python 2.7.6-64-bit) (ground types: python)\n",
        "\n",
        "These commands were executed:\n",
        ">>> from __future__ import division\n",
        ">>> from sympy import *\n",
        ">>> x, y, z, t = symbols('x y z t')\n",
        ">>> k, m, n = symbols('k m n', integer=True)\n",
        ">>> f, g, h = symbols('f g h', cls=Function)\n",
        "\n",
        "Documentation can be found at http://www.sympy.org\n"
       ]
      },
      {
       "output_type": "stream",
       "stream": "stderr",
       "text": [
        "WARNING: Hook shutdown_hook is deprecated. Use the atexit module instead.\n"
       ]
      }
     ],
     "prompt_number": 1
    },
    {
     "cell_type": "code",
     "collapsed": false,
     "input": [
      "# Example 1"
     ],
     "language": "python",
     "metadata": {},
     "outputs": [],
     "prompt_number": 25
    },
    {
     "cell_type": "code",
     "collapsed": false,
     "input": [
      "n=10"
     ],
     "language": "python",
     "metadata": {},
     "outputs": [],
     "prompt_number": 26
    },
    {
     "cell_type": "code",
     "collapsed": false,
     "input": [
      "X=UniformRV(0,1)"
     ],
     "language": "python",
     "metadata": {},
     "outputs": [],
     "prompt_number": 28
    },
    {
     "cell_type": "code",
     "collapsed": false,
     "input": [
      "X.display()"
     ],
     "language": "python",
     "metadata": {},
     "outputs": [
      {
       "output_type": "stream",
       "stream": "stdout",
       "text": [
        "continuous pdf with support [0, 1]:\n"
       ]
      },
      {
       "output_type": "stream",
       "stream": "stderr",
       "text": [
        "/home/matt/anaconda/lib/python2.7/site-packages/IPython/core/formatters.py:239: FormatterWarning: Exception in image/png formatter: \n",
        "\\begin{cases} 1.0 & \\text{for}\\: x \\geq 0 \\\\0 & \\text{otherwise} \\end{cases}\n",
        "^\n",
        "Unknown symbol: \\begin (at char 0), (line:1, col:1)\n",
        "  FormatterWarning,\n"
       ]
      },
      {
       "latex": [
        "$$\\begin{cases} 1.0 & \\text{for}\\: x \\geq 0 \\\\0 & \\text{otherwise} \\end{cases}$$"
       ],
       "metadata": {},
       "output_type": "pyout",
       "prompt_number": 29,
       "text": [
        "\u23a71.0  for x \u2265 0\n",
        "\u23a8              \n",
        "\u23a9 0   otherwise"
       ]
      }
     ],
     "prompt_number": 29
    },
    {
     "cell_type": "code",
     "collapsed": false,
     "input": [
      "Y=ConvolutionIID(X,10)"
     ],
     "language": "python",
     "metadata": {},
     "outputs": [],
     "prompt_number": 30
    },
    {
     "cell_type": "code",
     "collapsed": false,
     "input": [
      "Y.display()"
     ],
     "language": "python",
     "metadata": {},
     "outputs": [
      {
       "output_type": "stream",
       "stream": "stdout",
       "text": [
        "continuous pdf with support [0, 1, 2, 3, 4, 5, 6, 7, 8, 9, 10]:\n"
       ]
      },
      {
       "output_type": "stream",
       "stream": "stderr",
       "text": [
        "/home/matt/anaconda/lib/python2.7/site-packages/IPython/core/formatters.py:239: FormatterWarning: Exception in image/png formatter: \n",
        "\\begin{cases} 2.75573192239859 \\cdot 10^{-6} \\log^{9}{\\left (e^{x} \\right )} & \\text{for}\\: x \\geq 0 \\\\- 2.48015873015873 \\cdot 10^{-5} \\log^{9}{\\left (e^{x} \\right )} + 0.000248015873015873 \\log^{8}{\\left (e^{x} \\right )} - 0.000992063492063492 \\log^{7}{\\left (e^{x} \\right )} + 0.00231481481481481 \\log^{6}{\\left (e^{x} \\right )} - 0.00347222222222222 \\log^{5}{\\left (e^{x} \\right )} + 0.00347222222222222 \\log^{4}{\\left (e^{x} \\right )} - 0.00231481481481481 \\log^{3}{\\left (e^{x} \\right )} + 0.000992063492063492 \\log^{2}{\\left (e^{x} \\right )} - 0.000248015873015873 \\log{\\left (e^{x} \\right )} + 2.75573192239859 \\cdot 10^{-5} & \\text{for}\\: x \\geq 1 \\\\9.92063492063492 \\cdot 10^{-5} \\log^{9}{\\left (e^{x} \\right )} - 0.00198412698412698 \\log^{8}{\\left (e^{x} \\right )} + 0.0168650793650794 \\log^{7}{\\left (e^{x} \\right )} - 0.0810185185185185 \\log^{6}{\\left (e^{x} \\right )} + 0.246527777777778 \\log^{5}{\\left (e^{x} \\right )} - 0.496527777777778 \\log^{4}{\\left (e^{x} \\right )} + 0.664351851851852 \\log^{3}{\\left (e^{x} \\right )} - 0.570436507936508 \\log^{2}{\\left (e^{x} \\right )} + 0.28546626984127 \\log{\\left (e^{x} \\right )} - 0.0634645061728388 & \\text{for}\\: x \\geq 2 \\\\- 0.000231481481481481 \\log^{9}{\\left (e^{x} \\right )} + 0.00694444444444444 \\log^{8}{\\left (e^{x} \\right )} - 0.0902777777777778 \\log^{7}{\\left (e^{x} \\right )} + 0.668981481481482 \\log^{6}{\\left (e^{x} \\right )} - 3.12847222222222 \\log^{5}{\\left (e^{x} \\right )} + 9.62847222222222 \\log^{4}{\\left (e^{x} \\right )} - 19.5856481481481 \\log^{3}{\\left (e^{x} \\right )} + 25.4652777777778 \\log^{2}{\\left (e^{x} \\right )} - 19.2413194444444 \\log{\\left (e^{x} \\right )} + 6.44546406525569 & \\text{for}\\: x \\geq 3 \\\\0.000347222222222222 \\log^{9}{\\left (e^{x} \\right )} - 0.0138888888888889 \\log^{8}{\\left (e^{x} \\right )} + 0.243055555555556 \\log^{7}{\\left (e^{x} \\right )} - 2.44212962962963 \\log^{6}{\\left (e^{x} \\right )} + 15.5381944444444 \\log^{5}{\\left (e^{x} \\right )} - 65.0381944444444 \\log^{4}{\\left (e^{x} \\right )} + 179.525462962963 \\log^{3}{\\left (e^{x} \\right )} - 315.868055555556 \\log^{2}{\\left (e^{x} \\right )} + 322.092013888889 \\log{\\left (e^{x} \\right )} - 145.258239638449 & \\text{for}\\: x \\geq 4 \\\\- 0.000347222222222222 \\log^{9}{\\left (e^{x} \\right )} + 0.0173611111111111 \\log^{8}{\\left (e^{x} \\right )} - 0.381944444444444 \\log^{7}{\\left (e^{x} \\right )} + 4.84953703703704 \\log^{6}{\\left (e^{x} \\right )} - 39.1493055555556 \\log^{5}{\\left (e^{x} \\right )} + 208.399305555556 \\log^{4}{\\left (e^{x} \\right )} - 731.93287037037 \\log^{3}{\\left (e^{x} \\right )} + 1637.25694444444 \\log^{2}{\\left (e^{x} \\right )} - 2119.31423611111 \\log{\\left (e^{x} \\right )} + 1211.0785659171 & \\text{for}\\: x \\geq 5 \\\\0.000231481481481481 \\log^{9}{\\left (e^{x} \\right )} - 0.0138888888888889 \\log^{8}{\\left (e^{x} \\right )} + 0.368055555555556 \\log^{7}{\\left (e^{x} \\right )} - 5.65046296296296 \\log^{6}{\\left (e^{x} \\right )} + 55.3506944444444 \\log^{5}{\\left (e^{x} \\right )} - 358.600694444444 \\log^{4}{\\left (e^{x} \\right )} + 1536.06712962963 \\log^{3}{\\left (e^{x} \\right )} - 4194.74305555556 \\log^{2}{\\left (e^{x} \\right )} + 6628.68576388889 \\log{\\left (e^{x} \\right )} - 4620.92143408288 & \\text{for}\\: x \\geq 6 \\\\- 9.92063492063492 \\cdot 10^{-5} \\log^{9}{\\left (e^{x} \\right )} + 0.00694444444444444 \\log^{8}{\\left (e^{x} \\right )} - 0.215277777777778 \\log^{7}{\\left (e^{x} \\right )} + 3.87731481481481 \\log^{6}{\\left (e^{x} \\right )} - 44.6909722222222 \\log^{5}{\\left (e^{x} \\right )} + 341.690972222222 \\log^{4}{\\left (e^{x} \\right )} - 1731.96064814815 \\log^{3}{\\left (e^{x} \\right )} + 5609.34027777778 \\log^{2}{\\left (e^{x} \\right )} - 10528.4600694444 \\log{\\left (e^{x} \\right )} + 8723.52532517631 & \\text{for}\\: x \\geq 7 \\\\2.48015873015873 \\cdot 10^{-5} \\log^{9}{\\left (e^{x} \\right )} - 0.00198412698412698 \\log^{8}{\\left (e^{x} \\right )} + 0.0704365079365079 \\log^{7}{\\left (e^{x} \\right )} - 1.45601851851852 \\log^{6}{\\left (e^{x} \\right )} + 19.3090277777778 \\log^{5}{\\left (e^{x} \\right )} - 170.309027777778 \\log^{4}{\\left (e^{x} \\right )} + 998.706018518518 \\log^{3}{\\left (e^{x} \\right )} - 3752.94543650794 \\log^{2}{\\left (e^{x} \\right )} + 8196.11135912698 \\log{\\left (e^{x} \\right )} - 7920.53816688714 & \\text{for}\\: x \\geq 8 \\\\- 2.75573192239859 \\cdot 10^{-6} \\log^{9}{\\left (e^{x} \\right )} + 0.000248015873015873 \\log^{8}{\\left (e^{x} \\right )} - 0.00992063492063492 \\log^{7}{\\left (e^{x} \\right )} + 0.231481481481481 \\log^{6}{\\left (e^{x} \\right )} - 3.47222222222222 \\log^{5}{\\left (e^{x} \\right )} + 34.7222222222222 \\log^{4}{\\left (e^{x} \\right )} - 231.481481481481 \\log^{3}{\\left (e^{x} \\right )} + 992.063492063492 \\log^{2}{\\left (e^{x} \\right )} - 2480.15873015873 \\log{\\left (e^{x} \\right )} + 2755.73192239859 & \\text{for}\\: x \\geq 9 \\\\0 & \\text{otherwise} \\end{cases}\n",
        "^\n",
        "Unknown symbol: \\begin (at char 0), (line:1, col:1)\n",
        "  FormatterWarning,\n"
       ]
      },
      {
       "latex": [
        "$$\\begin{cases} 2.75573192239859 \\cdot 10^{-6} \\log^{9}{\\left (e^{x} \\right )} & \\text{for}\\: x \\geq 0 \\\\- 2.48015873015873 \\cdot 10^{-5} \\log^{9}{\\left (e^{x} \\right )} + 0.000248015873015873 \\log^{8}{\\left (e^{x} \\right )} - 0.000992063492063492 \\log^{7}{\\left (e^{x} \\right )} + 0.00231481481481481 \\log^{6}{\\left (e^{x} \\right )} - 0.00347222222222222 \\log^{5}{\\left (e^{x} \\right )} + 0.00347222222222222 \\log^{4}{\\left (e^{x} \\right )} - 0.00231481481481481 \\log^{3}{\\left (e^{x} \\right )} + 0.000992063492063492 \\log^{2}{\\left (e^{x} \\right )} - 0.000248015873015873 \\log{\\left (e^{x} \\right )} + 2.75573192239859 \\cdot 10^{-5} & \\text{for}\\: x \\geq 1 \\\\9.92063492063492 \\cdot 10^{-5} \\log^{9}{\\left (e^{x} \\right )} - 0.00198412698412698 \\log^{8}{\\left (e^{x} \\right )} + 0.0168650793650794 \\log^{7}{\\left (e^{x} \\right )} - 0.0810185185185185 \\log^{6}{\\left (e^{x} \\right )} + 0.246527777777778 \\log^{5}{\\left (e^{x} \\right )} - 0.496527777777778 \\log^{4}{\\left (e^{x} \\right )} + 0.664351851851852 \\log^{3}{\\left (e^{x} \\right )} - 0.570436507936508 \\log^{2}{\\left (e^{x} \\right )} + 0.28546626984127 \\log{\\left (e^{x} \\right )} - 0.0634645061728388 & \\text{for}\\: x \\geq 2 \\\\- 0.000231481481481481 \\log^{9}{\\left (e^{x} \\right )} + 0.00694444444444444 \\log^{8}{\\left (e^{x} \\right )} - 0.0902777777777778 \\log^{7}{\\left (e^{x} \\right )} + 0.668981481481482 \\log^{6}{\\left (e^{x} \\right )} - 3.12847222222222 \\log^{5}{\\left (e^{x} \\right )} + 9.62847222222222 \\log^{4}{\\left (e^{x} \\right )} - 19.5856481481481 \\log^{3}{\\left (e^{x} \\right )} + 25.4652777777778 \\log^{2}{\\left (e^{x} \\right )} - 19.2413194444444 \\log{\\left (e^{x} \\right )} + 6.44546406525569 & \\text{for}\\: x \\geq 3 \\\\0.000347222222222222 \\log^{9}{\\left (e^{x} \\right )} - 0.0138888888888889 \\log^{8}{\\left (e^{x} \\right )} + 0.243055555555556 \\log^{7}{\\left (e^{x} \\right )} - 2.44212962962963 \\log^{6}{\\left (e^{x} \\right )} + 15.5381944444444 \\log^{5}{\\left (e^{x} \\right )} - 65.0381944444444 \\log^{4}{\\left (e^{x} \\right )} + 179.525462962963 \\log^{3}{\\left (e^{x} \\right )} - 315.868055555556 \\log^{2}{\\left (e^{x} \\right )} + 322.092013888889 \\log{\\left (e^{x} \\right )} - 145.258239638449 & \\text{for}\\: x \\geq 4 \\\\- 0.000347222222222222 \\log^{9}{\\left (e^{x} \\right )} + 0.0173611111111111 \\log^{8}{\\left (e^{x} \\right )} - 0.381944444444444 \\log^{7}{\\left (e^{x} \\right )} + 4.84953703703704 \\log^{6}{\\left (e^{x} \\right )} - 39.1493055555556 \\log^{5}{\\left (e^{x} \\right )} + 208.399305555556 \\log^{4}{\\left (e^{x} \\right )} - 731.93287037037 \\log^{3}{\\left (e^{x} \\right )} + 1637.25694444444 \\log^{2}{\\left (e^{x} \\right )} - 2119.31423611111 \\log{\\left (e^{x} \\right )} + 1211.0785659171 & \\text{for}\\: x \\geq 5 \\\\0.000231481481481481 \\log^{9}{\\left (e^{x} \\right )} - 0.0138888888888889 \\log^{8}{\\left (e^{x} \\right )} + 0.368055555555556 \\log^{7}{\\left (e^{x} \\right )} - 5.65046296296296 \\log^{6}{\\left (e^{x} \\right )} + 55.3506944444444 \\log^{5}{\\left (e^{x} \\right )} - 358.600694444444 \\log^{4}{\\left (e^{x} \\right )} + 1536.06712962963 \\log^{3}{\\left (e^{x} \\right )} - 4194.74305555556 \\log^{2}{\\left (e^{x} \\right )} + 6628.68576388889 \\log{\\left (e^{x} \\right )} - 4620.92143408288 & \\text{for}\\: x \\geq 6 \\\\- 9.92063492063492 \\cdot 10^{-5} \\log^{9}{\\left (e^{x} \\right )} + 0.00694444444444444 \\log^{8}{\\left (e^{x} \\right )} - 0.215277777777778 \\log^{7}{\\left (e^{x} \\right )} + 3.87731481481481 \\log^{6}{\\left (e^{x} \\right )} - 44.6909722222222 \\log^{5}{\\left (e^{x} \\right )} + 341.690972222222 \\log^{4}{\\left (e^{x} \\right )} - 1731.96064814815 \\log^{3}{\\left (e^{x} \\right )} + 5609.34027777778 \\log^{2}{\\left (e^{x} \\right )} - 10528.4600694444 \\log{\\left (e^{x} \\right )} + 8723.52532517631 & \\text{for}\\: x \\geq 7 \\\\2.48015873015873 \\cdot 10^{-5} \\log^{9}{\\left (e^{x} \\right )} - 0.00198412698412698 \\log^{8}{\\left (e^{x} \\right )} + 0.0704365079365079 \\log^{7}{\\left (e^{x} \\right )} - 1.45601851851852 \\log^{6}{\\left (e^{x} \\right )} + 19.3090277777778 \\log^{5}{\\left (e^{x} \\right )} - 170.309027777778 \\log^{4}{\\left (e^{x} \\right )} + 998.706018518518 \\log^{3}{\\left (e^{x} \\right )} - 3752.94543650794 \\log^{2}{\\left (e^{x} \\right )} + 8196.11135912698 \\log{\\left (e^{x} \\right )} - 7920.53816688714 & \\text{for}\\: x \\geq 8 \\\\- 2.75573192239859 \\cdot 10^{-6} \\log^{9}{\\left (e^{x} \\right )} + 0.000248015873015873 \\log^{8}{\\left (e^{x} \\right )} - 0.00992063492063492 \\log^{7}{\\left (e^{x} \\right )} + 0.231481481481481 \\log^{6}{\\left (e^{x} \\right )} - 3.47222222222222 \\log^{5}{\\left (e^{x} \\right )} + 34.7222222222222 \\log^{4}{\\left (e^{x} \\right )} - 231.481481481481 \\log^{3}{\\left (e^{x} \\right )} + 992.063492063492 \\log^{2}{\\left (e^{x} \\right )} - 2480.15873015873 \\log{\\left (e^{x} \\right )} + 2755.73192239859 & \\text{for}\\: x \\geq 9 \\\\0 & \\text{otherwise} \\end{cases}$$"
       ],
       "metadata": {},
       "output_type": "pyout",
       "prompt_number": 31,
       "text": [
        "\u23a7                                                                             \n",
        "\u23aa                                                                             \n",
        "\u23aa                                                                             \n",
        "\u23aa                         9\u239b x\u239e                           8\u239b x\u239e               \n",
        "\u23aa- 2.48015873015873e-5\u22c5log \u239d\u212f \u23a0 + 0.000248015873015873\u22c5log \u239d\u212f \u23a0 - 0.0009920634\n",
        "\u23aa                                                                             \n",
        "\u23aa                                 9\u239b x\u239e                          8\u239b x\u239e        \n",
        "\u23aa          9.92063492063492e-5\u22c5log \u239d\u212f \u23a0 - 0.00198412698412698\u22c5log \u239d\u212f \u23a0 + 0.016\n",
        "\u23aa                                                                             \n",
        "\u23aa                                      9\u239b x\u239e                          8\u239b x\u239e   \n",
        "\u23aa            - 0.000231481481481481\u22c5log \u239d\u212f \u23a0 + 0.00694444444444444\u22c5log \u239d\u212f \u23a0 - \n",
        "\u23aa                                                                             \n",
        "\u23aa                                      9\u239b x\u239e                         8\u239b x\u239e    \n",
        "\u23aa              0.000347222222222222\u22c5log \u239d\u212f \u23a0 - 0.0138888888888889\u22c5log \u239d\u212f \u23a0 + 0\n",
        "\u23aa                                                                             \n",
        "\u23a8                                        9\u239b x\u239e                         8\u239b x\u239e  \n",
        "\u23aa              - 0.000347222222222222\u22c5log \u239d\u212f \u23a0 + 0.0173611111111111\u22c5log \u239d\u212f \u23a0 -\n",
        "\u23aa                                                                             \n",
        "\u23aa                                      9\u239b x\u239e                         8\u239b x\u239e    \n",
        "\u23aa              0.000231481481481481\u22c5log \u239d\u212f \u23a0 - 0.0138888888888889\u22c5log \u239d\u212f \u23a0 + 0\n",
        "\u23aa                                                                             \n",
        "\u23aa                                      9\u239b x\u239e                          8\u239b x\u239e   \n",
        "\u23aa             - 9.92063492063492e-5\u22c5log \u239d\u212f \u23a0 + 0.00694444444444444\u22c5log \u239d\u212f \u23a0 - \n",
        "\u23aa                                                                             \n",
        "\u23aa                                     9\u239b x\u239e                          8\u239b x\u239e    \n",
        "\u23aa              2.48015873015873e-5\u22c5log \u239d\u212f \u23a0 - 0.00198412698412698\u22c5log \u239d\u212f \u23a0 + 0\n",
        "\u23aa                                                                             \n",
        "\u23aa                                    9\u239b x\u239e                           8\u239b x\u239e    \n",
        "\u23aa           - 2.75573192239859e-6\u22c5log \u239d\u212f \u23a0 + 0.000248015873015873\u22c5log \u239d\u212f \u23a0 - 0\n",
        "\u23aa                                                                             \n",
        "\u23a9                                                                             \n",
        "\n",
        "                                                                              \n",
        "                                                            2.75573192239859e-\n",
        "                                                                              \n",
        "            7\u239b x\u239e                          6\u239b x\u239e                          5\u239b x\n",
        "92063492\u22c5log \u239d\u212f \u23a0 + 0.00231481481481481\u22c5log \u239d\u212f \u23a0 - 0.00347222222222222\u22c5log \u239d\u212f \n",
        "                                                                              \n",
        "                 7\u239b x\u239e                         6\u239b x\u239e                        5\u239b\n",
        "8650793650794\u22c5log \u239d\u212f \u23a0 - 0.0810185185185185\u22c5log \u239d\u212f \u23a0 + 0.246527777777778\u22c5log \u239d\n",
        "                                                                              \n",
        "                      7\u239b x\u239e                        6\u239b x\u239e                      \n",
        "0.0902777777777778\u22c5log \u239d\u212f \u23a0 + 0.668981481481482\u22c5log \u239d\u212f \u23a0 - 3.12847222222222\u22c5lo\n",
        "                                                                              \n",
        "                    7\u239b x\u239e                       6\u239b x\u239e                       5\u239b\n",
        ".243055555555556\u22c5log \u239d\u212f \u23a0 - 2.44212962962963\u22c5log \u239d\u212f \u23a0 + 15.5381944444444\u22c5log \u239d\n",
        "                                                                              \n",
        "                      7\u239b x\u239e                       6\u239b x\u239e                       \n",
        " 0.381944444444444\u22c5log \u239d\u212f \u23a0 + 4.84953703703704\u22c5log \u239d\u212f \u23a0 - 39.1493055555556\u22c5log\n",
        "                                                                              \n",
        "                    7\u239b x\u239e                       6\u239b x\u239e                       5\u239b\n",
        ".368055555555556\u22c5log \u239d\u212f \u23a0 - 5.65046296296296\u22c5log \u239d\u212f \u23a0 + 55.3506944444444\u22c5log \u239d\n",
        "                                                                              \n",
        "                     7\u239b x\u239e                       6\u239b x\u239e                       5\n",
        "0.215277777777778\u22c5log \u239d\u212f \u23a0 + 3.87731481481481\u22c5log \u239d\u212f \u23a0 - 44.6909722222222\u22c5log \n",
        "                                                                              \n",
        "                     7\u239b x\u239e                       6\u239b x\u239e                       5\n",
        ".0704365079365079\u22c5log \u239d\u212f \u23a0 - 1.45601851851852\u22c5log \u239d\u212f \u23a0 + 19.3090277777778\u22c5log \n",
        "                                                                              \n",
        "                      7\u239b x\u239e                        6\u239b x\u239e                      \n",
        ".00992063492063492\u22c5log \u239d\u212f \u23a0 + 0.231481481481481\u22c5log \u239d\u212f \u23a0 - 3.47222222222222\u22c5lo\n",
        "                                                                              \n",
        "                                                                          0   \n",
        "\n",
        "     9\u239b x\u239e                                                                    \n",
        "6\u22c5log \u239d\u212f \u23a0                                                                    \n",
        "                                                                              \n",
        "\u239e                          4\u239b x\u239e                          3\u239b x\u239e               \n",
        "\u23a0 + 0.00347222222222222\u22c5log \u239d\u212f \u23a0 - 0.00231481481481481\u22c5log \u239d\u212f \u23a0 + 0.0009920634\n",
        "                                                                              \n",
        " x\u239e                        4\u239b x\u239e                        3\u239b x\u239e                 \n",
        "\u212f \u23a0 - 0.496527777777778\u22c5log \u239d\u212f \u23a0 + 0.664351851851852\u22c5log \u239d\u212f \u23a0 - 0.570436507936\n",
        "                                                                              \n",
        " 5\u239b x\u239e                       4\u239b x\u239e                       3\u239b x\u239e                \n",
        "g \u239d\u212f \u23a0 + 9.62847222222222\u22c5log \u239d\u212f \u23a0 - 19.5856481481481\u22c5log \u239d\u212f \u23a0 + 25.4652777777\n",
        "                                                                              \n",
        " x\u239e                       4\u239b x\u239e                       3\u239b x\u239e                   \n",
        "\u212f \u23a0 - 65.0381944444444\u22c5log \u239d\u212f \u23a0 + 179.525462962963\u22c5log \u239d\u212f \u23a0 - 315.868055555556\n",
        "                                                                              \n",
        "5\u239b x\u239e                       4\u239b x\u239e                      3\u239b x\u239e                  \n",
        " \u239d\u212f \u23a0 + 208.399305555556\u22c5log \u239d\u212f \u23a0 - 731.93287037037\u22c5log \u239d\u212f \u23a0 + 1637.2569444444\n",
        "                                                                              \n",
        " x\u239e                       4\u239b x\u239e                       3\u239b x\u239e                   \n",
        "\u212f \u23a0 - 358.600694444444\u22c5log \u239d\u212f \u23a0 + 1536.06712962963\u22c5log \u239d\u212f \u23a0 - 4194.74305555556\n",
        "                                                                              \n",
        "\u239b x\u239e                       4\u239b x\u239e                       3\u239b x\u239e                  \n",
        "\u239d\u212f \u23a0 + 341.690972222222\u22c5log \u239d\u212f \u23a0 - 1731.96064814815\u22c5log \u239d\u212f \u23a0 + 5609.3402777777\n",
        "                                                                              \n",
        "\u239b x\u239e                       4\u239b x\u239e                       3\u239b x\u239e                  \n",
        "\u239d\u212f \u23a0 - 170.309027777778\u22c5log \u239d\u212f \u23a0 + 998.706018518518\u22c5log \u239d\u212f \u23a0 - 3752.9454365079\n",
        "                                                                              \n",
        " 5\u239b x\u239e                       4\u239b x\u239e                       3\u239b x\u239e                \n",
        "g \u239d\u212f \u23a0 + 34.7222222222222\u22c5log \u239d\u212f \u23a0 - 231.481481481481\u22c5log \u239d\u212f \u23a0 + 992.063492063\n",
        "                                                                              \n",
        "                                                                              \n",
        "\n",
        "                                                                              \n",
        "                                                                        for x \n",
        "                                                                              \n",
        "            2\u239b x\u239e                           \u239b x\u239e                              \n",
        "92063492\u22c5log \u239d\u212f \u23a0 - 0.000248015873015873\u22c5log\u239d\u212f \u23a0 + 2.75573192239859e-5  for x \n",
        "                                                                              \n",
        "       2\u239b x\u239e                       \u239b x\u239e                                       \n",
        "508\u22c5log \u239d\u212f \u23a0 + 0.28546626984127\u22c5log\u239d\u212f \u23a0 - 0.0634645061728388            for x \n",
        "                                                                              \n",
        "       2\u239b x\u239e                       \u239b x\u239e                                       \n",
        "778\u22c5log \u239d\u212f \u23a0 - 19.2413194444444\u22c5log\u239d\u212f \u23a0 + 6.44546406525569              for x \n",
        "                                                                              \n",
        "    2\u239b x\u239e                       \u239b x\u239e                                          \n",
        "\u22c5log \u239d\u212f \u23a0 + 322.092013888889\u22c5log\u239d\u212f \u23a0 - 145.258239638449                 for x \n",
        "                                                                              \n",
        "     2\u239b x\u239e                       \u239b x\u239e                                         \n",
        "4\u22c5log \u239d\u212f \u23a0 - 2119.31423611111\u22c5log\u239d\u212f \u23a0 + 1211.0785659171                 for x \n",
        "                                                                              \n",
        "    2\u239b x\u239e                       \u239b x\u239e                                          \n",
        "\u22c5log \u239d\u212f \u23a0 + 6628.68576388889\u22c5log\u239d\u212f \u23a0 - 4620.92143408288                 for x \n",
        "                                                                              \n",
        "     2\u239b x\u239e                       \u239b x\u239e                                         \n",
        "8\u22c5log \u239d\u212f \u23a0 - 10528.4600694444\u22c5log\u239d\u212f \u23a0 + 8723.52532517631                for x \n",
        "                                                                              \n",
        "     2\u239b x\u239e                       \u239b x\u239e                                         \n",
        "4\u22c5log \u239d\u212f \u23a0 + 8196.11135912698\u22c5log\u239d\u212f \u23a0 - 7920.53816688714                for x \n",
        "                                                                              \n",
        "       2\u239b x\u239e                       \u239b x\u239e                                       \n",
        "492\u22c5log \u239d\u212f \u23a0 - 2480.15873015873\u22c5log\u239d\u212f \u23a0 + 2755.73192239859              for x \n",
        "                                                                              \n",
        "                                                                        otherw\n",
        "\n",
        "   \n",
        "\u2265 0\n",
        "   \n",
        "   \n",
        "\u2265 1\n",
        "   \n",
        "   \n",
        "\u2265 2\n",
        "   \n",
        "   \n",
        "\u2265 3\n",
        "   \n",
        "   \n",
        "\u2265 4\n",
        "   \n",
        "   \n",
        "\u2265 5\n",
        "   \n",
        "   \n",
        "\u2265 6\n",
        "   \n",
        "   \n",
        "\u2265 7\n",
        "   \n",
        "   \n",
        "\u2265 8\n",
        "   \n",
        "   \n",
        "\u2265 9\n",
        "   \n",
        "ise"
       ]
      }
     ],
     "prompt_number": 31
    },
    {
     "cell_type": "code",
     "collapsed": false,
     "input": [
      "CDF(Y,6)-CDF(Y,4)"
     ],
     "language": "python",
     "metadata": {},
     "outputs": [
      {
       "latex": [
        "$$0.722196869513482$$"
       ],
       "metadata": {},
       "output_type": "pyout",
       "png": "[encoded data removed]",
       "prompt_number": 32,
       "text": [
        "0.722196869513482"
       ]
      }
     ],
     "prompt_number": 32
    },
    {
     "cell_type": "code",
     "collapsed": false,
     "input": [
      "# Example 2"
     ],
     "language": "python",
     "metadata": {},
     "outputs": [],
     "prompt_number": 19
    },
    {
     "cell_type": "code",
     "collapsed": false,
     "input": [
      "X=TriangularRV(1,2,4)"
     ],
     "language": "python",
     "metadata": {},
     "outputs": [],
     "prompt_number": 33
    },
    {
     "cell_type": "code",
     "collapsed": false,
     "input": [
      "Y=TriangularRV(1,2,3)"
     ],
     "language": "python",
     "metadata": {},
     "outputs": [],
     "prompt_number": 34
    },
    {
     "cell_type": "code",
     "collapsed": false,
     "input": [
      "V=X*Y"
     ],
     "language": "python",
     "metadata": {},
     "outputs": [],
     "prompt_number": 35
    },
    {
     "cell_type": "code",
     "collapsed": false,
     "input": [
      "V.display()"
     ],
     "language": "python",
     "metadata": {},
     "outputs": [
      {
       "output_type": "stream",
       "stream": "stdout",
       "text": [
        "continuous pdf with support [1, 2, 3, 4, 6, 8, 12]:\n"
       ]
      },
      {
       "output_type": "stream",
       "stream": "stderr",
       "text": [
        "/home/matt/anaconda/lib/python2.7/site-packages/IPython/core/formatters.py:239: FormatterWarning: Exception in image/png formatter: \n",
        "\\begin{cases} - 4 x / 3 + \\left(2 x + 2\\right) \\log{\\left (x \\right )} / 3 + 1.33333333333333 & \\text{for}\\: x \\geq 1 \\\\10 x / 3 + \\log{\\left (2^{7 x / 3 + 4.66666666666667} x^{- 5 x / 3 - 4} \\right )} - 8 & \\text{for}\\: x \\geq 2 \\\\2 x + \\log{\\left (16 \\cdot 2^{7 x / 3 + 0.666666666666667} \\cdot 3^{- 2 x / 3} x^{- x - 2} / 9 \\right )} - 4 & \\text{for}\\: x \\geq 3 \\\\- 8 x / 3 + \\log{\\left (2^{- 5 x / 3} \\cdot 6^{- 2 x / 3} x^{4 x / 3 + 7.33333333333333} / 147456 \\right )} + 14.6666666666667 & \\text{for}\\: x \\geq 4 \\\\- 2 x / 3 + \\log{\\left (81 \\cdot 2^{- 4 x / 3} \\cdot 3^{x / 3} x^{x / 3 + 1.33333333333333} / 256 \\right )} + 2.66666666666667 & \\text{for}\\: x \\geq 6 \\\\2 x / 3 + \\log{\\left (12^{x / 3 + 4} x^{- x / 3 - 4} \\right )} - 8 & \\text{for}\\: x \\geq 8 \\\\0 & \\text{otherwise} \\end{cases}\n",
        "^\n",
        "Unknown symbol: \\begin (at char 0), (line:1, col:1)\n",
        "  FormatterWarning,\n"
       ]
      },
      {
       "latex": [
        "$$\\begin{cases} - \\frac{4 x}{3} + \\frac{1}{3} \\left(2 x + 2\\right) \\log{\\left (x \\right )} + 1.33333333333333 & \\text{for}\\: x \\geq 1 \\\\\\frac{10 x}{3} + \\log{\\left (2^{\\frac{7 x}{3} + 4.66666666666667} x^{- \\frac{5 x}{3} - 4} \\right )} - 8 & \\text{for}\\: x \\geq 2 \\\\2 x + \\log{\\left (\\frac{16}{9} 2^{\\frac{7 x}{3} + 0.666666666666667} \\cdot 3^{- \\frac{2 x}{3}} x^{- x - 2} \\right )} - 4 & \\text{for}\\: x \\geq 3 \\\\- \\frac{8 x}{3} + \\log{\\left (\\frac{1}{147456} 2^{- \\frac{5 x}{3}} \\cdot 6^{- \\frac{2 x}{3}} x^{\\frac{4 x}{3} + 7.33333333333333} \\right )} + 14.6666666666667 & \\text{for}\\: x \\geq 4 \\\\- \\frac{2 x}{3} + \\log{\\left (\\frac{81}{256} 2^{- \\frac{4 x}{3}} \\cdot 3^{\\frac{x}{3}} x^{\\frac{x}{3} + 1.33333333333333} \\right )} + 2.66666666666667 & \\text{for}\\: x \\geq 6 \\\\\\frac{2 x}{3} + \\log{\\left (12^{\\frac{x}{3} + 4} x^{- \\frac{x}{3} - 4} \\right )} - 8 & \\text{for}\\: x \\geq 8 \\\\0 & \\text{otherwise} \\end{cases}$$"
       ],
       "metadata": {},
       "output_type": "pyout",
       "prompt_number": 36,
       "text": [
        "\u23a7               4\u22c5x   (2\u22c5x + 2)\u22c5log(x)                                        \n",
        "\u23aa             - \u2500\u2500\u2500 + \u2500\u2500\u2500\u2500\u2500\u2500\u2500\u2500\u2500\u2500\u2500\u2500\u2500\u2500\u2500\u2500 + 1.33333333333333               for x \n",
        "\u23aa                3           3                                                \n",
        "\u23aa                                                                             \n",
        "\u23aa                   \u239b 7\u22c5x                       5\u22c5x    \u239e                      \n",
        "\u23aa                   \u239c \u2500\u2500\u2500 + 4.66666666666667  - \u2500\u2500\u2500 - 4\u239f                      \n",
        "\u23aa         10\u22c5x      \u239c  3                         3     \u239f                      \n",
        "\u23aa         \u2500\u2500\u2500\u2500 + log\u239d2                      \u22c5x         \u23a0 - 8            for x \n",
        "\u23aa          3                                                                  \n",
        "\u23aa                                                                             \n",
        "\u23aa               \u239b    7\u22c5x                      -2\u22c5x         \u239e                  \n",
        "\u23aa               \u239c    \u2500\u2500\u2500 + 0.666666666666667  \u2500\u2500\u2500\u2500\u2500        \u239f                  \n",
        "\u23aa               \u239c     3                         3    -x - 2\u239f                  \n",
        "\u23aa               \u239c16\u22c52                       \u22c53     \u22c5x      \u239f                  \n",
        "\u23aa      2\u22c5x +    \u239c\u2500\u2500\u2500\u2500\u2500\u2500\u2500\u2500\u2500\u2500\u2500\u2500\u2500\u2500\u2500\u2500\u2500\u2500\u2500\u2500\u2500\u2500\u2500\u2500\u2500\u2500\u2500\u2500\u2500\u2500\u2500\u2500\u2500\u2500\u2500\u2500\u2500\u2500\u2500\u2500\u2500\u2500\u239f - 4        for x \n",
        "\u23aa               \u239d                    9                     \u23a0                  \n",
        "\u23aa            log                                                              \n",
        "\u23aa                                                                             \n",
        "\u23aa           \u239b -5\u22c5x   -2\u22c5x   4\u22c5x                   \u239e                           \n",
        "\u23aa           \u239c \u2500\u2500\u2500\u2500\u2500  \u2500\u2500\u2500\u2500\u2500  \u2500\u2500\u2500 + 7.33333333333333\u239f                           \n",
        "\u23a8           \u239c   3      3     3                    \u239f                           \n",
        "\u23aa  8\u22c5x      \u239c2     \u22c56     \u22c5x                      \u239f                           \n",
        "\u23aa- \u2500\u2500\u2500 +    \u239c\u2500\u2500\u2500\u2500\u2500\u2500\u2500\u2500\u2500\u2500\u2500\u2500\u2500\u2500\u2500\u2500\u2500\u2500\u2500\u2500\u2500\u2500\u2500\u2500\u2500\u2500\u2500\u2500\u2500\u2500\u2500\u2500\u2500\u2500\u2500\u2500\u2500\u239f + 14.6666666666667  for x \n",
        "\u23aa   3       \u239d                147456               \u23a0                           \n",
        "\u23aa        log                                                                  \n",
        "\u23aa                                                                             \n",
        "\u23aa            \u239b    -4\u22c5x   x  x                   \u239e                             \n",
        "\u23aa            \u239c    \u2500\u2500\u2500\u2500\u2500  \u2500  \u2500 + 1.33333333333333\u239f                             \n",
        "\u23aa            \u239c      3    3  3                   \u239f                             \n",
        "\u23aa   2\u22c5x      \u239c81\u22c52     \u22c53 \u22c5x                    \u239f                             \n",
        "\u23aa - \u2500\u2500\u2500 +    \u239c\u2500\u2500\u2500\u2500\u2500\u2500\u2500\u2500\u2500\u2500\u2500\u2500\u2500\u2500\u2500\u2500\u2500\u2500\u2500\u2500\u2500\u2500\u2500\u2500\u2500\u2500\u2500\u2500\u2500\u2500\u2500\u2500\u2500\u2500\u239f + 2.66666666666667    for x \n",
        "\u23aa    3       \u239d               256                \u23a0                             \n",
        "\u23aa         log                                                                 \n",
        "\u23aa                                                                             \n",
        "\u23aa                            \u239b  x        x    \u239e                               \n",
        "\u23aa                            \u239c  \u2500 + 4  - \u2500 - 4\u239f                               \n",
        "\u23aa                   2\u22c5x      \u239c  3        3    \u239f                               \n",
        "\u23aa                   \u2500\u2500\u2500 + log\u239d12     \u22c5x       \u23a0 - 8                     for x \n",
        "\u23aa                    3                                                        \n",
        "\u23aa                                                                             \n",
        "\u23a9                                  0                                    otherw\n",
        "\n",
        "   \n",
        "\u2265 1\n",
        "   \n",
        "   \n",
        "   \n",
        "   \n",
        "   \n",
        "\u2265 2\n",
        "   \n",
        "   \n",
        "   \n",
        "   \n",
        "   \n",
        "   \n",
        "\u2265 3\n",
        "   \n",
        "   \n",
        "   \n",
        "   \n",
        "   \n",
        "   \n",
        "   \n",
        "\u2265 4\n",
        "   \n",
        "   \n",
        "   \n",
        "   \n",
        "   \n",
        "   \n",
        "   \n",
        "\u2265 6\n",
        "   \n",
        "   \n",
        "   \n",
        "   \n",
        "   \n",
        "   \n",
        "\u2265 8\n",
        "   \n",
        "   \n",
        "ise"
       ]
      }
     ],
     "prompt_number": 36
    },
    {
     "cell_type": "code",
     "collapsed": false,
     "input": [
      "# Example 3"
     ],
     "language": "python",
     "metadata": {},
     "outputs": [],
     "prompt_number": 37
    },
    {
     "cell_type": "code",
     "collapsed": false,
     "input": [
      "X=ExponentialRV(1)"
     ],
     "language": "python",
     "metadata": {},
     "outputs": [],
     "prompt_number": 38
    },
    {
     "cell_type": "code",
     "collapsed": false,
     "input": [
      "n=3"
     ],
     "language": "python",
     "metadata": {},
     "outputs": [],
     "prompt_number": 39
    },
    {
     "cell_type": "code",
     "collapsed": false,
     "input": [
      "Y=ConvolutionIID(X,n)"
     ],
     "language": "python",
     "metadata": {},
     "outputs": [],
     "prompt_number": 40
    },
    {
     "cell_type": "code",
     "collapsed": false,
     "input": [
      "Y=Transform(Y,[[x/n],[0,oo]])"
     ],
     "language": "python",
     "metadata": {},
     "outputs": [],
     "prompt_number": 41
    },
    {
     "cell_type": "code",
     "collapsed": false,
     "input": [
      "Y.display()"
     ],
     "language": "python",
     "metadata": {},
     "outputs": [
      {
       "output_type": "stream",
       "stream": "stdout",
       "text": [
        "continuous pdf with support [0, oo]:\n"
       ]
      },
      {
       "output_type": "stream",
       "stream": "stderr",
       "text": [
        "/home/matt/anaconda/lib/python2.7/site-packages/IPython/core/formatters.py:239: FormatterWarning: Exception in image/png formatter: \n",
        "\\begin{cases} 27 x^{2} e^{- 3 x} / 2 & \\text{for}\\: x \\geq 0 \\\\0 & \\text{otherwise} \\end{cases}\n",
        "^\n",
        "Unknown symbol: \\begin (at char 0), (line:1, col:1)\n",
        "  FormatterWarning,\n"
       ]
      },
      {
       "latex": [
        "$$\\begin{cases} \\frac{27 x^{2}}{2} e^{- 3 x} & \\text{for}\\: x \\geq 0 \\\\0 & \\text{otherwise} \\end{cases}$$"
       ],
       "metadata": {},
       "output_type": "pyout",
       "prompt_number": 42,
       "text": [
        "\u23a7    2  -3\u22c5x           \n",
        "\u23aa27\u22c5x \u22c5\u212f               \n",
        "\u23aa\u2500\u2500\u2500\u2500\u2500\u2500\u2500\u2500\u2500\u2500\u2500  for x \u2265 0\n",
        "\u23a8     2                \n",
        "\u23aa                      \n",
        "\u23aa     0       otherwise\n",
        "\u23a9                      "
       ]
      }
     ],
     "prompt_number": 42
    },
    {
     "cell_type": "code",
     "collapsed": false,
     "input": [
      "PlotDist(Y)"
     ],
     "language": "python",
     "metadata": {},
     "outputs": [],
     "prompt_number": 43
    },
    {
     "cell_type": "code",
     "collapsed": false,
     "input": [
      "# Example 4"
     ],
     "language": "python",
     "metadata": {},
     "outputs": [],
     "prompt_number": 44
    },
    {
     "cell_type": "code",
     "collapsed": false,
     "input": [
      "a=Symbol('a');b=Symbol('b');c=Symbol('c')"
     ],
     "language": "python",
     "metadata": {},
     "outputs": [],
     "prompt_number": 49
    },
    {
     "cell_type": "code",
     "collapsed": false,
     "input": [
      "T=RV(a+b*sin(c*x),[0,oo],['continuous','hf'])"
     ],
     "language": "python",
     "metadata": {},
     "outputs": [],
     "prompt_number": 50
    },
    {
     "cell_type": "code",
     "collapsed": false,
     "input": [
      "PDF(T).display()"
     ],
     "language": "python",
     "metadata": {},
     "outputs": [
      {
       "output_type": "stream",
       "stream": "stdout",
       "text": [
        "continuous pdf with support [0, oo]:\n"
       ]
      },
      {
       "output_type": "stream",
       "stream": "stderr",
       "text": [
        "/home/matt/anaconda/lib/python2.7/site-packages/IPython/core/formatters.py:239: FormatterWarning: Exception in image/png formatter: \n",
        "\\begin{cases} \\left(a + b \\sin{\\left (c x \\right )}\\right) e^{\\left(- a c x + b \\cos{\\left (c x \\right )} - b\\right) / c} & \\text{for}\\: x \\geq 0 \\\\0 & \\text{otherwise} \\end{cases}\n",
        "^\n",
        "Unknown symbol: \\begin (at char 0), (line:1, col:1)\n",
        "  FormatterWarning,\n"
       ]
      },
      {
       "latex": [
        "$$\\begin{cases} \\left(a + b \\sin{\\left (c x \\right )}\\right) e^{\\frac{1}{c} \\left(- a c x + b \\cos{\\left (c x \\right )} - b\\right)} & \\text{for}\\: x \\geq 0 \\\\0 & \\text{otherwise} \\end{cases}$$"
       ],
       "metadata": {},
       "output_type": "pyout",
       "prompt_number": 51,
       "text": [
        "\u23a7                  -a\u22c5c\u22c5x + b\u22c5cos(c\u22c5x) - b           \n",
        "\u23aa                  \u2500\u2500\u2500\u2500\u2500\u2500\u2500\u2500\u2500\u2500\u2500\u2500\u2500\u2500\u2500\u2500\u2500\u2500\u2500\u2500\u2500\u2500\u2500           \n",
        "\u23aa                             c                      \n",
        "\u23a8(a + b\u22c5sin(c\u22c5x))\u22c5\u212f                         for x \u2265 0\n",
        "\u23aa                                                    \n",
        "\u23aa                    0                      otherwise\n",
        "\u23a9                                                    "
       ]
      }
     ],
     "prompt_number": 51
    },
    {
     "cell_type": "code",
     "collapsed": false,
     "input": [],
     "language": "python",
     "metadata": {},
     "outputs": []
    }
   ],
   "metadata": {}
  }
 ]
}