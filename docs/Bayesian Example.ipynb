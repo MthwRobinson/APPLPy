{
 "metadata": {
  "name": "",
  "signature": "sha256:479dd1c5926dadfddbda51de49c54b3a990155e28988e8211a6a99f4bcb6b4a8"
 },
 "nbformat": 3,
 "nbformat_minor": 0,
 "worksheets": [
  {
   "cells": [
    {
     "cell_type": "code",
     "collapsed": false,
     "input": [
      "from applpy import *"
     ],
     "language": "python",
     "metadata": {},
     "outputs": [
      {
       "output_type": "stream",
       "stream": "stdout",
       "text": [
        "-----------------\n",
        "Welcome to ApplPy\n",
        "-----------------\n",
        "ApplPy Procedures\n",
        "\n",
        "Procedure Notation\n",
        "\n",
        "Capital letters are random variables\n",
        "Lower case letters are number\n",
        "Greek letters are parameters\n",
        "gX indicates a function\n",
        "n and r are positive integers where n>=r\n",
        "Square brackets [] denote a list\n",
        "Curly bracks {} denote an optional variable\n",
        "\n",
        "\n",
        "RV Class Procedures\n",
        "X.variate(n,x),X.verifyPDF()\n",
        "\n",
        "Functional Form Conversion\n",
        "CDF(X,{x}),CHF(X,{x}),HF(X,{x}),IDF(X,{x})\n",
        "PDF(X,{x}),SF(X,{x}),BootstrapRV([data])\n",
        "Convert(X,{x})\n",
        "\n",
        "Procedures on One Random Variable\n",
        "ConvolutionIID(X,n),CoefOfVar(X),ExpectedValue(X,gx)\n",
        "Kurtosis(X),MaximumIID(X,n),Mean(X),MGF(X)\n",
        "MinimumIID(X,n),OrderStat(X,n,r),ProductIID(X,n)\n",
        "Skewness(X),Transform(X,gX),Truncate(X,[x1,x2])\n",
        "Variance(X)\n",
        "\n",
        "Procedures on Two Random Variables\n",
        "Convolution(X,Y),Maximum(X,Y),Minimum(X,Y)\n",
        "Mixture([p1,p2],[X,Y]),Product(X,Y)\n",
        "\n",
        "Statistics Procedures\n",
        "KSTest(X,[sample]), MOM(X,[sample],[parameters])\n",
        "MLE(X,[sample],[parameters],censor)\n",
        "\n",
        "Utilities\n",
        "PlotDist(X,{[x1,x2]}),PlotDisplay([plotlist],{[x1,x2]})\n",
        "PPPlot(X,[sample]),QQPlot(X,[sample])\n",
        "\n",
        "Bayesian Procedures\n",
        "CredibleSet(X,alpha), JeffreysPrior(X,low,high,param)\n",
        "Posterior(X,Y,[data],param)\n",
        "PosteriorPredictive(X,Y,[data],param)\n",
        "\n",
        "Continuous Distributions\n",
        "ArcSinRV(),ArcTanRV(alpha,phi),BetaRV(alpha,beta)\n",
        "CauchyRV(a,alpha)ChiRV(N),ChiSquareRV(N),ErlangRV(theta,N)\n",
        "ErrorRV(mu,alpha,d),ErrorIIRV(a,b,c),ExponentialRV(theta)\n",
        "ExponentialPowerRV(theta,kappa),ExtremeValueRV(alpha,beta)\n",
        "FRV(n1,n2),GammaRV(theta,kappa),GompertzRV(theta,kappa)\n",
        "GeneralizedParetoRV(theta,delta,kappa),IDBRV(theta,delta,kappa)\n",
        "InverseGaussianRV(theta,mu),InverseGammaRV(alpha,beta)\n",
        "KSRV(n),LaPlaceRV(omega,theta), LogGammaRV(alpha,beta)\n",
        "LogisticRV(kappa,theta),LogLogisticRV(theta,kappa)\n",
        "LogNormalRV(mu,sigma),LomaxRV(kappa,theta)\n",
        "MakehamRV(theta,delta,kappa),MuthRV(kappa),NormalRV(mu,sigma)\n",
        "ParetoRV(theta,kappa),RayleighRV(theta),TriangularRV(a,b,c)\n",
        "TRV(N),UniformRV(a,b),WeibullRV(theta,kappa)\n",
        "\n",
        "Discrete Distributions\n",
        "BenfordRV(),BinomialRV(n,p),GeometricRV(p),PoissonRV(theta)\n",
        "IPython console for SymPy 0.7.5 (Python 2.7.6-64-bit) (ground types: python)\n",
        "\n",
        "These commands were executed:\n",
        ">>> from __future__ import division\n",
        ">>> from sympy import *\n",
        ">>> x, y, z, t = symbols('x y z t')\n",
        ">>> k, m, n = symbols('k m n', integer=True)\n",
        ">>> f, g, h = symbols('f g h', cls=Function)\n",
        "\n",
        "Documentation can be found at http://www.sympy.org\n"
       ]
      },
      {
       "output_type": "stream",
       "stream": "stderr",
       "text": [
        "WARNING: Hook shutdown_hook is deprecated. Use the atexit module instead.\n"
       ]
      }
     ],
     "prompt_number": 1
    },
    {
     "cell_type": "code",
     "collapsed": false,
     "input": [
      "data=[5,6,3,2,54,3,5,6,4,7,4,3,4,5,6,3,2,4,5,6,7,5,3,5,3,8]"
     ],
     "language": "python",
     "metadata": {},
     "outputs": [],
     "prompt_number": 2
    },
    {
     "cell_type": "code",
     "collapsed": false,
     "input": [
      "p=Symbol('p')"
     ],
     "language": "python",
     "metadata": {},
     "outputs": [],
     "prompt_number": 3
    },
    {
     "cell_type": "code",
     "collapsed": false,
     "input": [
      "X=BinomialRV(12,p)"
     ],
     "language": "python",
     "metadata": {},
     "outputs": [],
     "prompt_number": 4
    },
    {
     "cell_type": "code",
     "collapsed": false,
     "input": [
      "Y=TriangularRV(0,Rational(1,2),1)"
     ],
     "language": "python",
     "metadata": {},
     "outputs": [],
     "prompt_number": 5
    },
    {
     "cell_type": "code",
     "collapsed": true,
     "input": [
      "P=Posterior(X,Y,data,p)"
     ],
     "language": "python",
     "metadata": {},
     "outputs": [],
     "prompt_number": 6
    },
    {
     "cell_type": "code",
     "collapsed": false,
     "input": [
      "P.support"
     ],
     "language": "python",
     "metadata": {},
     "outputs": [
      {
       "latex": [
        "$$\\begin{bmatrix}0, & \\frac{1}{2}, & 1\\end{bmatrix}$$"
       ],
       "metadata": {},
       "output_type": "pyout",
       "prompt_number": 13,
       "text": [
        "[0, 1/2, 1]"
       ]
      }
     ],
     "prompt_number": 13
    },
    {
     "cell_type": "code",
     "collapsed": false,
     "input": [
      "P.func[0]"
     ],
     "language": "python",
     "metadata": {},
     "outputs": [
      {
       "latex": [
        "$$\\frac{372736 x^{3}}{966705} \\left(- 5412 x^{10} + 46992 x^{9} - 173448 x^{8} + 361680 x^{7} - 473220 x^{6} + 405504 x^{5} - 229152 x^{4} + 82368 x^{3} - 15840 x^{2} + 528\\right)$$"
       ],
       "metadata": {},
       "output_type": "pyout",
       "png": "[encoded data removed]",
       "prompt_number": 14,
       "text": [
        "        3 \u239b        10          9           8           7           6          \n",
        "372736\u22c5x \u22c5\u239d- 5412\u22c5x   + 46992\u22c5x  - 173448\u22c5x  + 361680\u22c5x  - 473220\u22c5x  + 405504\u22c5\n",
        "\u2500\u2500\u2500\u2500\u2500\u2500\u2500\u2500\u2500\u2500\u2500\u2500\u2500\u2500\u2500\u2500\u2500\u2500\u2500\u2500\u2500\u2500\u2500\u2500\u2500\u2500\u2500\u2500\u2500\u2500\u2500\u2500\u2500\u2500\u2500\u2500\u2500\u2500\u2500\u2500\u2500\u2500\u2500\u2500\u2500\u2500\u2500\u2500\u2500\u2500\u2500\u2500\u2500\u2500\u2500\u2500\u2500\u2500\u2500\u2500\u2500\u2500\u2500\u2500\u2500\u2500\u2500\u2500\u2500\u2500\u2500\u2500\u2500\u2500\u2500\u2500\u2500\u2500\n",
        "                                                          966705              \n",
        "\n",
        " 5           4          3          2      \u239e\n",
        "x  - 229152\u22c5x  + 82368\u22c5x  - 15840\u22c5x  + 528\u23a0\n",
        "\u2500\u2500\u2500\u2500\u2500\u2500\u2500\u2500\u2500\u2500\u2500\u2500\u2500\u2500\u2500\u2500\u2500\u2500\u2500\u2500\u2500\u2500\u2500\u2500\u2500\u2500\u2500\u2500\u2500\u2500\u2500\u2500\u2500\u2500\u2500\u2500\u2500\u2500\u2500\u2500\u2500\u2500\u2500\n",
        "                                           "
       ]
      }
     ],
     "prompt_number": 14
    },
    {
     "cell_type": "code",
     "collapsed": false,
     "input": [
      "P.func[1]"
     ],
     "language": "python",
     "metadata": {},
     "outputs": [
      {
       "latex": [
        "$$\\frac{16400384 x^{2}}{322235} \\left(x - 1\\right) \\left(41 x^{10} - 356 x^{9} + 1314 x^{8} - 2740 x^{7} + 3585 x^{6} - 3072 x^{5} + 1736 x^{4} - 624 x^{3} + 120 x^{2} - 4\\right)$$"
       ],
       "metadata": {},
       "output_type": "pyout",
       "png": "[encoded data removed]",
       "prompt_number": 15,
       "text": [
        "          2         \u239b    10        9         8         7         6         5  \n",
        "16400384\u22c5x \u22c5(x - 1)\u22c5\u239d41\u22c5x   - 356\u22c5x  + 1314\u22c5x  - 2740\u22c5x  + 3585\u22c5x  - 3072\u22c5x  +\n",
        "\u2500\u2500\u2500\u2500\u2500\u2500\u2500\u2500\u2500\u2500\u2500\u2500\u2500\u2500\u2500\u2500\u2500\u2500\u2500\u2500\u2500\u2500\u2500\u2500\u2500\u2500\u2500\u2500\u2500\u2500\u2500\u2500\u2500\u2500\u2500\u2500\u2500\u2500\u2500\u2500\u2500\u2500\u2500\u2500\u2500\u2500\u2500\u2500\u2500\u2500\u2500\u2500\u2500\u2500\u2500\u2500\u2500\u2500\u2500\u2500\u2500\u2500\u2500\u2500\u2500\u2500\u2500\u2500\u2500\u2500\u2500\u2500\u2500\u2500\u2500\u2500\u2500\u2500\n",
        "                                                    322235                    \n",
        "\n",
        "       4        3        2    \u239e\n",
        " 1736\u22c5x  - 624\u22c5x  + 120\u22c5x  - 4\u23a0\n",
        "\u2500\u2500\u2500\u2500\u2500\u2500\u2500\u2500\u2500\u2500\u2500\u2500\u2500\u2500\u2500\u2500\u2500\u2500\u2500\u2500\u2500\u2500\u2500\u2500\u2500\u2500\u2500\u2500\u2500\u2500\u2500\n",
        "                               "
       ]
      }
     ],
     "prompt_number": 15
    },
    {
     "cell_type": "code",
     "collapsed": false,
     "input": [
      "[Mean(P),Mean(P).evalf()]"
     ],
     "language": "python",
     "metadata": {},
     "outputs": [
      {
       "latex": [
        "$$\\begin{bmatrix}\\frac{4162339}{9667050}, & 0.430569718787014\\end{bmatrix}$$"
       ],
       "metadata": {},
       "output_type": "pyout",
       "prompt_number": 17,
       "text": [
        "\u23a14162339                   \u23a4\n",
        "\u23a2\u2500\u2500\u2500\u2500\u2500\u2500\u2500, 0.430569718787014\u23a5\n",
        "\u23a39667050                   \u23a6"
       ]
      }
     ],
     "prompt_number": 17
    },
    {
     "cell_type": "code",
     "collapsed": false,
     "input": [
      "CredibleSet(P,.05)"
     ],
     "language": "python",
     "metadata": {},
     "outputs": [
      {
       "latex": [
        "$$\\begin{bmatrix}0.160499655510627, & 0.711301513430329\\end{bmatrix}$$"
       ],
       "metadata": {},
       "output_type": "pyout",
       "prompt_number": 18,
       "text": [
        "[0.160499655510627, 0.711301513430329]"
       ]
      }
     ],
     "prompt_number": 18
    },
    {
     "cell_type": "code",
     "collapsed": false,
     "input": [
      "PlotDist(P)"
     ],
     "language": "python",
     "metadata": {},
     "outputs": [],
     "prompt_number": 10
    },
    {
     "cell_type": "code",
     "collapsed": false,
     "input": [],
     "language": "python",
     "metadata": {},
     "outputs": []
    }
   ],
   "metadata": {}
  }
 ]
}