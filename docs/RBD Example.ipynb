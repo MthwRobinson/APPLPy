{
 "metadata": {
  "name": "",
  "signature": "sha256:baf1ff3e6ca1cb5a9b94d98fdb5dd6d9cc21fbf94ef3bd0ae171356cb1009d72"
 },
 "nbformat": 3,
 "nbformat_minor": 0,
 "worksheets": [
  {
   "cells": [
    {
     "cell_type": "code",
     "collapsed": false,
     "input": [
      "from applpy import *"
     ],
     "language": "python",
     "metadata": {},
     "outputs": [
      {
       "output_type": "stream",
       "stream": "stdout",
       "text": [
        "-----------------\n",
        "Welcome to ApplPy\n",
        "-----------------\n",
        "ApplPy Procedures\n",
        "\n",
        "Procedure Notation\n",
        "\n",
        "Capital letters are random variables\n",
        "Lower case letters are number\n",
        "Greek letters are parameters\n",
        "gX indicates a function\n",
        "n and r are positive integers where n>=r\n",
        "Square brackets [] denote a list\n",
        "Curly bracks {} denote an optional variable\n",
        "\n",
        "\n",
        "RV Class Procedures\n",
        "X.variate(n,x),X.verifyPDF()\n",
        "\n",
        "Functional Form Conversion\n",
        "CDF(X,{x}),CHF(X,{x}),HF(X,{x}),IDF(X,{x})\n",
        "PDF(X,{x}),SF(X,{x}),BootstrapRV([data])\n",
        "Convert(X,{x})\n",
        "\n",
        "Procedures on One Random Variable\n",
        "ConvolutionIID(X,n),CoefOfVar(X),ExpectedValue(X,gx)\n",
        "Kurtosis(X),MaximumIID(X,n),Mean(X),MGF(X)\n",
        "MinimumIID(X,n),OrderStat(X,n,r),ProductIID(X,n)\n",
        "Skewness(X),Transform(X,gX),Truncate(X,[x1,x2])\n",
        "Variance(X)\n",
        "\n",
        "Procedures on Two Random Variables\n",
        "Convolution(X,Y),Maximum(X,Y),Minimum(X,Y)\n",
        "Mixture([p1,p2],[X,Y]),Product(X,Y)\n",
        "\n",
        "Statistics Procedures\n",
        "KSTest(X,[sample]), MOM(X,[sample],[parameters])\n",
        "MLE(X,[sample],[parameters],censor)\n",
        "\n",
        "Utilities\n",
        "PlotDist(X,{[x1,x2]}),PlotDisplay([plotlist],{[x1,x2]})\n",
        "PPPlot(X,[sample]),QQPlot(X,[sample])\n",
        "\n",
        "Bayesian Procedures\n",
        "CredibleSet(X,alpha), JeffreysPrior(X,low,high,param)\n",
        "Posterior(X,Y,[data],param)\n",
        "PosteriorPredictive(X,Y,[data],param)\n",
        "\n",
        "Continuous Distributions\n",
        "ArcSinRV(),ArcTanRV(alpha,phi),BetaRV(alpha,beta)\n",
        "CauchyRV(a,alpha)ChiRV(N),ChiSquareRV(N),ErlangRV(theta,N)\n",
        "ErrorRV(mu,alpha,d),ErrorIIRV(a,b,c),ExponentialRV(theta)\n",
        "ExponentialPowerRV(theta,kappa),ExtremeValueRV(alpha,beta)\n",
        "FRV(n1,n2),GammaRV(theta,kappa),GompertzRV(theta,kappa)\n",
        "GeneralizedParetoRV(theta,delta,kappa),IDBRV(theta,delta,kappa)\n",
        "InverseGaussianRV(theta,mu),InverseGammaRV(alpha,beta)\n",
        "KSRV(n),LaPlaceRV(omega,theta), LogGammaRV(alpha,beta)\n",
        "LogisticRV(kappa,theta),LogLogisticRV(theta,kappa)\n",
        "LogNormalRV(mu,sigma),LomaxRV(kappa,theta)\n",
        "MakehamRV(theta,delta,kappa),MuthRV(kappa),NormalRV(mu,sigma)\n",
        "ParetoRV(theta,kappa),RayleighRV(theta),TriangularRV(a,b,c)\n",
        "TRV(N),UniformRV(a,b),WeibullRV(theta,kappa)\n",
        "\n",
        "Discrete Distributions\n",
        "BenfordRV(),BinomialRV(n,p),GeometricRV(p),PoissonRV(theta)\n",
        "IPython console for SymPy 0.7.5 (Python 2.7.6-64-bit) (ground types: python)\n",
        "\n",
        "These commands were executed:\n",
        ">>> from __future__ import division\n",
        ">>> from sympy import *\n",
        ">>> x, y, z, t = symbols('x y z t')\n",
        ">>> k, m, n = symbols('k m n', integer=True)\n",
        ">>> f, g, h = symbols('f g h', cls=Function)\n",
        "\n",
        "Documentation can be found at http://www.sympy.org\n"
       ]
      },
      {
       "output_type": "stream",
       "stream": "stderr",
       "text": [
        "WARNING: Hook shutdown_hook is deprecated. Use the atexit module instead.\n"
       ]
      }
     ],
     "prompt_number": 1
    },
    {
     "cell_type": "code",
     "collapsed": false,
     "input": [
      "X=ExponentialRV(Rational(1,7))"
     ],
     "language": "python",
     "metadata": {},
     "outputs": [],
     "prompt_number": 2
    },
    {
     "cell_type": "code",
     "collapsed": false,
     "input": [
      "Sys=MinimumIID(X,4)"
     ],
     "language": "python",
     "metadata": {},
     "outputs": [],
     "prompt_number": 3
    },
    {
     "cell_type": "code",
     "collapsed": false,
     "input": [
      "sys_mean=Mean(Sys)"
     ],
     "language": "python",
     "metadata": {},
     "outputs": [],
     "prompt_number": 4
    },
    {
     "cell_type": "code",
     "collapsed": false,
     "input": [
      "sys_mean"
     ],
     "language": "python",
     "metadata": {},
     "outputs": [
      {
       "latex": [
        "$$\\frac{7}{4}$$"
       ],
       "metadata": {},
       "output_type": "pyout",
       "png": "[encoded data removed]",
       "prompt_number": 5,
       "text": [
        "7/4"
       ]
      }
     ],
     "prompt_number": 5
    },
    {
     "cell_type": "code",
     "collapsed": false,
     "input": [
      "n=1\n",
      "header=['n','System Mean']\n",
      "sys_data=[]\n",
      "while n<15:\n",
      "    SubSys1=MinimumIID(X,3)\n",
      "    SubSys2=MaximumIID(X,n)\n",
      "    Sys=Minimum(SubSys1,SubSys2)\n",
      "    sys_mean=float(Mean(Sys))\n",
      "    sys_data.append([n,sys_mean])\n",
      "    n+=1"
     ],
     "language": "python",
     "metadata": {},
     "outputs": [],
     "prompt_number": 15
    },
    {
     "cell_type": "code",
     "collapsed": false,
     "input": [
      "import pandas as pd"
     ],
     "language": "python",
     "metadata": {},
     "outputs": [],
     "prompt_number": 16
    },
    {
     "cell_type": "code",
     "collapsed": false,
     "input": [
      "sys_lifetime=pd.DataFrame(sys_data,columns=header)"
     ],
     "language": "python",
     "metadata": {},
     "outputs": [],
     "prompt_number": 17
    },
    {
     "cell_type": "code",
     "collapsed": false,
     "input": [
      "mean_lifetime_by_n=sys_lifetime.pivot_table('System Mean',rows='n',aggfunc='sum')"
     ],
     "language": "python",
     "metadata": {},
     "outputs": [],
     "prompt_number": 19
    },
    {
     "cell_type": "code",
     "collapsed": false,
     "input": [
      "mean_lifetime_by_n"
     ],
     "language": "python",
     "metadata": {},
     "outputs": [
      {
       "metadata": {},
       "output_type": "pyout",
       "prompt_number": 20,
       "text": [
        "n\n",
        "1     1.750000\n",
        "2     2.100000\n",
        "3     2.216667\n",
        "4     2.266667\n",
        "5     2.291667\n",
        "6     2.305556\n",
        "7     2.313889\n",
        "8     2.319192\n",
        "9     2.322727\n",
        "10    2.325175\n",
        "11    2.326923\n",
        "12    2.328205\n",
        "13    2.329167\n",
        "14    2.329902\n",
        "Name: System Mean, dtype: float64"
       ]
      }
     ],
     "prompt_number": 20
    },
    {
     "cell_type": "code",
     "collapsed": false,
     "input": [
      "SubSys1=MinimumIID(X,3);SubSys2=MaximumIID(X,8)"
     ],
     "language": "python",
     "metadata": {},
     "outputs": [],
     "prompt_number": 21
    },
    {
     "cell_type": "code",
     "collapsed": false,
     "input": [
      "Sys=Minimum(SubSys1,SubSys2)"
     ],
     "language": "python",
     "metadata": {},
     "outputs": [],
     "prompt_number": 22
    },
    {
     "cell_type": "code",
     "collapsed": false,
     "input": [
      "Sys.display()"
     ],
     "language": "python",
     "metadata": {},
     "outputs": [
      {
       "output_type": "stream",
       "stream": "stdout",
       "text": [
        "continuous cdf with support [0, oo]:\n"
       ]
      },
      {
       "latex": [
        "$$\\begin{bmatrix}\\left(e^{\\frac{x}{7}} - 1\\right)^{8} e^{- \\frac{11 x}{7}} + 1 - e^{- \\frac{3 x}{7}}\\end{bmatrix}$$"
       ],
       "metadata": {},
       "output_type": "pyout",
       "prompt_number": 24,
       "text": [
        "\u23a1        8                     \u23a4\n",
        "\u23a2\u239b x    \u239e   -11\u22c5x         -3\u22c5x \u23a5\n",
        "\u23a2\u239c \u2500    \u239f   \u2500\u2500\u2500\u2500\u2500\u2500        \u2500\u2500\u2500\u2500\u2500\u23a5\n",
        "\u23a2\u239c 7    \u239f     7             7  \u23a5\n",
        "\u23a3\u239d\u212f  - 1\u23a0 \u22c5\u212f       + 1 - \u212f     \u23a6"
       ]
      }
     ],
     "prompt_number": 24
    },
    {
     "cell_type": "code",
     "collapsed": false,
     "input": [
      "Mean(Sys)"
     ],
     "language": "python",
     "metadata": {},
     "outputs": [
      {
       "latex": [
        "$$\\frac{1148}{495}$$"
       ],
       "metadata": {},
       "output_type": "pyout",
       "png": "[encoded data removed]",
       "prompt_number": 25,
       "text": [
        "1148\n",
        "\u2500\u2500\u2500\u2500\n",
        "495 "
       ]
      }
     ],
     "prompt_number": 25
    },
    {
     "cell_type": "code",
     "collapsed": false,
     "input": [],
     "language": "python",
     "metadata": {},
     "outputs": []
    }
   ],
   "metadata": {}
  }
 ]
}