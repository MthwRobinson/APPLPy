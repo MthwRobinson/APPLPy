{
 "cells": [
  {
   "cell_type": "code",
   "execution_count": 2,
   "metadata": {
    "collapsed": false
   },
   "outputs": [
    {
     "name": "stdout",
     "output_type": "stream",
     "text": [
      "IPython console for SymPy 0.7.7.dev (Python 2.7.10-64-bit) (ground types: python)\n",
      "\n",
      "These commands were executed:\n",
      ">>> from __future__ import division\n",
      ">>> from sympy import *\n",
      ">>> x, y, z, t = symbols('x y z t')\n",
      ">>> k, m, n = symbols('k m n', integer=True)\n",
      ">>> f, g, h = symbols('f g h', cls=Function)\n",
      ">>> init_printing()\n",
      "\n",
      "Documentation can be found at http://docs.sympy.org/dev\n"
     ]
    }
   ],
   "source": [
    "from sympy import *; init_session()\n",
    "from applpy import *\n",
    "import numpy as np"
   ]
  },
  {
   "cell_type": "code",
   "execution_count": 2,
   "metadata": {
    "collapsed": false
   },
   "outputs": [],
   "source": [
    "P = np.array([\n",
    "    [0, 0.1, 0.5, 0, 0.2, 0.2, 0, 0],\n",
    "    [0.1, 0.2, 0, 0, 0.6, 0, 0, 0.1],\n",
    "    [0, 0, 1, 0, 0, 0, 0, 0],\n",
    "    [0, 0, 0, 0, 1, 0, 0, 0],\n",
    "    [0, 0, 0, 1, 0, 0, 0, 0],\n",
    "    [0, 0, 0, 0, 0, 0.2, 0, 0.8],\n",
    "    [0, 0.3, 0, 0, 0, 0.4, 0.1, 0.2],\n",
    "    [0, 0, 0, 0, 0, 0.6, 0, 0.4]\n",
    "    ])\n",
    "P2 = np.array([\n",
    "        [0.2,0,0,0.8,0],\n",
    "        [0,1,0,0,0],\n",
    "        [0,0.1,0.5,0,0.4],\n",
    "        [0.4,0,0,0.6,0],\n",
    "        [0,0.3,0,0,0.7]\n",
    "    ])"
   ]
  },
  {
   "cell_type": "code",
   "execution_count": 6,
   "metadata": {
    "collapsed": true
   },
   "outputs": [],
   "source": [
    "X = MarkovChain(P =[\n",
    "    [0, 0.1, 0.5, 0, 0.2, 0.2, 0, 0],\n",
    "    [0.1, 0.2, 0, 0, 0.6, 0, 0, 0.1],\n",
    "    [0, 0, 1, 0, 0, 0, 0, 0],\n",
    "    [0, 0, 0, 0, 1, 0, 0, 0],\n",
    "    [0, 0, 0, 1, 0, 0, 0, 0],\n",
    "    [0, 0, 0, 0, 0, 0.2, 0, 0.8],\n",
    "    [0, 0.3, 0, 0, 0, 0.4, 0.1, 0.2],\n",
    "    [0, 0, 0, 0, 0, 0.6, 0, 0.4]\n",
    "    ], \n",
    "    states = ['blue','green','purple','red',\n",
    "        'yellow', 'black', 'orange', 'white'])"
   ]
  },
  {
   "cell_type": "code",
   "execution_count": 7,
   "metadata": {
    "collapsed": false
   },
   "outputs": [
    {
     "data": {
      "text/plain": [
       "{'Recurrent 1': ['red', 'yellow'],\n",
       " 'Recurrent 2': ['black', 'white'],\n",
       " 'Recurrent 3': ['purple'],\n",
       " 'Transient': ['blue', 'green', 'orange']}"
      ]
     },
     "execution_count": 7,
     "metadata": {},
     "output_type": "execute_result"
    }
   ],
   "source": [
    "X.classify_states()"
   ]
  },
  {
   "cell_type": "code",
   "execution_count": 8,
   "metadata": {
    "collapsed": false
   },
   "outputs": [
    {
     "data": {
      "text/plain": [
       "True"
      ]
     },
     "execution_count": 8,
     "metadata": {},
     "output_type": "execute_result"
    }
   ],
   "source": [
    "X.reducible"
   ]
  },
  {
   "cell_type": "code",
   "execution_count": 3,
   "metadata": {
    "collapsed": false
   },
   "outputs": [
    {
     "data": {
      "text/plain": [
       "array([[ True,  True,  True,  True,  True,  True, False,  True],\n",
       "       [ True,  True,  True,  True,  True,  True, False,  True],\n",
       "       [False, False,  True, False, False, False, False, False],\n",
       "       [False, False, False,  True,  True, False, False, False],\n",
       "       [False, False, False,  True,  True, False, False, False],\n",
       "       [False, False, False, False, False,  True, False,  True],\n",
       "       [ True,  True,  True,  True,  True,  True,  True,  True],\n",
       "       [False, False, False, False, False,  True, False,  True]], dtype=bool)"
      ]
     },
     "execution_count": 3,
     "metadata": {},
     "output_type": "execute_result"
    }
   ],
   "source": [
    "X = MarkovChain(P =[\n",
    "    [0, 0.1, 0.5, 0, 0.2, 0.2, 0, 0],\n",
    "    [0.1, 0.2, 0, 0, 0.6, 0, 0, 0.1],\n",
    "    [0, 0, 1, 0, 0, 0, 0, 0],\n",
    "    [0, 0, 0, 0, 1, 0, 0, 0],\n",
    "    [0, 0, 0, 1, 0, 0, 0, 0],\n",
    "    [0, 0, 0, 0, 0, 0.2, 0, 0.8],\n",
    "    [0, 0.3, 0, 0, 0, 0.4, 0.1, 0.2],\n",
    "    [0, 0, 0, 0, 0, 0.6, 0, 0.4]\n",
    "    ])\n",
    "X.reachability()"
   ]
  },
  {
   "cell_type": "code",
   "execution_count": null,
   "metadata": {
    "collapsed": true
   },
   "outputs": [],
   "source": []
  }
 ],
 "metadata": {
  "kernelspec": {
   "display_name": "Python 2",
   "language": "python",
   "name": "python2"
  },
  "language_info": {
   "codemirror_mode": {
    "name": "ipython",
    "version": 2
   },
   "file_extension": ".py",
   "mimetype": "text/x-python",
   "name": "python",
   "nbconvert_exporter": "python",
   "pygments_lexer": "ipython2",
   "version": "2.7.10"
  }
 },
 "nbformat": 4,
 "nbformat_minor": 0
}
