{
 "cells": [
  {
   "cell_type": "code",
   "execution_count": 1,
   "metadata": {
    "collapsed": false
   },
   "outputs": [
    {
     "name": "stdout",
     "output_type": "stream",
     "text": [
      "IPython console for SymPy 0.7.7.dev (Python 2.7.10-64-bit) (ground types: python)\n",
      "\n",
      "These commands were executed:\n",
      ">>> from __future__ import division\n",
      ">>> from sympy import *\n",
      ">>> x, y, z, t = symbols('x y z t')\n",
      ">>> k, m, n = symbols('k m n', integer=True)\n",
      ">>> f, g, h = symbols('f g h', cls=Function)\n",
      ">>> init_printing()\n",
      "\n",
      "Documentation can be found at http://docs.sympy.org/dev\n"
     ]
    }
   ],
   "source": [
    "from sympy import *; init_session()"
   ]
  },
  {
   "cell_type": "code",
   "execution_count": 2,
   "metadata": {
    "collapsed": false
   },
   "outputs": [],
   "source": [
    "from applpy import *; import numpy as np"
   ]
  },
  {
   "cell_type": "code",
   "execution_count": 3,
   "metadata": {
    "collapsed": false
   },
   "outputs": [],
   "source": [
    "'''\n",
    "X = MarkovChain([[.3,.3,.4,0,0],\n",
    "                 [0,.3,.3,.4,0],\n",
    "                 [0,0,.3,.3,.4],\n",
    "                 [.3,.3,.4,0,0],\n",
    "                 [.3,.3,.4,0,0]])\n",
    "'''\n",
    "\n",
    "X = MarkovChain([[Rational(3,10),Rational(3,10),Rational(4,10),0,0],\n",
    "                 [0,Rational(3,10),Rational(3,10),Rational(4,10),0],\n",
    "                 [0,0,Rational(3,10),Rational(3,10),Rational(4,10)],\n",
    "                 [Rational(3,10),Rational(3,10),Rational(4,10),0,0],\n",
    "                 [Rational(3,10),Rational(3,10),Rational(4,10),0,0]],\n",
    "               states = ['blue','green','black', 'yellow','orange'])\n"
   ]
  },
  {
   "cell_type": "code",
   "execution_count": 4,
   "metadata": {
    "collapsed": false
   },
   "outputs": [
    {
     "name": "stdout",
     "output_type": "stream",
     "text": [
      "The transition probability matrix:\n",
      "      0     1     2     3    4\n",
      "0  3/10  3/10   2/5     0    0\n",
      "1     0  3/10  3/10   2/5    0\n",
      "2     0     0  3/10  3/10  2/5\n",
      "3  3/10  3/10   2/5     0    0\n",
      "4  3/10  3/10   2/5     0    0\n",
      "----------------------------------------\n",
      "The initial system state:\n",
      "None\n"
     ]
    }
   ],
   "source": [
    "X.display()"
   ]
  },
  {
   "cell_type": "code",
   "execution_count": 5,
   "metadata": {
    "collapsed": false
   },
   "outputs": [
    {
     "name": "stdout",
     "output_type": "stream",
     "text": [
      "The transition probability matrix after 3 steps:\n",
      "          0         1         2         3       4\n",
      "0  147/1000  201/1000  349/1000  171/1000  33/250\n",
      "1    27/200    99/500    69/200    93/500  17/125\n",
      "2    63/500  189/1000   171/500    39/200  37/250\n",
      "3  147/1000  201/1000  349/1000  171/1000  33/250\n",
      "4  147/1000  201/1000  349/1000  171/1000  33/250\n",
      "----------------------------------------\n",
      "The initial system state:\n",
      "None\n"
     ]
    }
   ],
   "source": [
    "X.display(n=3,method = 'rational')"
   ]
  },
  {
   "cell_type": "code",
   "execution_count": 8,
   "metadata": {
    "collapsed": false
   },
   "outputs": [
    {
     "name": "stdout",
     "output_type": "stream",
     "text": [
      "The steady state probabilities are:\n",
      "       Prob\n",
      "0  147/1070\n",
      "1    21/107\n",
      "2    37/107\n",
      "3    39/214\n",
      "4    74/535\n"
     ]
    }
   ],
   "source": [
    "X.display(option='steady state',method='rational')"
   ]
  },
  {
   "cell_type": "code",
   "execution_count": 6,
   "metadata": {
    "collapsed": false
   },
   "outputs": [
    {
     "data": {
      "text/html": [
       "<div>\n",
       "<table border=\"1\" class=\"dataframe\">\n",
       "  <thead>\n",
       "    <tr style=\"text-align: right;\">\n",
       "      <th></th>\n",
       "      <th>0</th>\n",
       "      <th>1</th>\n",
       "      <th>2</th>\n",
       "      <th>3</th>\n",
       "      <th>4</th>\n",
       "    </tr>\n",
       "  </thead>\n",
       "  <tbody>\n",
       "    <tr>\n",
       "      <th>0</th>\n",
       "      <td>0.137383</td>\n",
       "      <td>0.196262</td>\n",
       "      <td>0.345794</td>\n",
       "      <td>0.182243</td>\n",
       "      <td>0.138318</td>\n",
       "    </tr>\n",
       "    <tr>\n",
       "      <th>1</th>\n",
       "      <td>0.137383</td>\n",
       "      <td>0.196262</td>\n",
       "      <td>0.345794</td>\n",
       "      <td>0.182243</td>\n",
       "      <td>0.138318</td>\n",
       "    </tr>\n",
       "    <tr>\n",
       "      <th>2</th>\n",
       "      <td>0.137383</td>\n",
       "      <td>0.196262</td>\n",
       "      <td>0.345794</td>\n",
       "      <td>0.182243</td>\n",
       "      <td>0.138318</td>\n",
       "    </tr>\n",
       "    <tr>\n",
       "      <th>3</th>\n",
       "      <td>0.137383</td>\n",
       "      <td>0.196262</td>\n",
       "      <td>0.345794</td>\n",
       "      <td>0.182243</td>\n",
       "      <td>0.138318</td>\n",
       "    </tr>\n",
       "    <tr>\n",
       "      <th>4</th>\n",
       "      <td>0.137383</td>\n",
       "      <td>0.196262</td>\n",
       "      <td>0.345794</td>\n",
       "      <td>0.182243</td>\n",
       "      <td>0.138318</td>\n",
       "    </tr>\n",
       "  </tbody>\n",
       "</table>\n",
       "</div>"
      ],
      "text/plain": [
       "          0         1         2         3         4\n",
       "0  0.137383  0.196262  0.345794  0.182243  0.138318\n",
       "1  0.137383  0.196262  0.345794  0.182243  0.138318\n",
       "2  0.137383  0.196262  0.345794  0.182243  0.138318\n",
       "3  0.137383  0.196262  0.345794  0.182243  0.138318\n",
       "4  0.137383  0.196262  0.345794  0.182243  0.138318"
      ]
     },
     "execution_count": 6,
     "metadata": {},
     "output_type": "execute_result"
    }
   ],
   "source": [
    "Pi = X.long_run_probs()\n",
    "matrix_display(Pi, X.state_space)"
   ]
  },
  {
   "cell_type": "code",
   "execution_count": 7,
   "metadata": {
    "collapsed": false
   },
   "outputs": [],
   "source": [
    "Y = MarkovChain(P=[[.97,.03],[.04,.96]],init=[.7,.3],states=['red','blue'])"
   ]
  },
  {
   "cell_type": "code",
   "execution_count": 8,
   "metadata": {
    "collapsed": false
   },
   "outputs": [
    {
     "name": "stdout",
     "output_type": "stream",
     "text": [
      "The transition probability matrix:\n",
      "       red  blue\n",
      "red   0.97  0.03\n",
      "blue  0.04  0.96\n",
      "----------------------------------------\n",
      "The initial system state:\n",
      "      Prob\n",
      "red    0.7\n",
      "blue   0.3\n"
     ]
    }
   ],
   "source": [
    "Y.display()"
   ]
  },
  {
   "cell_type": "code",
   "execution_count": 9,
   "metadata": {
    "collapsed": false
   },
   "outputs": [
    {
     "data": {
      "image/png": "[encoded data removed]",
      "text/latex": [
       "$$0.02037$$"
      ],
      "text/plain": [
       "0.02037"
      ]
     },
     "execution_count": 9,
     "metadata": {},
     "output_type": "execute_result"
    }
   ],
   "source": [
    "Y.probability([(2,'blue'),(1,'red'),(0,'red')])"
   ]
  },
  {
   "cell_type": "code",
   "execution_count": 10,
   "metadata": {
    "collapsed": false
   },
   "outputs": [
    {
     "data": {
      "image/png": "[encoded data removed]",
      "text/latex": [
       "$$0.309$$"
      ],
      "text/plain": [
       "0.309"
      ]
     },
     "execution_count": 10,
     "metadata": {},
     "output_type": "execute_result"
    }
   ],
   "source": [
    "Y.probability([(1,'blue')])"
   ]
  },
  {
   "cell_type": "code",
   "execution_count": 11,
   "metadata": {
    "collapsed": false
   },
   "outputs": [
    {
     "data": {
      "image/png": "[encoded data removed]",
      "text/latex": [
       "$$0.96$$"
      ],
      "text/plain": [
       "0.96"
      ]
     },
     "execution_count": 11,
     "metadata": {},
     "output_type": "execute_result"
    }
   ],
   "source": [
    "Y.probability([(2,'blue')],given=[(1,'blue')])"
   ]
  },
  {
   "cell_type": "code",
   "execution_count": 20,
   "metadata": {
    "collapsed": true
   },
   "outputs": [],
   "source": [
    "# DTMC with rationals "
   ]
  },
  {
   "cell_type": "code",
   "execution_count": 8,
   "metadata": {
    "collapsed": true
   },
   "outputs": [],
   "source": [
    "trans_mat = X.P; size = np.size(trans_mat,axis=0)"
   ]
  },
  {
   "cell_type": "code",
   "execution_count": 23,
   "metadata": {
    "collapsed": false
   },
   "outputs": [],
   "source": [
    "a = symbols('a0:%d'%(size),positive=True)"
   ]
  },
  {
   "cell_type": "code",
   "execution_count": 22,
   "metadata": {
    "collapsed": false
   },
   "outputs": [
    {
     "data": {
      "image/png": "[encoded data removed]",
      "text/latex": [
       "$$5$$"
      ],
      "text/plain": [
       "5"
      ]
     },
     "execution_count": 22,
     "metadata": {},
     "output_type": "execute_result"
    }
   ],
   "source": [
    "size"
   ]
  },
  {
   "cell_type": "code",
   "execution_count": 43,
   "metadata": {
    "collapsed": false
   },
   "outputs": [],
   "source": [
    "eqns = []\n",
    "norm_eqn = -1\n",
    "for i in range(1,size):\n",
    "    current_eqn = 0\n",
    "    for j in range(size):\n",
    "        current_eqn += trans_mat[j][i]*a[j]\n",
    "    current_eqn -= a[i]\n",
    "    norm_eqn += a[i]\n",
    "    eqns.append(current_eqn)\n",
    "eqns.append(norm_eqn+a[0])"
   ]
  },
  {
   "cell_type": "code",
   "execution_count": 58,
   "metadata": {
    "collapsed": false
   },
   "outputs": [],
   "source": [
    "solns = solve(eqns)"
   ]
  },
  {
   "cell_type": "code",
   "execution_count": 46,
   "metadata": {
    "collapsed": false
   },
   "outputs": [
    {
     "name": "stdout",
     "output_type": "stream",
     "text": [
      "The steady state probabilities are:\n",
      "          0\n",
      "0  0.137383\n",
      "1  0.196262\n",
      "2  0.345794\n",
      "3  0.182243\n",
      "4  0.138318\n"
     ]
    }
   ],
   "source": [
    "X.display(option='steady state')"
   ]
  },
  {
   "cell_type": "code",
   "execution_count": 26,
   "metadata": {
    "collapsed": false
   },
   "outputs": [
    {
     "data": {
      "text/plain": [
       "array([[3/10, 3/10, 2/5, 0, 0],\n",
       "       [0, 3/10, 3/10, 2/5, 0],\n",
       "       [0, 0, 3/10, 3/10, 2/5],\n",
       "       [3/10, 3/10, 2/5, 0, 0],\n",
       "       [3/10, 3/10, 2/5, 0, 0]], dtype=object)"
      ]
     },
     "execution_count": 26,
     "metadata": {},
     "output_type": "execute_result"
    }
   ],
   "source": [
    "trans_mat"
   ]
  },
  {
   "cell_type": "code",
   "execution_count": 62,
   "metadata": {
    "collapsed": false
   },
   "outputs": [],
   "source": [
    "soln = [solns[a[i]] for i in range(size)]"
   ]
  },
  {
   "cell_type": "code",
   "execution_count": 63,
   "metadata": {
    "collapsed": false
   },
   "outputs": [
    {
     "data": {
      "image/png": "[encoded data removed]",
      "text/latex": [
       "$$\\left [ \\frac{147}{1070}, \\quad \\frac{21}{107}, \\quad \\frac{37}{107}, \\quad \\frac{39}{214}, \\quad \\frac{74}{535}\\right ]$$"
      ],
      "text/plain": [
       "⎡147    21   37   39   74⎤\n",
       "⎢────, ───, ───, ───, ───⎥\n",
       "⎣1070  107  107  214  535⎦"
      ]
     },
     "execution_count": 63,
     "metadata": {},
     "output_type": "execute_result"
    }
   ],
   "source": [
    "soln"
   ]
  },
  {
   "cell_type": "code",
   "execution_count": 10,
   "metadata": {
    "collapsed": false
   },
   "outputs": [
    {
     "data": {
      "text/plain": [
       "array([[9/100, 9/50, 33/100, 6/25, 4/25],\n",
       "       [3/25, 21/100, 17/50, 21/100, 3/25],\n",
       "       [21/100, 21/100, 37/100, 9/100, 3/25],\n",
       "       [9/100, 9/50, 33/100, 6/25, 4/25],\n",
       "       [9/100, 9/50, 33/100, 6/25, 4/25]], dtype=object)"
      ]
     },
     "execution_count": 10,
     "metadata": {},
     "output_type": "execute_result"
    }
   ],
   "source": [
    "np.dot(trans_mat,trans_mat)"
   ]
  },
  {
   "cell_type": "code",
   "execution_count": 17,
   "metadata": {
    "collapsed": false
   },
   "outputs": [
    {
     "data": {
      "text/plain": [
       "red     0.7\n",
       "blue    0.3\n",
       "Name: Prob, dtype: float64"
      ]
     },
     "execution_count": 17,
     "metadata": {},
     "output_type": "execute_result"
    }
   ],
   "source": [
    "Y.init_print['Prob']"
   ]
  },
  {
   "cell_type": "code",
   "execution_count": null,
   "metadata": {
    "collapsed": true
   },
   "outputs": [],
   "source": []
  }
 ],
 "metadata": {
  "kernelspec": {
   "display_name": "Python 2",
   "language": "python",
   "name": "python2"
  },
  "language_info": {
   "codemirror_mode": {
    "name": "ipython",
    "version": 2
   },
   "file_extension": ".py",
   "mimetype": "text/x-python",
   "name": "python",
   "nbconvert_exporter": "python",
   "pygments_lexer": "ipython2",
   "version": "2.7.10"
  }
 },
 "nbformat": 4,
 "nbformat_minor": 0
}
