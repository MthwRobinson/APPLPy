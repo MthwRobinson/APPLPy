{
 "metadata": {
  "name": "",
  "signature": "sha256:eb2e8cd011c200c37490cae288a9393a69e6d1e73a3b9a4e7b59dc4f5cf47509"
 },
 "nbformat": 3,
 "nbformat_minor": 0,
 "worksheets": [
  {
   "cells": [
    {
     "cell_type": "code",
     "collapsed": false,
     "input": [
      "from applpy import *"
     ],
     "language": "python",
     "metadata": {},
     "outputs": [
      {
       "output_type": "stream",
       "stream": "stdout",
       "text": [
        "-----------------\n",
        "Welcome to ApplPy\n",
        "-----------------\n",
        "ApplPy Procedures\n",
        "\n",
        "Procedure Notation\n",
        "\n",
        "Capital letters are random variables\n",
        "Lower case letters are number\n",
        "Greek letters are parameters\n",
        "gX indicates a function\n",
        "n and r are positive integers where n>=r\n",
        "Square brackets [] denote a list\n",
        "Curly bracks {} denote an optional variable\n",
        "\n",
        "\n",
        "RV Class Procedures\n",
        "X.variate(n,x),X.verifyPDF()\n",
        "\n",
        "Functional Form Conversion\n",
        "CDF(X,{x}),CHF(X,{x}),HF(X,{x}),IDF(X,{x})\n",
        "PDF(X,{x}),SF(X,{x}),BootstrapRV([data])\n",
        "Convert(X,{x})\n",
        "\n",
        "Procedures on One Random Variable\n",
        "ConvolutionIID(X,n),CoefOfVar(X),ExpectedValue(X,gx)\n",
        "Kurtosis(X),MaximumIID(X,n),Mean(X),MGF(X)\n",
        "MinimumIID(X,n),OrderStat(X,n,r),ProductIID(X,n)\n",
        "Skewness(X),Transform(X,gX),Truncate(X,[x1,x2])\n",
        "Variance(X)\n",
        "\n",
        "Procedures on Two Random Variables\n",
        "Convolution(X,Y),Maximum(X,Y),Minimum(X,Y)\n",
        "Mixture([p1,p2],[X,Y]),Product(X,Y)\n",
        "\n",
        "Statistics Procedures\n",
        "KSTest(X,[sample]), MOM(X,[sample],[parameters])\n",
        "MLE(X,[sample],[parameters],censor)\n",
        "\n",
        "Utilities\n",
        "PlotDist(X,{[x1,x2]}),PlotDisplay([plotlist],{[x1,x2]})\n",
        "PPPlot(X,[sample]),QQPlot(X,[sample])\n",
        "\n",
        "Bayesian Procedures\n",
        "CredibleSet(X,alpha), JeffreysPrior(X,low,high,param)\n",
        "Posterior(X,Y,[data],param)\n",
        "PosteriorPredictive(X,Y,[data],param)\n",
        "\n",
        "Continuous Distributions\n",
        "BetaRV(alpha,beta),CauchyRV(a,alpha),ChiRV(N),ChiSquareRV(N)\n",
        "ErlangRV(theta,N),ExponentialRV(theta)\n",
        "ExponentialPowerRV(theta,kappa),ExtremeValueRV(alpha,beta)\n",
        "GammaRV(theta,kappa),GompertzRV(theta,kappa)\n",
        "InverseGaussianRV(theta,mu),InverseGammaRV(alpha,beta)\n",
        "KSRV(n), LogGammaRV(alpha,beta), LogisticRV(kappa,theta)\n",
        "LogLogisticRV(theta,kappa),LogNormalRV(mu,sigma)\n",
        "LomaxRV(kappa,theta),MuthRV(kappa),NormalRV(mu,sigma)\n",
        "ParetoRV(theta,kappa),RayleighRV(theta),TriangularRV(a,b,c)\n",
        "TRV(N),UniformRV(a,b),WeibullRV(theta,kappa)\n",
        "\n",
        "Discrete Distributions\n",
        "BenfordRV(),BinomialRV(n,p),GeometricRV(p),PoissonRV(theta)\n",
        "IPython console for SymPy 0.7.5 (Python 2.7.6-64-bit) (ground types: python)\n",
        "\n",
        "These commands were executed:\n",
        ">>> from __future__ import division\n",
        ">>> from sympy import *\n",
        ">>> x, y, z, t = symbols('x y z t')\n",
        ">>> k, m, n = symbols('k m n', integer=True)\n",
        ">>> f, g, h = symbols('f g h', cls=Function)\n",
        "\n",
        "Documentation can be found at http://www.sympy.org\n"
       ]
      },
      {
       "output_type": "stream",
       "stream": "stderr",
       "text": [
        "WARNING: Hook shutdown_hook is deprecated. Use the atexit module instead.\n"
       ]
      }
     ],
     "prompt_number": 1
    },
    {
     "cell_type": "code",
     "collapsed": false,
     "input": [
      "theta=Symbol('theta')"
     ],
     "language": "python",
     "metadata": {},
     "outputs": [],
     "prompt_number": 45
    },
    {
     "cell_type": "code",
     "collapsed": false,
     "input": [
      "X=BinomialRV(12,theta)"
     ],
     "language": "python",
     "metadata": {},
     "outputs": [],
     "prompt_number": 46
    },
    {
     "cell_type": "code",
     "collapsed": false,
     "input": [
      "Y=Truncate(ExponentialRV(2),[0,1])"
     ],
     "language": "python",
     "metadata": {},
     "outputs": [],
     "prompt_number": 55
    },
    {
     "cell_type": "code",
     "collapsed": false,
     "input": [
      "data=[5]"
     ],
     "language": "python",
     "metadata": {},
     "outputs": [],
     "prompt_number": 56
    },
    {
     "cell_type": "code",
     "collapsed": false,
     "input": [
      "P=Posterior(X,Y,data,theta)"
     ],
     "language": "python",
     "metadata": {},
     "outputs": [],
     "prompt_number": 57
    },
    {
     "cell_type": "code",
     "collapsed": false,
     "input": [
      "P.display()"
     ],
     "language": "python",
     "metadata": {},
     "outputs": [
      {
       "output_type": "stream",
       "stream": "stdout",
       "text": [
        "continuous pdf with support [0, 1]:\n"
       ]
      },
      {
       "output_type": "stream",
       "stream": "stderr",
       "text": [
        "/home/matt/anaconda/lib/python2.7/site-packages/IPython/core/formatters.py:239: FormatterWarning: Exception in image/png formatter: \n",
        "\\begin{cases} \\frac{1584 x^{5} \\left(x - 1\\right)^{7}}{-204137010 + 27626940 e^{2}} e^{- 2 x + 2} & \\text{for}\\: x \\geq 0 \\\\0 & \\text{otherwise} \\end{cases}\n",
        "^\n",
        "Unknown symbol: \\begin (at char 0), (line:1, col:1)\n",
        "  FormatterWarning,\n"
       ]
      },
      {
       "latex": [
        "$$\\begin{cases} \\frac{1584 x^{5} \\left(x - 1\\right)^{7}}{-204137010 + 27626940 e^{2}} e^{- 2 x + 2} & \\text{for}\\: x \\geq 0 \\\\0 & \\text{otherwise} \\end{cases}$$"
       ],
       "metadata": {},
       "output_type": "pyout",
       "prompt_number": 58,
       "text": [
        "\u23a7      5        7  -2\u22c5x + 2           \n",
        "\u23aa1584\u22c5x \u22c5(x - 1) \u22c5\u212f                   \n",
        "\u23aa\u2500\u2500\u2500\u2500\u2500\u2500\u2500\u2500\u2500\u2500\u2500\u2500\u2500\u2500\u2500\u2500\u2500\u2500\u2500\u2500\u2500\u2500\u2500\u2500\u2500\u2500  for x \u2265 0\n",
        "\u23a8                        2            \n",
        "\u23aa -204137010 + 27626940\u22c5\u212f             \n",
        "\u23aa                                     \n",
        "\u23a9            0               otherwise"
       ]
      }
     ],
     "prompt_number": 58
    },
    {
     "cell_type": "code",
     "collapsed": false,
     "input": [
      "Mean(P)"
     ],
     "language": "python",
     "metadata": {},
     "outputs": [
      {
       "latex": [
        "$$\\frac{-979545 + 132567 e^{2}}{-137466 + 18604 e^{2}}$$"
       ],
       "metadata": {},
       "output_type": "pyout",
       "png": "[encoded data removed]",
       "prompt_number": 59,
       "text": [
        "                  2\n",
        "-979545 + 132567\u22c5\u212f \n",
        "\u2500\u2500\u2500\u2500\u2500\u2500\u2500\u2500\u2500\u2500\u2500\u2500\u2500\u2500\u2500\u2500\u2500\u2500\u2500\n",
        "                  2\n",
        " -137466 + 18604\u22c5\u212f "
       ]
      }
     ],
     "prompt_number": 59
    },
    {
     "cell_type": "code",
     "collapsed": false,
     "input": [
      "CredibleSet(P,.05)"
     ],
     "language": "python",
     "metadata": {},
     "outputs": [
      {
       "output_type": "stream",
       "stream": "stderr",
       "text": [
        "/home/matt/anaconda/lib/python2.7/site-packages/IPython/core/formatters.py:239: FormatterWarning: Exception in image/png formatter: \n",
        "\\begin{bmatrix}0.171558583934865, & 0.652421825266945\\end{bmatrix}\n",
        "^\n",
        "Unknown symbol: \\begin (at char 0), (line:1, col:1)\n",
        "  FormatterWarning,\n"
       ]
      },
      {
       "latex": [
        "$$\\begin{bmatrix}0.171558583934865, & 0.652421825266945\\end{bmatrix}$$"
       ],
       "metadata": {},
       "output_type": "pyout",
       "prompt_number": 60,
       "text": [
        "[0.171558583934865, 0.652421825266945]"
       ]
      }
     ],
     "prompt_number": 60
    },
    {
     "cell_type": "code",
     "collapsed": false,
     "input": [],
     "language": "python",
     "metadata": {},
     "outputs": []
    }
   ],
   "metadata": {}
  }
 ]
}