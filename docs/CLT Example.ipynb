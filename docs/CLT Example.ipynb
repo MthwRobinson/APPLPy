{
 "metadata": {
  "name": "",
  "signature": "sha256:3d64ea718eb5edc780e9e1e2e7a7337db549d9502fff6472a19ae9ffd158283d"
 },
 "nbformat": 3,
 "nbformat_minor": 0,
 "worksheets": [
  {
   "cells": [
    {
     "cell_type": "code",
     "collapsed": false,
     "input": [
      "from applpy import *"
     ],
     "language": "python",
     "metadata": {},
     "outputs": [
      {
       "output_type": "stream",
       "stream": "stdout",
       "text": [
        "-----------------\n",
        "Welcome to ApplPy\n",
        "-----------------\n",
        "ApplPy Procedures\n",
        "\n",
        "Procedure Notation\n",
        "\n",
        "Capital letters are random variables\n",
        "Lower case letters are number\n",
        "Greek letters are parameters\n",
        "gX indicates a function\n",
        "n and r are positive integers where n>=r\n",
        "Square brackets [] denote a list\n",
        "Curly bracks {} denote an optional variable\n",
        "\n",
        "\n",
        "RV Class Procedures\n",
        "X.variate(n,x),X.verifyPDF()\n",
        "\n",
        "Functional Form Conversion\n",
        "CDF(X,{x}),CHF(X,{x}),HF(X,{x}),IDF(X,{x})\n",
        "PDF(X,{x}),SF(X,{x}),BootstrapRV([data])\n",
        "Convert(X,{x})\n",
        "\n",
        "Procedures on One Random Variable\n",
        "ConvolutionIID(X,n),CoefOfVar(X),ExpectedValue(X,gx)\n",
        "Kurtosis(X),MaximumIID(X,n),Mean(X),MGF(X)\n",
        "MinimumIID(X,n),OrderStat(X,n,r),ProductIID(X,n)\n",
        "Skewness(X),Transform(X,gX),Truncate(X,[x1,x2])\n",
        "Variance(X)\n",
        "\n",
        "Procedures on Two Random Variables\n",
        "Convolution(X,Y),Maximum(X,Y),Minimum(X,Y)\n",
        "Mixture([p1,p2],[X,Y]),Product(X,Y)\n",
        "\n",
        "Statistics Procedures\n",
        "KSTest(X,[sample]), MOM(X,[sample],[parameters])\n",
        "MLE(X,[sample],[parameters],censor)\n",
        "\n",
        "Utilities\n",
        "PlotDist(X,{[x1,x2]}),PlotDisplay([plotlist],{[x1,x2]})\n",
        "PPPlot(X,[sample]),QQPlot(X,[sample])\n",
        "\n",
        "Bayesian Procedures\n",
        "CredibleSet(X,alpha), JeffreysPrior(X,low,high,param)\n",
        "Posterior(X,Y,[data],param)\n",
        "PosteriorPredictive(X,Y,[data],param)\n",
        "\n",
        "Continuous Distributions\n",
        "ArcSinRV(),ArcTanRV(alpha,phi),BetaRV(alpha,beta)\n",
        "CauchyRV(a,alpha)ChiRV(N),ChiSquareRV(N),ErlangRV(theta,N)\n",
        "ErrorRV(mu,alpha,d),ErrorIIRV(a,b,c),ExponentialRV(theta)\n",
        "ExponentialPowerRV(theta,kappa),ExtremeValueRV(alpha,beta)\n",
        "FRV(n1,n2),GammaRV(theta,kappa),GompertzRV(theta,kappa)\n",
        "GeneralizedParetoRV(theta,delta,kappa),IDBRV(theta,delta,kappa)\n",
        "InverseGaussianRV(theta,mu),InverseGammaRV(alpha,beta)\n",
        "KSRV(n),LaPlaceRV(omega,theta), LogGammaRV(alpha,beta)\n",
        "LogisticRV(kappa,theta),LogLogisticRV(theta,kappa)\n",
        "LogNormalRV(mu,sigma),LomaxRV(kappa,theta)\n",
        "MakehamRV(theta,delta,kappa),MuthRV(kappa),NormalRV(mu,sigma)\n",
        "ParetoRV(theta,kappa),RayleighRV(theta),TriangularRV(a,b,c)\n",
        "TRV(N),UniformRV(a,b),WeibullRV(theta,kappa)\n",
        "\n",
        "Discrete Distributions\n",
        "BenfordRV(),BinomialRV(n,p),GeometricRV(p),PoissonRV(theta)\n",
        "IPython console for SymPy 0.7.5 (Python 2.7.6-64-bit) (ground types: python)\n",
        "\n",
        "These commands were executed:\n",
        ">>> from __future__ import division\n",
        ">>> from sympy import *\n",
        ">>> x, y, z, t = symbols('x y z t')\n",
        ">>> k, m, n = symbols('k m n', integer=True)\n",
        ">>> f, g, h = symbols('f g h', cls=Function)\n",
        "\n",
        "Documentation can be found at http://www.sympy.org\n"
       ]
      },
      {
       "output_type": "stream",
       "stream": "stderr",
       "text": [
        "WARNING: Hook shutdown_hook is deprecated. Use the atexit module instead.\n"
       ]
      }
     ],
     "prompt_number": 1
    },
    {
     "cell_type": "code",
     "collapsed": false,
     "input": [
      "# Exactness in Lieu of CLT"
     ],
     "language": "python",
     "metadata": {},
     "outputs": [],
     "prompt_number": 2
    },
    {
     "cell_type": "code",
     "collapsed": false,
     "input": [
      "X=ExponentialRV(1)"
     ],
     "language": "python",
     "metadata": {},
     "outputs": [],
     "prompt_number": 3
    },
    {
     "cell_type": "code",
     "collapsed": false,
     "input": [
      "n=3"
     ],
     "language": "python",
     "metadata": {},
     "outputs": [],
     "prompt_number": 4
    },
    {
     "cell_type": "code",
     "collapsed": false,
     "input": [
      "Y=ConvolutionIID(X,n)"
     ],
     "language": "python",
     "metadata": {},
     "outputs": [],
     "prompt_number": 5
    },
    {
     "cell_type": "code",
     "collapsed": false,
     "input": [
      "Exact=Transform(Y,[[x/n],[0,oo]])"
     ],
     "language": "python",
     "metadata": {},
     "outputs": [],
     "prompt_number": 6
    },
    {
     "cell_type": "code",
     "collapsed": false,
     "input": [
      "Exact.display()"
     ],
     "language": "python",
     "metadata": {},
     "outputs": [
      {
       "output_type": "stream",
       "stream": "stdout",
       "text": [
        "continuous pdf with support [0, oo]:\n"
       ]
      },
      {
       "latex": [
        "$$\\begin{bmatrix}\\frac{27 x^{2}}{2} e^{- 3 x}\\end{bmatrix}$$"
       ],
       "metadata": {},
       "output_type": "pyout",
       "prompt_number": 8,
       "text": [
        "\u23a1    2  -3\u22c5x\u23a4\n",
        "\u23a227\u22c5x \u22c5\u212f    \u23a5\n",
        "\u23a2\u2500\u2500\u2500\u2500\u2500\u2500\u2500\u2500\u2500\u2500\u2500\u23a5\n",
        "\u23a3     2     \u23a6"
       ]
      }
     ],
     "prompt_number": 8
    },
    {
     "cell_type": "code",
     "collapsed": false,
     "input": [
      "Exact.variate(s=.90)"
     ],
     "language": "python",
     "metadata": {},
     "outputs": [
      {
       "latex": [
        "$$\\begin{bmatrix}1.77410677927807\\end{bmatrix}$$"
       ],
       "metadata": {},
       "output_type": "pyout",
       "prompt_number": 10,
       "text": [
        "[1.77410677927807]"
       ]
      }
     ],
     "prompt_number": 10
    },
    {
     "cell_type": "code",
     "collapsed": false,
     "input": [
      "CLT=NormalRV(1,1/sqrt(n))"
     ],
     "language": "python",
     "metadata": {},
     "outputs": [],
     "prompt_number": 11
    },
    {
     "cell_type": "code",
     "collapsed": false,
     "input": [
      "CLT.variate(s=.90)"
     ],
     "language": "python",
     "metadata": {},
     "outputs": [
      {
       "latex": [
        "$$\\begin{bmatrix}1.73990414134756\\end{bmatrix}$$"
       ],
       "metadata": {},
       "output_type": "pyout",
       "prompt_number": 13,
       "text": [
        "[1.73990414134756]"
       ]
      }
     ],
     "prompt_number": 13
    },
    {
     "cell_type": "code",
     "collapsed": false,
     "input": [
      "X=ExponentialRV(1)\n",
      "sample_size=range(1,31)\n",
      "percentiles=[.90,.95,.99]\n",
      "header=['n','Percentile','Difference']\n",
      "table=[]\n",
      "for n in sample_size:\n",
      "    Y=ConvolutionIID(X,n)\n",
      "    Exact=Transform(Y,[[x/n],[0,oo]])\n",
      "    CLT=NormalRV(1,1/sqrt(n))\n",
      "    for i in percentiles:\n",
      "        exact_value=Exact.variate(s=i)[0]\n",
      "        clt_value=CLT.variate(s=i)[0]\n",
      "        difference=exact_value-clt_value\n",
      "        table.append([n,i,float(difference)])"
     ],
     "language": "python",
     "metadata": {},
     "outputs": [],
     "prompt_number": 15
    },
    {
     "cell_type": "code",
     "collapsed": false,
     "input": [
      "import pandas as pd"
     ],
     "language": "python",
     "metadata": {},
     "outputs": [],
     "prompt_number": 17
    },
    {
     "cell_type": "code",
     "collapsed": false,
     "input": [
      "exact_minus_clt=pd.DataFrame(table,columns=header)"
     ],
     "language": "python",
     "metadata": {},
     "outputs": [],
     "prompt_number": 18
    },
    {
     "cell_type": "code",
     "collapsed": false,
     "input": [
      "difference_by_pct=exact_minus_clt.pivot_table('Difference',rows='n',cols='Percentile',aggfunc='sum')"
     ],
     "language": "python",
     "metadata": {},
     "outputs": [],
     "prompt_number": 22
    },
    {
     "cell_type": "code",
     "collapsed": false,
     "input": [
      "difference_by_pct[:10]"
     ],
     "language": "python",
     "metadata": {},
     "outputs": [
      {
       "html": [
        "<div style=\"max-height:1000px;max-width:1500px;overflow:auto;\">\n",
        "<table border=\"1\" class=\"dataframe\">\n",
        "  <thead>\n",
        "    <tr style=\"text-align: right;\">\n",
        "      <th>Percentile</th>\n",
        "      <th>0.9</th>\n",
        "      <th>0.95</th>\n",
        "      <th>0.99</th>\n",
        "    </tr>\n",
        "    <tr>\n",
        "      <th>n</th>\n",
        "      <th></th>\n",
        "      <th></th>\n",
        "      <th></th>\n",
        "    </tr>\n",
        "  </thead>\n",
        "  <tbody>\n",
        "    <tr>\n",
        "      <th>1 </th>\n",
        "      <td> 0.021034</td>\n",
        "      <td> 0.350879</td>\n",
        "      <td> 1.278822</td>\n",
        "    </tr>\n",
        "    <tr>\n",
        "      <th>2 </th>\n",
        "      <td> 0.038666</td>\n",
        "      <td> 0.208845</td>\n",
        "      <td> 0.674200</td>\n",
        "    </tr>\n",
        "    <tr>\n",
        "      <th>3 </th>\n",
        "      <td> 0.034203</td>\n",
        "      <td> 0.148941</td>\n",
        "      <td> 0.458865</td>\n",
        "    </tr>\n",
        "    <tr>\n",
        "      <th>4 </th>\n",
        "      <td> 0.029420</td>\n",
        "      <td> 0.115987</td>\n",
        "      <td> 0.348105</td>\n",
        "    </tr>\n",
        "    <tr>\n",
        "      <th>5 </th>\n",
        "      <td> 0.025591</td>\n",
        "      <td> 0.095103</td>\n",
        "      <td> 0.280551</td>\n",
        "    </tr>\n",
        "    <tr>\n",
        "      <th>6 </th>\n",
        "      <td> 0.022588</td>\n",
        "      <td> 0.080664</td>\n",
        "      <td> 0.235020</td>\n",
        "    </tr>\n",
        "    <tr>\n",
        "      <th>7 </th>\n",
        "      <td> 0.020201</td>\n",
        "      <td> 0.070075</td>\n",
        "      <td> 0.202240</td>\n",
        "    </tr>\n",
        "    <tr>\n",
        "      <th>8 </th>\n",
        "      <td> 0.018267</td>\n",
        "      <td> 0.061971</td>\n",
        "      <td> 0.177507</td>\n",
        "    </tr>\n",
        "    <tr>\n",
        "      <th>9 </th>\n",
        "      <td> 0.016673</td>\n",
        "      <td> 0.055565</td>\n",
        "      <td> 0.158179</td>\n",
        "    </tr>\n",
        "    <tr>\n",
        "      <th>10</th>\n",
        "      <td> 0.015337</td>\n",
        "      <td> 0.050373</td>\n",
        "      <td> 0.142656</td>\n",
        "    </tr>\n",
        "  </tbody>\n",
        "</table>\n",
        "<p>10 rows \u00d7 3 columns</p>\n",
        "</div>"
       ],
       "metadata": {},
       "output_type": "pyout",
       "prompt_number": 24,
       "text": [
        "Percentile      0.90      0.95      0.99\n",
        "n                                       \n",
        "1           0.021034  0.350879  1.278822\n",
        "2           0.038666  0.208845  0.674200\n",
        "3           0.034203  0.148941  0.458865\n",
        "4           0.029420  0.115987  0.348105\n",
        "5           0.025591  0.095103  0.280551\n",
        "6           0.022588  0.080664  0.235020\n",
        "7           0.020201  0.070075  0.202240\n",
        "8           0.018267  0.061971  0.177507\n",
        "9           0.016673  0.055565  0.158179\n",
        "10          0.015337  0.050373  0.142656\n",
        "\n",
        "[10 rows x 3 columns]"
       ]
      }
     ],
     "prompt_number": 24
    },
    {
     "cell_type": "code",
     "collapsed": false,
     "input": [
      "difference_by_pct.plot(title='Convergence of CLT by Sample Size and Percentile')"
     ],
     "language": "python",
     "metadata": {},
     "outputs": [
      {
       "metadata": {},
       "output_type": "pyout",
       "prompt_number": 27,
       "text": [
        "<matplotlib.axes.AxesSubplot at 0xf41f890>"
       ]
      }
     ],
     "prompt_number": 27
    },
    {
     "cell_type": "code",
     "collapsed": false,
     "input": [],
     "language": "python",
     "metadata": {},
     "outputs": []
    }
   ],
   "metadata": {}
  }
 ]
}